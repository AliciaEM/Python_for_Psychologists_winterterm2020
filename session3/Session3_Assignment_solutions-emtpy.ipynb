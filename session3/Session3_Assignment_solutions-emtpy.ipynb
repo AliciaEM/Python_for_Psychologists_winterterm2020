{
 "cells": [
  {
   "cell_type": "markdown",
   "metadata": {},
   "source": [
    "# Python for Psychologists - Session 3\n",
    "## Homework assignment"
   ]
  },
  {
   "cell_type": "markdown",
   "metadata": {},
   "source": [
    "**Exercise 1**. \n",
    "\n",
    "Try to create a pd.Dataframe using a dictionary.\n",
    "\n",
    "Use series 1-3 as columns and set the index to some random safari visitors (i.e. strings)"
   ]
  },
  {
   "cell_type": "code",
   "execution_count": null,
   "metadata": {},
   "outputs": [],
   "source": [
    "import pandas as pd"
   ]
  },
  {
   "cell_type": "code",
   "execution_count": null,
   "metadata": {},
   "outputs": [],
   "source": [
    "s1 = pd.Series([23,45,75,81,45,11], name=\"otter\")\n",
    "\n",
    "s2 = pd.Series([51,94,12,23,91,10], name=\"sloth\")\n",
    "\n",
    "s3 = pd.Series([13,56,44,20,51,60], name=\"monkey\")"
   ]
  },
  {
   "cell_type": "code",
   "execution_count": null,
   "metadata": {},
   "outputs": [],
   "source": []
  },
  {
   "cell_type": "markdown",
   "metadata": {},
   "source": [
    "**Exercise 2.**\n",
    "\n",
    "Try to select two rows in our dataframe using ```.iloc``` and explicitly state, that you want to select all columns!"
   ]
  },
  {
   "cell_type": "code",
   "execution_count": null,
   "metadata": {},
   "outputs": [],
   "source": []
  },
  {
   "cell_type": "markdown",
   "metadata": {},
   "source": [
    "**Exercise 3**.\n",
    "\n",
    "Add a new column \"last_name\" @ the first position of your dataframe, using a single line of code! \n",
    "\n",
    "Use this list for the new column and think about how to add columns at a specific position. "
   ]
  },
  {
   "cell_type": "code",
   "execution_count": null,
   "metadata": {},
   "outputs": [],
   "source": [
    "last_name = [\"Mayer\", \"Baecker\", \"Ochsmann\", \"Friedrich\", \"Stark\", \"Kraemer\"]"
   ]
  },
  {
   "cell_type": "code",
   "execution_count": null,
   "metadata": {},
   "outputs": [],
   "source": []
  },
  {
   "cell_type": "code",
   "execution_count": null,
   "metadata": {},
   "outputs": [],
   "source": [
    "animals # check your new dataframe"
   ]
  },
  {
   "cell_type": "markdown",
   "metadata": {},
   "source": [
    "**Exercise 4**.\n",
    "\n",
    "Try to rename the first name of your first safari visitor. Instead of using ```.rename``` I ask you to do the following steps:\n",
    "\n",
    "- get the dataframe`s index and convert it to a list called \"index_list\" (think about how we converted an int to a str)\n",
    "- change the first entry of \"index_list\" using indexing \n",
    "- assign your updated index_list to your dataframe`s index\n",
    "- check your dataframe\n"
   ]
  },
  {
   "cell_type": "code",
   "execution_count": null,
   "metadata": {},
   "outputs": [],
   "source": [
    "index_list = "
   ]
  },
  {
   "cell_type": "markdown",
   "metadata": {},
   "source": [
    "**Exercise 5**.\n",
    "\n",
    "Use ```dataframe.loc``` to select all visitors based on the two conditional statements listed below and save it to a new dataframe and check whether it worked correctly:\n",
    "- last name ends with \"er\"\n",
    "- has seen at least 23 otters\n",
    "\n",
    "You might need to google for the first bullet point, hint: the code you are looking for should somehow check whether a \"string\" ends with a specific suffix"
   ]
  },
  {
   "cell_type": "code",
   "execution_count": null,
   "metadata": {},
   "outputs": [],
   "source": [
    "selection = "
   ]
  },
  {
   "cell_type": "code",
   "execution_count": null,
   "metadata": {},
   "outputs": [],
   "source": [
    "selection"
   ]
  },
  {
   "cell_type": "code",
   "execution_count": null,
   "metadata": {},
   "outputs": [],
   "source": []
  }
 ],
 "metadata": {
  "kernelspec": {
   "display_name": "Python 3",
   "language": "python",
   "name": "python3"
  },
  "language_info": {
   "codemirror_mode": {
    "name": "ipython",
    "version": 3
   },
   "file_extension": ".py",
   "mimetype": "text/x-python",
   "name": "python",
   "nbconvert_exporter": "python",
   "pygments_lexer": "ipython3",
   "version": "3.7.6"
  }
 },
 "nbformat": 4,
 "nbformat_minor": 2
}
