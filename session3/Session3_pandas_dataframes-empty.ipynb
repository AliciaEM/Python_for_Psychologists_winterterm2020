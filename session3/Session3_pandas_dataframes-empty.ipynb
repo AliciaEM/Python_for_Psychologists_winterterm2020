{
 "cells": [
  {
   "cell_type": "markdown",
   "metadata": {},
   "source": [
    "# Python for Psychologists - Session 3\n",
    "\n",
    "## handling data with dataframes & pandas"
   ]
  },
  {
   "cell_type": "markdown",
   "metadata": {},
   "source": [
    "### handling data \n",
    "\n",
    "In the last two sessions you learned about the basic principles, data types, variables and how to handle them ... but **most** of the time we do not just work with single list, tuples or whatsoever, but with a bunch of data arranged in logfiles, tables, .csv files ..\n",
    "\n",
    "\n",
    "Today we learn about using **pandas** to ... "
   ]
  },
  {
   "cell_type": "markdown",
   "metadata": {},
   "source": [
    "![pandasUrl](https://media.giphy.com/media/fAaBpMgGuyf96/giphy.gif \"pandas\")\n",
    "\n"
   ]
  },
  {
   "cell_type": "markdown",
   "metadata": {},
   "source": [
    "... well to actually handle our data. **Pandas** is your data's home and we can get familiar with our data by cleaning, transforming and analyzing it through pandas."
   ]
  },
  {
   "cell_type": "markdown",
   "metadata": {},
   "source": [
    "For getting started, we need to `import pandas as pd ` to use all its provided features. We use ***pd*** as an abbreviation, since we are a bit lazy here :) "
   ]
  },
  {
   "cell_type": "code",
   "execution_count": null,
   "metadata": {},
   "outputs": [],
   "source": [
    "import pandas as pd "
   ]
  },
  {
   "cell_type": "markdown",
   "metadata": {},
   "source": [
    "Pandas has two core components, i.e., ***series* and *dataframes***. A series is basically a single (labeled) \n",
    "column, whereas a dataframes is a \"multi-dimensional table\" made out of a collection of series. Both can contains different kind of data types - for now we will use integers .."
   ]
  },
  {
   "cell_type": "markdown",
   "metadata": {
    "collapsed": true
   },
   "source": [
    "----------\n",
    "**creating series**\n",
    "\n",
    "to create a series with any `element`, we can use:\n",
    "\n",
    "```python\n",
    "s = pd.Series([element1, element2, element3], name=\"anynameyouwant\")\n",
    "```\n",
    "\n",
    "Try now to create two series representing your two favorite fruits and 6 random integers and check one of them:\n"
   ]
  },
  {
   "cell_type": "code",
   "execution_count": null,
   "metadata": {},
   "outputs": [],
   "source": [
    "s1 = pd.Series([3,4,7,8,4,1], name=\"apples\")\n",
    "\n",
    "s2 = pd.Series([5,9,12,2,9,10], name=\"bananas\")\n",
    "\n",
    "s1"
   ]
  },
  {
   "cell_type": "markdown",
   "metadata": {},
   "source": [
    "As we can see, there is one column (as described above) containing the assigned values, but wait .. why is there another column? \n",
    "\n",
    "The first column contains the index, in our case we just used the pandas default, that starts again with 0 (remember why?). Consequently, we can again use ```series[1] ``` for indexing the 2 value (row) in our series. \n"
   ]
  },
  {
   "cell_type": "markdown",
   "metadata": {},
   "source": [
    "----------\n",
    "**create dataframes from scratch**\n",
    "\n",
    "Usually in data analysis we somehow end up with a .csv file from our experiment, but firstly we will learn how to create dataframes from scratch. There are many different ways and this notebook is certainly not exhaustive:\n",
    "\n",
    "- we can use a dictionary to combine our two fruit series s1 and s2 to get a dataframe \"shoppinglist\" by using the ```pd.Dataframe(some_data) ``` Dataframe Builder. Here each (key:value) corresponds to a column: "
   ]
  },
  {
   "cell_type": "code",
   "execution_count": null,
   "metadata": {},
   "outputs": [],
   "source": [
    "fruits= {...} # first we need to arrange our series in a dictionary \n",
    "\n",
    "shoppinglist = ... # pd.Dataframe(data) conveniently builds a nice looking dataframe for us \n",
    "\n",
    "shoppinglist # show our shoppinglist "
   ]
  },
  {
   "cell_type": "markdown",
   "metadata": {},
   "source": [
    "- another way to combine two series to get a dataframe is ``` pd.concat([seriesA, seriesB]) ``` which concatenates your series. Let´s try to recreate the result displayed above:"
   ]
  },
  {
   "cell_type": "code",
   "execution_count": null,
   "metadata": {},
   "outputs": [],
   "source": [
    "pd.concat([...])"
   ]
  },
  {
   "cell_type": "markdown",
   "metadata": {},
   "source": [
    "Oops, something went wrong! Do you have an idea what happened? \n",
    "\n",
    "\n",
    "\n",
    "**KEEP IN MIND!** \n",
    "(pandas) functions do have a default setting, which might sometimes behave different than expected. \n",
    "\n",
    "Remember?  By checking ```pd.concat? ``` in a code cell we see, that the default option for concatenating two objects is along the axis=0, i.e. along the rows! However, we want to recreate the nice looking dataframe above, which means we need to concat the objects along the column axis (i.e., axis=1) and specify it respectively. Let's see whether this works:"
   ]
  },
  {
   "cell_type": "code",
   "execution_count": null,
   "metadata": {},
   "outputs": [],
   "source": [
    "shoppinglist = pd.concat([s1,s2], ...)\n",
    "shoppinglist"
   ]
  },
  {
   "cell_type": "markdown",
   "metadata": {},
   "source": [
    "Right now, we are still using the pandas default for our index (i.e., numbers). Let´s say, we want to use customer names as an index:\n",
    "\n",
    "```python\n",
    "dataframe.set_index([list_of_anything_with_equal_length_to_dataframe])\n",
    "```\n",
    "\n",
    "Let´s create a list of 6 customers and replace the current indices with this list to see how many fruits each of them is buying at the Wochenmarkt:"
   ]
  },
  {
   "cell_type": "code",
   "execution_count": null,
   "metadata": {},
   "outputs": [],
   "source": [
    "customer=[\"Victoria\", \"Rhonda\", \"Elli\", \"Rebecca\", \"Lucie\", \"Isa\"]"
   ]
  },
  {
   "cell_type": "code",
   "execution_count": null,
   "metadata": {},
   "outputs": [],
   "source": [
    "shoppinglist = ....\n",
    "shoppinglist"
   ]
  },
  {
   "cell_type": "markdown",
   "metadata": {},
   "source": [
    "btw: if you want to check how long your dataframe is, just use ```len(dataframe)``` - pretty easy, huh?"
   ]
  },
  {
   "cell_type": "markdown",
   "metadata": {},
   "source": [
    "**Adding columns and rows**\n",
    "\n",
    "*Columns*\n",
    "\n",
    "The Wochenmarkt is about to close and all our customers are thrilled by all the last-minute sale offers. All of them are about to buy some plums.\n",
    "\n",
    "Again, many roads lead to Rome and we will just cover some of them:\n",
    "\n",
    "- declare a pd.series that is to be converted into a column by just creating a new ``` pd.Series ``` with an equal length and use ``` dataframe[\"new_column_name\"] = pd.Series ```\n"
   ]
  },
  {
   "cell_type": "code",
   "execution_count": null,
   "metadata": {},
   "outputs": [],
   "source": [
    "s3 = .... ## does not work if indeces do not correspond\n",
    "\n",
    "...\n",
    "\n",
    "shoppinglist"
   ]
  },
  {
   "cell_type": "markdown",
   "metadata": {},
   "source": [
    "Since series also contain a column that contains our index (if we don´t define it, pandas will use its default!) the index needs to correspond to the index in our dataframe, otherwise we will create a new column with undefined values (i.e. **N**ot **a** **N**umber, NaN values)"
   ]
  },
  {
   "cell_type": "markdown",
   "metadata": {},
   "source": [
    "- this also works with lists and might be a little bit more convenient ``` dataframe[\"new_column_name\"] = [some_list_with_equal_length]``` since lists do not contain an index\n",
    "\n",
    "Try to add a new column \"lemon\" with random values for each customer!"
   ]
  },
  {
   "cell_type": "code",
   "execution_count": null,
   "metadata": {},
   "outputs": [],
   "source": [
    "shoppinglist[\"lemon\"] = ...\n",
    "shoppinglist"
   ]
  },
  {
   "cell_type": "markdown",
   "metadata": {},
   "source": [
    "- if you want more flexibility, you could also use ```dataframe.insert``` to add a list of values to a new column at a specific position just like this: \n",
    "\n",
    "```python\n",
    "dataframe.insert(position, \"column_name\", [some_list], True) ## omitting TRUE would raise an error when your \n",
    "                                                             ## column name already exists in your dataframe\n",
    "```\n",
    "\n"
   ]
  },
  {
   "cell_type": "markdown",
   "metadata": {},
   "source": [
    "**adding rows**\n",
    "\n",
    "Oh hey there, we just met Norbert, who is currently doing a smoothie-detox treatment and do you know what? He also likes apples, bananas, oranges, plums and lemons a lot! Let´s add him to our little dataframe!"
   ]
  },
  {
   "cell_type": "markdown",
   "metadata": {},
   "source": [
    "Again, we can use ```pd.DataFrame```to create a new, single-row dataframe for norbert, that contains values for each of our fruits. To combine our two dataframes, our column names in both dataframes need to be identical! \n",
    "\n",
    "```python\n",
    "\n",
    "new_dataframe = pd.DataFrame([some_list_with_equal_length_to_old_df], columns=old_dataframe)\n",
    "\n",
    "\n",
    "```"
   ]
  },
  {
   "cell_type": "markdown",
   "metadata": {},
   "source": [
    "Try to create a new single-row dataframe called Norbert, that contains values for each fruit and uses the column name information of our shoppinglist dataframe!\n",
    "\n",
    "We can get our column (also index) labels by using ```dataframe.columns/.index```"
   ]
  },
  {
   "cell_type": "code",
   "execution_count": null,
   "metadata": {},
   "outputs": [],
   "source": [
    "norbert = ...\n",
    "norbert"
   ]
  },
  {
   "cell_type": "markdown",
   "metadata": {},
   "source": [
    "Let´s add Norbert to our shoppinglist dataframe! You are already familiar with ```.append ``` for adding new elements to list!\n",
    "We can do just the same in our case\n",
    "```python\n",
    "\n",
    "dataframe.append(new_dataframe)\n",
    "\n",
    "```\n",
    "\n",
    "Lets append Norbert to our dataframe and check our new dataframe!"
   ]
  },
  {
   "cell_type": "code",
   "execution_count": null,
   "metadata": {},
   "outputs": [],
   "source": [
    "shoppinglist = ...\n",
    "shoppinglist"
   ]
  },
  {
   "cell_type": "markdown",
   "metadata": {},
   "source": [
    "------- \n",
    "\n",
    "We already learned at the beginning of this session that we can use \n",
    "\n",
    "```pd.concat([element1, element2])``` \n",
    "\n",
    "\n",
    "for combining two elements. We can use the same command to combine our two dataframes! Keep in mind, that you might have to specify the axis along which we want to add our new dataframe/row"
   ]
  },
  {
   "cell_type": "markdown",
   "metadata": {},
   "source": [
    "------- "
   ]
  },
  {
   "cell_type": "markdown",
   "metadata": {},
   "source": [
    "**renaming**\n",
    "\n",
    "What a pity! We forgot to update our index - Norberts name is missing - let´s better change that, before he gets any identity issues!\n",
    "\n",
    "Do you have an idea how to solve this issue? You essentially already know all the commands to beat the riddler! \n",
    "\n",
    "One could \n",
    "- update our customer list\n",
    "- set our index or assign the updated list to dataframe.index\n",
    "- check our dataframe"
   ]
  },
  {
   "cell_type": "markdown",
   "metadata": {},
   "source": [
    "- we can also use ```dataframe.rename(index/column = {\"old_value:\"new_value\"}, inplace=True) ``` to solve the issue in just one single line of code. We define ```inplace=True``` which directly allows us to assign the modification to our dataframe. If we stick to the default (i.e. ```False ```) we would need to assign dataframe = dataframe to \"save\" our modifications\n",
    "\n",
    "Let´s try to change one of your customer names:"
   ]
  },
  {
   "cell_type": "code",
   "execution_count": null,
   "metadata": {},
   "outputs": [],
   "source": [
    "..."
   ]
  },
  {
   "cell_type": "code",
   "execution_count": null,
   "metadata": {},
   "outputs": [],
   "source": [
    "shoppinglist"
   ]
  },
  {
   "cell_type": "markdown",
   "metadata": {},
   "source": [
    "Besides adding and renaming stuff in our dataframe, we could also delete rows or columns by using ```drop``` :\n",
    "```python\n",
    "\n",
    "dataframe.drop(index=[\"element1\",\"element2\"])\n",
    "dataframe.drop(columns=[\"element1\",\"element2\"])\n",
    "```\n",
    "\n"
   ]
  },
  {
   "cell_type": "markdown",
   "metadata": {},
   "source": [
    "Try to delete the first customer in your list:"
   ]
  },
  {
   "cell_type": "code",
   "execution_count": null,
   "metadata": {},
   "outputs": [],
   "source": [
    "shoppinglist = shoppinglist....\n",
    "shoppinglist"
   ]
  },
  {
   "cell_type": "markdown",
   "metadata": {},
   "source": [
    "**indexing**\n",
    "\n",
    "We already know from previous sessions, that we can use indexing to assess the first element of a list, the third letter of a string and so on ... in our dataframe universe we can just do the same\n",
    "\n",
    "*indexing columns or rows*\n",
    "\n",
    "- the easiest way to index a colum is by using ```dataframe[\"column\"]``` for one column and ```dataframe[[\"column1\", \"column2\"]] ```for two columns.\n",
    "\n",
    "Try to index your last two colums:"
   ]
  },
  {
   "cell_type": "code",
   "execution_count": null,
   "metadata": {},
   "outputs": [],
   "source": [
    "shoppinglist[...]"
   ]
  },
  {
   "cell_type": "markdown",
   "metadata": {},
   "source": [
    "When the index operator ```[]``` is passed a str or int, it attempts to find a column with this particular name and return it as a series ... however if we pass a **slice** to the operator, it changes its behavior and selects rows instead. We can do this with *int* as well *str* !\n",
    "\n",
    "Try to index all rows expect the fist and last one by using an \"int-slicing\":"
   ]
  },
  {
   "cell_type": "code",
   "execution_count": null,
   "metadata": {},
   "outputs": [],
   "source": [
    "shoppinglist[...]"
   ]
  },
  {
   "cell_type": "markdown",
   "metadata": {},
   "source": [
    "As the simple index operator ```[] ``` is not that flexible, we will have a look at two other ways to index rows and columns! Today we will get to know two different approaches \n",
    "\n",
    "- selecting rows and columns by **number** using ```dataframe.iloc[row_selection,column_selection]```\n",
    "\n",
    "Try to only select the first two rows and all columns:\n",
    "\n"
   ]
  },
  {
   "cell_type": "code",
   "execution_count": null,
   "metadata": {},
   "outputs": [],
   "source": [
    "shoppinglist.... # \":\" refers to \"all\""
   ]
  },
  {
   "cell_type": "markdown",
   "metadata": {},
   "source": [
    "Try to select a subset of rows and columns: "
   ]
  },
  {
   "cell_type": "code",
   "execution_count": null,
   "metadata": {},
   "outputs": [],
   "source": [
    "shoppinglist....."
   ]
  },
  {
   "cell_type": "markdown",
   "metadata": {},
   "source": [
    "- selecting rows and colums by label/index \n",
    "- selecting rows with a boolean \n",
    "\n",
    "using ```dataframe.loc[row_selection,column_selection]```\n",
    "\n",
    "Try to select two rows by using the (customer) index:\n"
   ]
  },
  {
   "cell_type": "code",
   "execution_count": null,
   "metadata": {},
   "outputs": [],
   "source": [
    "shoppinglist..."
   ]
  },
  {
   "cell_type": "markdown",
   "metadata": {},
   "source": [
    "Try to select three customers and two columns of your choice!"
   ]
  },
  {
   "cell_type": "code",
   "execution_count": null,
   "metadata": {},
   "outputs": [],
   "source": [
    "shoppinglist..."
   ]
  },
  {
   "cell_type": "markdown",
   "metadata": {},
   "source": [
    "Let´s imagine that you are particularly interested in customers that bought more than 8 bananas or exactly 2 lemons. Such questions and row selecting can be easily done by using conditional selections with booleans in ```dataframe.loc[selection]```. Remember what booleans are about? \n",
    "\n",
    "If we want select only those customers who bought less than 8 bananas:"
   ]
  },
  {
   "cell_type": "code",
   "execution_count": null,
   "metadata": {},
   "outputs": [],
   "source": [
    "shoppinglist.loc[...]"
   ]
  },
  {
   "cell_type": "markdown",
   "metadata": {},
   "source": [
    "Let´s see how this works: if we use ```dataframe[selection] == some value``` we get a **Pandas Series** with TRUE or FALSE for all our rows: "
   ]
  },
  {
   "cell_type": "code",
   "execution_count": null,
   "metadata": {},
   "outputs": [],
   "source": [
    "..."
   ]
  },
  {
   "cell_type": "markdown",
   "metadata": {},
   "source": [
    "You can also combine two or more conditional statements using ``` .loc(conditional) & (conditional)```"
   ]
  },
  {
   "cell_type": "code",
   "execution_count": null,
   "metadata": {},
   "outputs": [],
   "source": [
    "shoppinglist.loc[...]"
   ]
  }
 ],
 "metadata": {
  "kernelspec": {
   "display_name": "Python 3",
   "language": "python",
   "name": "python3"
  },
  "language_info": {
   "codemirror_mode": {
    "name": "ipython",
    "version": 3
   },
   "file_extension": ".py",
   "mimetype": "text/x-python",
   "name": "python",
   "nbconvert_exporter": "python",
   "pygments_lexer": "ipython3",
   "version": "3.7.6"
  }
 },
 "nbformat": 4,
 "nbformat_minor": 2
}
