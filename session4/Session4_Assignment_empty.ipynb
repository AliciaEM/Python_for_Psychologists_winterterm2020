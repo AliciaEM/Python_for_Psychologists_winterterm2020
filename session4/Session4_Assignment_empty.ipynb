{
 "cells": [
  {
   "cell_type": "markdown",
   "metadata": {},
   "source": [
    "# Python for Psychologists - Session 4\n",
    "## Homework assignment"
   ]
  },
  {
   "cell_type": "markdown",
   "metadata": {},
   "source": [
    "**Exercise 0** Write a for loop that iterates over the dictionary `cute_animals` and prints out each key (i.e. the animal) and its respective value (i.e. 1-3). For the latter one, think about how one can get the value from a dictionary, e.g. by indexing.\n",
    "\n",
    "The results should look like:\n",
    "\n",
    "```\n",
    "otter\n",
    "1\n",
    "dogs\n",
    "2\n",
    "piglets\n",
    "3\n",
    "```"
   ]
  },
  {
   "cell_type": "code",
   "execution_count": null,
   "metadata": {},
   "outputs": [],
   "source": [
    "cute_animals = {\"otters\":1, \"dogs\": 2, \"piglets\":3}"
   ]
  },
  {
   "cell_type": "code",
   "execution_count": null,
   "metadata": {},
   "outputs": [],
   "source": []
  },
  {
   "cell_type": "markdown",
   "metadata": {},
   "source": [
    "**Exercise 0.5** Fill in the missing parts of the code below. Use a for loop that iterates over ```range(50)``` and calculate the square for each number (```number**2```) and append it to the list ```squared```. \n",
    "\n",
    "Write your for loop in **two** lines! "
   ]
  },
  {
   "cell_type": "code",
   "execution_count": null,
   "metadata": {},
   "outputs": [],
   "source": [
    "import matplotlib.pyplot as plt\n",
    "%matplotlib inline\n",
    "\n",
    "squared = []\n",
    "\n",
    "for ....\n",
    "    ....\n",
    "    \n",
    "plt.plot([*range(50)],squared)    "
   ]
  },
  {
   "cell_type": "markdown",
   "metadata": {},
   "source": [
    "**Exercise 1.** Write a for loop that iterates through the list below. Whenever the type of the element is `str`, print \"It's a string!\", whenever it is `int` print \"It's an integer!\". Note: don't put `str` and `int` in quoation marks!"
   ]
  },
  {
   "cell_type": "code",
   "execution_count": null,
   "metadata": {},
   "outputs": [],
   "source": [
    "my_list = [1, \"gin\", 2, \"beer\", 3, 4, 5]"
   ]
  },
  {
   "cell_type": "code",
   "execution_count": null,
   "metadata": {},
   "outputs": [],
   "source": [
    "... "
   ]
  },
  {
   "cell_type": "markdown",
   "metadata": {},
   "source": [
    "**Exercise 2.** Write a for loop that iterates through the list below. Whenever the element is \"otter\", increase the value of the variable x (already defined below) by 1. After the for-loop is done, print the value of x.\n",
    "\n",
    "Hint: increasing x by one -> ```x += 1```"
   ]
  },
  {
   "cell_type": "code",
   "execution_count": null,
   "metadata": {},
   "outputs": [],
   "source": [
    "x=0\n",
    "animals = [\"otter\", \"dog\", \"piglet\", \"otter\", \"duckling\", \"otter\", \"hedgehog\", \"kitten\", \"otter\", \"otter\"]\n",
    "\n",
    "...\n",
    "...\n",
    "...\n",
    "\n",
    "print(x)"
   ]
  },
  {
   "cell_type": "markdown",
   "metadata": {},
   "source": [
    "By the way: we could have also used the following code (but then you wouldn't have practiced your loop-writing skills ;) ):\n",
    "```python\n",
    "animals.count(\"otter\")\n",
    "```\n",
    "\n",
    "The function \"count\" counts how many times a certain value occurs in a list."
   ]
  },
  {
   "cell_type": "markdown",
   "metadata": {},
   "source": [
    "**Exercise 4.**\n",
    "Use a list comprehension to create a new list which only contains those elements of the list below whose first letter is \"a\" by indexing."
   ]
  },
  {
   "cell_type": "code",
   "execution_count": null,
   "metadata": {},
   "outputs": [],
   "source": [
    "bands = [\"aerosmith\", \"black sabbath\", \"abba\", \"creedence clearwater revival\", \"a-ha\"]"
   ]
  },
  {
   "cell_type": "code",
   "execution_count": null,
   "metadata": {},
   "outputs": [],
   "source": [
    "..."
   ]
  },
  {
   "cell_type": "markdown",
   "metadata": {},
   "source": [
    "**Exercise 5.**\n",
    "\n",
    "Find all of the integer numbers from 1-100 that have a 3 in them. I would suggest to use `range()` and a list comprehension, but you can also do it with a for loop (but an additional step). Hint: Think about what type `range()` returns and whether it might be useful to convert it to another type that allows you to check whether it contains \"3\"\n",
    "\n",
    "The results should look like:\n",
    "\n",
    "```[3, 13, 23, 30, 31, 32, 33, 34, 35, 36, 37, 38, 39, 43, 53, 63, 73, 83, 93]```"
   ]
  },
  {
   "cell_type": "code",
   "execution_count": null,
   "metadata": {},
   "outputs": [],
   "source": [
    "..."
   ]
  },
  {
   "cell_type": "code",
   "execution_count": null,
   "metadata": {},
   "outputs": [],
   "source": [
    "...     "
   ]
  }
 ],
 "metadata": {
  "kernelspec": {
   "display_name": "Python 3",
   "language": "python",
   "name": "python3"
  },
  "language_info": {
   "codemirror_mode": {
    "name": "ipython",
    "version": 3
   },
   "file_extension": ".py",
   "mimetype": "text/x-python",
   "name": "python",
   "nbconvert_exporter": "python",
   "pygments_lexer": "ipython3",
   "version": "3.7.6"
  }
 },
 "nbformat": 4,
 "nbformat_minor": 2
}
