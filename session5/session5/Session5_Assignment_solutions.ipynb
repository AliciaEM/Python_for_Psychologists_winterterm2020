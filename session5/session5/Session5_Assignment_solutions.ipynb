{
 "cells": [
  {
   "cell_type": "markdown",
   "metadata": {},
   "source": [
    "# Python for Psychologists - Session 5\n",
    "## Homework assignment\n",
    "\n",
    "\n",
    "### Please complete >= 6 exercises"
   ]
  },
  {
   "cell_type": "markdown",
   "metadata": {},
   "source": [
    "**Exercise 1.**\n",
    "\n",
    "Write a function that returns an input string 4 times. Remember that we can do basic \"math\" with strings. "
   ]
  },
  {
   "cell_type": "code",
   "execution_count": 28,
   "metadata": {},
   "outputs": [
    {
     "data": {
      "text/plain": [
       "'hello World hello World hello World hello World '"
      ]
     },
     "execution_count": 28,
     "metadata": {},
     "output_type": "execute_result"
    }
   ],
   "source": [
    "def echo(some_string):\n",
    "    return some_string*4\n",
    "\n",
    "echo(\"hello World \")"
   ]
  },
  {
   "cell_type": "markdown",
   "metadata": {},
   "source": [
    "**Exercise 2.**\n",
    "\n",
    "Write a function that takes an integer as input and returns the squared integer."
   ]
  },
  {
   "cell_type": "code",
   "execution_count": 56,
   "metadata": {},
   "outputs": [
    {
     "data": {
      "text/plain": [
       "144"
      ]
     },
     "execution_count": 56,
     "metadata": {},
     "output_type": "execute_result"
    }
   ],
   "source": [
    "def square(some_integer):\n",
    "    return some_integer*some_integer\n",
    "\n",
    "square(12)"
   ]
  },
  {
   "cell_type": "markdown",
   "metadata": {},
   "source": [
    "**Exercise 3.**\n",
    "\n",
    "Write a function that accepts an integer as well as another integer number (keyword: \"power\") and that returns the first integer to the power of the second integer. Make a power of 2 the default value. Afterwards use the function to calculate `3**2` and `3**4`."
   ]
  },
  {
   "cell_type": "code",
   "execution_count": 5,
   "metadata": {},
   "outputs": [
    {
     "name": "stdout",
     "output_type": "stream",
     "text": [
      "9\n",
      "81\n"
     ]
    }
   ],
   "source": [
    "def to_the_power(value, power=2):\n",
    "    return value**power\n",
    "\n",
    "print(to_the_power(value=3, power=2))\n",
    "print(to_the_power(value=3, power=4))"
   ]
  },
  {
   "cell_type": "markdown",
   "metadata": {},
   "source": [
    "**Exercise 4.**\n",
    "\n",
    "Write a function that accepts a list of elements and checks if the length of each list element is equal or longer than 4. If an element has 4 or more letters, let your function print the element + a string saying *has more than 4 letters* "
   ]
  },
  {
   "cell_type": "code",
   "execution_count": 48,
   "metadata": {},
   "outputs": [
    {
     "name": "stdout",
     "output_type": "stream",
     "text": [
      "butter has more than 4 letters\n",
      "sahne has more than 4 letters\n",
      "afrika has more than 4 letters\n"
     ]
    }
   ],
   "source": [
    "def longer_than(some_list):\n",
    "    for i in some_list:\n",
    "        if len(i) >= 4:\n",
    "            print(i + \" has more than 4 letters\")\n",
    "        \n",
    "longer_than([\"eis\", \"butter\", \"sahne\", \"afrika\"])        "
   ]
  },
  {
   "cell_type": "markdown",
   "metadata": {},
   "source": [
    "**Exercise 5**\n",
    "\n",
    "Write a function that accepts a list of integers as an input and returns a list of the even numbers in the list only. Use a list comprehension.\n",
    "\n",
    "Hint: Even and uneven numbers can be identified by calculating the modulo. The modulo returns the remainder of a Euclidean division (i.e., a division with remainder). For example, the modulo of `7 mod 3` (the integer division of 7 by 3) would be 1, because `3 * 2 = 6` which leaves 1. At the same time, `9 mod 3` will result in 0, as `3 * 3 = 9` and there is no remainder of the integer division. If a number is even, then `X mod 2` will result in 0, but it won't for uneven numbers. In Python, the modulo operation can be written as `x % 2`, that is `%` is the modulo operator. "
   ]
  },
  {
   "cell_type": "code",
   "execution_count": 14,
   "metadata": {},
   "outputs": [
    {
     "data": {
      "text/plain": [
       "[2, 4, 30]"
      ]
     },
     "execution_count": 14,
     "metadata": {},
     "output_type": "execute_result"
    }
   ],
   "source": [
    "def even_only(list_of_numbers):\n",
    "    result = [x for x in list_of_numbers if x % 2 == 0]\n",
    "    return result\n",
    "\n",
    "even_only([2,4,3,3,9,13,33,21,30])"
   ]
  },
  {
   "cell_type": "markdown",
   "metadata": {},
   "source": [
    "**Exercise 6.**\n",
    "\n",
    "Write a function that returns the *sum* of all integers inside a list. Of course, Python already has a functon implemented that does this (`sum()`). Anyway, in order to get some more experience, try to write a function of your own that sums up all numbers of a list without using the built-in `sum()` function.\n",
    "\n",
    "Fill in the missing parts of the function."
   ]
  },
  {
   "cell_type": "code",
   "execution_count": 1,
   "metadata": {},
   "outputs": [
    {
     "data": {
      "text/plain": [
       "17"
      ]
     },
     "execution_count": 1,
     "metadata": {},
     "output_type": "execute_result"
    }
   ],
   "source": [
    "def calc_sum(list_of_numbers):\n",
    "    s = 0\n",
    "    for number in list_of_numbers:\n",
    "        s += number\n",
    "    return s\n",
    "\n",
    "calc_sum([5,2,3,7])"
   ]
  },
  {
   "cell_type": "markdown",
   "metadata": {},
   "source": [
    "**Exercise 7.**\n",
    "\n",
    "Write a function that accepts a list and returns a list of the unique elements inside the list."
   ]
  },
  {
   "cell_type": "code",
   "execution_count": 87,
   "metadata": {},
   "outputs": [
    {
     "data": {
      "text/plain": [
       "[1, 3, 4, 5, 6, 8]"
      ]
     },
     "execution_count": 87,
     "metadata": {},
     "output_type": "execute_result"
    }
   ],
   "source": [
    "def unique(some_list):\n",
    "    return list(set(some_list))\n",
    "\n",
    "unique([1,1,1,5,6,3,6,6,4,5,3,8])"
   ]
  },
  {
   "cell_type": "markdown",
   "metadata": {},
   "source": [
    "**Exercise 8.**\n",
    "\n",
    "Write a function that takes a list of numbers and calculates either the mean or the median, depending on a keyword argument of the function. Make \"mean\" the default setting.\n",
    "\n",
    "To speed things up, we can simply import the mean() and the median() functions from numpy and use them for this exercise."
   ]
  },
  {
   "cell_type": "code",
   "execution_count": 2,
   "metadata": {
    "collapsed": true
   },
   "outputs": [],
   "source": [
    "from numpy import mean, median"
   ]
  },
  {
   "cell_type": "code",
   "execution_count": 4,
   "metadata": {},
   "outputs": [
    {
     "data": {
      "text/plain": [
       "7.5"
      ]
     },
     "execution_count": 4,
     "metadata": {},
     "output_type": "execute_result"
    }
   ],
   "source": [
    "def central_tendency(values, method=mean):\n",
    "    return method(values)\n",
    "\n",
    "central_tendency([1,2,3,4,5,6,7,8,9,6,10,13,10,10,9,8], method=median)\n"
   ]
  }
 ],
 "metadata": {
  "kernelspec": {
   "display_name": "Python 3",
   "language": "python",
   "name": "python3"
  },
  "language_info": {
   "codemirror_mode": {
    "name": "ipython",
    "version": 3
   },
   "file_extension": ".py",
   "mimetype": "text/x-python",
   "name": "python",
   "nbconvert_exporter": "python",
   "pygments_lexer": "ipython3",
   "version": "3.7.6"
  }
 },
 "nbformat": 4,
 "nbformat_minor": 2
}
