{
 "cells": [
  {
   "cell_type": "markdown",
   "metadata": {},
   "source": [
    "# Python for Psychologists - Session 5\n",
    "## Functions"
   ]
  },
  {
   "cell_type": "markdown",
   "metadata": {},
   "source": [
    "### Function definition and return values\n",
    "\n",
    "We have already met functions like `len()` or `print()`. A function usually *does* something. The elements we pass to it are called *parameters* or *arguments*. Luckily, we are not dependent on Python providing exactly those functions we need. We can built our own functions! The syntax is very simple:\n",
    "\n",
    "```python\n",
    "def function_name(argument1, argument2):\n",
    "        # stuff I want \n",
    "        # the function \n",
    "        # to do\n",
    "        return some_output # optional; see below...\n",
    "```\n",
    "\n",
    "The indentation (with tab) is, again, very important! \n",
    "\n"
   ]
  },
  {
   "cell_type": "markdown",
   "metadata": {},
   "source": [
    "Define a function that adds its two arguments. Call the function \"adder\"."
   ]
  },
  {
   "cell_type": "code",
   "execution_count": 1,
   "metadata": {
    "collapsed": true
   },
   "outputs": [],
   "source": [
    "def adder(summand1, summand2):\n",
    "    result = summand1 + summand2\n",
    "    return result"
   ]
  },
  {
   "cell_type": "code",
   "execution_count": 2,
   "metadata": {},
   "outputs": [
    {
     "data": {
      "text/plain": [
       "4"
      ]
     },
     "execution_count": 2,
     "metadata": {},
     "output_type": "execute_result"
    }
   ],
   "source": [
    "adder(1,3)"
   ]
  },
  {
   "cell_type": "markdown",
   "metadata": {},
   "source": [
    "Let's see what happens if we comment out the last line (removing the `return()` command). "
   ]
  },
  {
   "cell_type": "code",
   "execution_count": 3,
   "metadata": {
    "collapsed": true
   },
   "outputs": [],
   "source": [
    "def adder(summand1, summand2):\n",
    "    result = summand1+summand2\n",
    "    # return result"
   ]
  },
  {
   "cell_type": "code",
   "execution_count": 4,
   "metadata": {
    "collapsed": true
   },
   "outputs": [],
   "source": [
    "adder(1,3)"
   ]
  },
  {
   "cell_type": "markdown",
   "metadata": {},
   "source": [
    "Apparently nothing! Although, internally, the variable \"result\" has been created, we have no access to it, because we didn't ask the function to return it to us. \n",
    "\n",
    "If a function returns something, hence, depends on how it has been defined. We already know two functions that do the same thing with one major difference being that one of them returns something and the other one does not:\n",
    "*my_list.pop()* and *my_list.remove()*\n",
    "\n",
    "Of course, we also know that the `pop()` function uses the index of the element, while `remove()` expects the content if what is to be removed. Let's ignore this difference for a second and concentrate on whether the functions return something or not.\n",
    "\n",
    "Let's take a look at this again. \n",
    "In one cell, create a list with numbers from 0 to 4 and use the `pop()` function to delete the second element from the list.\n",
    "In a second cell, look at \"my_list\" again. \n",
    "\n",
    "Then, in yet another cell, create the same list again and use the `remove()` function to remove the element with the value 1. Again, in a second cell, take a look at \"my_list\" again."
   ]
  },
  {
   "cell_type": "code",
   "execution_count": 5,
   "metadata": {},
   "outputs": [
    {
     "data": {
      "text/plain": [
       "1"
      ]
     },
     "execution_count": 5,
     "metadata": {},
     "output_type": "execute_result"
    }
   ],
   "source": [
    "my_list=[0,1,2,3,4,5]\n",
    "my_list.pop(1)"
   ]
  },
  {
   "cell_type": "code",
   "execution_count": 6,
   "metadata": {},
   "outputs": [
    {
     "data": {
      "text/plain": [
       "[0, 2, 3, 4, 5]"
      ]
     },
     "execution_count": 6,
     "metadata": {},
     "output_type": "execute_result"
    }
   ],
   "source": [
    "my_list"
   ]
  },
  {
   "cell_type": "code",
   "execution_count": 7,
   "metadata": {
    "collapsed": true
   },
   "outputs": [],
   "source": [
    "my_list=[0,1,2,3,4,5]\n",
    "my_list.remove(1)"
   ]
  },
  {
   "cell_type": "code",
   "execution_count": 8,
   "metadata": {},
   "outputs": [
    {
     "data": {
      "text/plain": [
       "[0, 2, 3, 4, 5]"
      ]
     },
     "execution_count": 8,
     "metadata": {},
     "output_type": "execute_result"
    }
   ],
   "source": [
    "my_list"
   ]
  },
  {
   "cell_type": "markdown",
   "metadata": {},
   "source": [
    "What have we observed? Although only the `pop()` function returned a value (which in this case was the the value stored at the second position), *both functions did the exact same thing* independent of whether they had a return value or not."
   ]
  },
  {
   "cell_type": "markdown",
   "metadata": {},
   "source": [
    "Another way of accessing a value from within a function is to use the `print()` function. However, when using `print()` we won't be able to assign the result to a new variable as the print-function simply prints the result to the output line. Copy the function \"adder\" from above and replace the \"return...\" line by a line that prints the result to the console/out cell."
   ]
  },
  {
   "cell_type": "code",
   "execution_count": 9,
   "metadata": {
    "collapsed": true
   },
   "outputs": [],
   "source": [
    "def adder(summand1, summand2):\n",
    "    result = summand1+summand2\n",
    "    print(result)"
   ]
  },
  {
   "cell_type": "code",
   "execution_count": 10,
   "metadata": {},
   "outputs": [
    {
     "name": "stdout",
     "output_type": "stream",
     "text": [
      "4\n"
     ]
    }
   ],
   "source": [
    "adder(1,3)"
   ]
  },
  {
   "cell_type": "markdown",
   "metadata": {},
   "source": [
    "### Keyword arguments and default values\n",
    "\n",
    "By setting default values, we can call functions without further specification of (some of) its parameters. We can add a default value to a function parameter like this:\n",
    "\n",
    "```python\n",
    "def some_function(argument1 = \"default_value\"):\n",
    "    # something the \n",
    "    # function should\n",
    "    # be doing\n",
    "    return something # optional\n",
    "```\n",
    "\n",
    "Like this, the function above needs no parameters passed to it and will work anyway, simply because we have given to it some value to work with in the definition.\n",
    "\n",
    "Try to define a function that takes a number and subtracts 5 from it. If asked to, the function can also subtract some other user-defined number. Give the function the name \"subtractor\". Then try the function without giving any further specification of the number being subtracted. Afterwards also try to modify the number subtracted from the input number when calling the function."
   ]
  },
  {
   "cell_type": "code",
   "execution_count": 39,
   "metadata": {
    "collapsed": true
   },
   "outputs": [],
   "source": [
    "def subtractor(minuend, subtrahend = 5):\n",
    "    return minuend - subtrahend"
   ]
  },
  {
   "cell_type": "code",
   "execution_count": 36,
   "metadata": {},
   "outputs": [
    {
     "data": {
      "text/plain": [
       "5"
      ]
     },
     "execution_count": 36,
     "metadata": {},
     "output_type": "execute_result"
    }
   ],
   "source": [
    "subtractor(10)"
   ]
  },
  {
   "cell_type": "code",
   "execution_count": 40,
   "metadata": {},
   "outputs": [
    {
     "data": {
      "text/plain": [
       "8"
      ]
     },
     "execution_count": 40,
     "metadata": {},
     "output_type": "execute_result"
    }
   ],
   "source": [
    "subtractor(10,2)"
   ]
  },
  {
   "cell_type": "markdown",
   "metadata": {},
   "source": [
    "In the \"subtractor\" function above we had to enter the minuend and the subtrahend values in a certain order that corresponded to the order of the arguments given to the function during definition. Instead of passing arguments solely by their **position** they can also be passed by **keywords**, or by a mixture of both:\n",
    "\n",
    "```python\n",
    "def some_function(arg1, arg2, arg3):\n",
    "    return arg1+arg2+arg3\n",
    "\n",
    "some_function(value_arg1, arg3 = value_arg3, arg2 = value_arg2) \n",
    "\n",
    "```\n",
    "\n",
    "\n",
    "In the code line above, the function `some_function()` was called with a positional argument, and then two keyword arguments. \n",
    "\n",
    "Take the subtractor function and pass it two keyword arguments in a different order than defined (i.e., first pass the keyword argument for the subtrahend, then pass the keyword argument for the minuend)."
   ]
  },
  {
   "cell_type": "code",
   "execution_count": 42,
   "metadata": {},
   "outputs": [
    {
     "data": {
      "text/plain": [
       "7"
      ]
     },
     "execution_count": 42,
     "metadata": {},
     "output_type": "execute_result"
    }
   ],
   "source": [
    "subtractor(subtrahend = 3, minuend = 10)"
   ]
  },
  {
   "cell_type": "markdown",
   "metadata": {},
   "source": [
    "### Local and global variables\n",
    "\n",
    "Variable that have been defined inside a function are so called \"local variables\". \"Local\" refers to the fact, that variables that have been defined inside a function cannot be accessed from \"outside\", i.e., from the main part of the script outside the function definition. Let's illustrate this. Use your `adder()` function with two random integer inputs. Look at the function definition again. As you can see we defined a variable \"return\" inside the function. After execution of the function, however, we won't be able to access the variable \"result\". Try this! "
   ]
  },
  {
   "cell_type": "code",
   "execution_count": 4,
   "metadata": {
    "scrolled": true
   },
   "outputs": [
    {
     "ename": "NameError",
     "evalue": "name 'result' is not defined",
     "output_type": "error",
     "traceback": [
      "\u001b[0;31m---------------------------------------------------------------------------\u001b[0m",
      "\u001b[0;31mNameError\u001b[0m                                 Traceback (most recent call last)",
      "\u001b[0;32m<ipython-input-4-0ac921c19f1a>\u001b[0m in \u001b[0;36m<module>\u001b[0;34m\u001b[0m\n\u001b[0;32m----> 1\u001b[0;31m \u001b[0mresult\u001b[0m\u001b[0;34m\u001b[0m\u001b[0;34m\u001b[0m\u001b[0m\n\u001b[0m",
      "\u001b[0;31mNameError\u001b[0m: name 'result' is not defined"
     ]
    }
   ],
   "source": [
    "result"
   ]
  },
  {
   "cell_type": "markdown",
   "metadata": {},
   "source": [
    "As you can see, there is no variable called `return` on the global level that we could access from outside the function. The only thing that `return` does for us is to return the *value* of the variable `result`, however, it doesn't return the object/variable per se. \n",
    "\n",
    "In principle, it is possible to define and change global variable inside a function definition for them to be accessible outside the function again. The keyword for this is `global`:\n",
    "\n",
    "```python\n",
    "def fun():\n",
    "    global some_global_variable_name\n",
    "    # do something\n",
    "```\n",
    "\n",
    "We won´t cover that here, but read [here](https://www.w3schools.com/python/gloss_python_global_variables.asp) for further information."
   ]
  },
  {
   "cell_type": "markdown",
   "metadata": {},
   "source": [
    "### Unlimited number of arguments\n",
    "\n",
    "If we want a function to be able to accept any number of arguments we can use `*args`. The name \"args\", by the way, is again variable and could be anything. Important is the preceding \"`*`\"."
   ]
  },
  {
   "cell_type": "code",
   "execution_count": 84,
   "metadata": {},
   "outputs": [
    {
     "data": {
      "text/plain": [
       "15"
      ]
     },
     "execution_count": 84,
     "metadata": {},
     "output_type": "execute_result"
    }
   ],
   "source": [
    "def new_adder(*args):\n",
    "    x = 0\n",
    "    for a in args:\n",
    "        x = x + a\n",
    "    return x\n",
    "\n",
    "new_adder(1,2,3,4,5)"
   ]
  },
  {
   "cell_type": "markdown",
   "metadata": {},
   "source": [
    "We can also allow for an unlimited number of keyword arguments:\n"
   ]
  },
  {
   "cell_type": "code",
   "execution_count": 88,
   "metadata": {},
   "outputs": [
    {
     "name": "stdout",
     "output_type": "stream",
     "text": [
      "otter = cutest\n",
      "dogs = extremely cute\n"
     ]
    }
   ],
   "source": [
    "def some_function(**kwargs):\n",
    "    for a, b in kwargs.items(): # kwargs is basically a dictionary\n",
    "        print(str(a) + \" = \" + str(b))\n",
    "    \n",
    "some_function(otter=\"cutest\", dogs=\"extremely cute\")"
   ]
  }
 ],
 "metadata": {
  "kernelspec": {
   "display_name": "Python 3",
   "language": "python",
   "name": "python3"
  },
  "language_info": {
   "codemirror_mode": {
    "name": "ipython",
    "version": 3
   },
   "file_extension": ".py",
   "mimetype": "text/x-python",
   "name": "python",
   "nbconvert_exporter": "python",
   "pygments_lexer": "ipython3",
   "version": "3.7.6"
  }
 },
 "nbformat": 4,
 "nbformat_minor": 2
}
