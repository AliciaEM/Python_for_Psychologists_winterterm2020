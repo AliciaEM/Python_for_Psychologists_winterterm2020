{
 "cells": [
  {
   "cell_type": "markdown",
   "metadata": {},
   "source": [
    "# Python for Psychologists - Session 2\n",
    "## Homework assignment"
   ]
  },
  {
   "cell_type": "markdown",
   "metadata": {},
   "source": [
    "**Exercise 0.**"
   ]
  },
  {
   "cell_type": "markdown",
   "metadata": {},
   "source": [
    "Use the dictionary below to complete the sentence, i.e., fill \".....\" with something meaningful. Hint: think about the ```types()``` you want to combine in the sentence and why it might (not) work"
   ]
  },
  {
   "cell_type": "code",
   "execution_count": null,
   "metadata": {},
   "outputs": [],
   "source": [
    "cute_animals = {\"otter\": 1, \"dogs\": 2}"
   ]
  },
  {
   "cell_type": "code",
   "execution_count": null,
   "metadata": {},
   "outputs": [],
   "source": [
    "\"Dogs are one of my most favourite animals, acutally they are my \"+ \"....\" +\"th most favourite animals.\""
   ]
  },
  {
   "cell_type": "markdown",
   "metadata": {},
   "source": [
    "**Exercise 1**. \n",
    "\n",
    "Below you can find a dictionary representing a small data base of people. Add up the ages of all three people using indexing. Think about what *people* contains at first and index one of its keys ... and go on from there (hint: double indexing)\n",
    "\n",
    "```python \n",
    "\n",
    "len(people) = ? \n",
    "\n",
    "```"
   ]
  },
  {
   "cell_type": "code",
   "execution_count": null,
   "metadata": {},
   "outputs": [],
   "source": [
    "people = {\"Roswitha Rosenstein\":{\"age\": 68, \"gender\":\"female\", \"marital_status\":\"married\"}, \"Jürgen Jäck\":{\"age\": 46, \"gender\":\"male\", \"marital_status\":\"divorced\"}, \"Ulla Ulrich\":{\"age\": 38, \"gender\":\"female\", \"marital_status\":\"single\"}}"
   ]
  },
  {
   "cell_type": "markdown",
   "metadata": {},
   "source": [
    "**Exercise 2**.\n",
    "\n",
    "Below there is a list with duplicate values. Create a list that contains only the unqiue values, that is, a list without any of the values being duplicated. Do so without simply creating a new list and typing in the numbers manually. Also try to solve the problem without deleting or replacing any of the items of the list ;) "
   ]
  },
  {
   "cell_type": "code",
   "execution_count": null,
   "metadata": {},
   "outputs": [],
   "source": [
    "duplicate_list = [1,1,4,7,3,5,6,4,4,9,11,0,11]"
   ]
  },
  {
   "cell_type": "code",
   "execution_count": null,
   "metadata": {},
   "outputs": [],
   "source": []
  },
  {
   "cell_type": "markdown",
   "metadata": {},
   "source": [
    "**Exercise 3**. \n",
    "\n",
    "Try to change the third position in the list of the tuple below. Hint: double indexing"
   ]
  },
  {
   "cell_type": "code",
   "execution_count": null,
   "metadata": {},
   "outputs": [],
   "source": [
    "my_tuple = (1,[\"I\", \"am\", \"a\", \"list\", \"inside\", \"a\", \"tuple\"])"
   ]
  },
  {
   "cell_type": "markdown",
   "metadata": {},
   "source": [
    "**Exercise 4.**\n",
    "\n",
    "Try to execute the code below. In a markdown cell, explain why there is an error."
   ]
  },
  {
   "cell_type": "code",
   "execution_count": null,
   "metadata": {},
   "outputs": [],
   "source": [
    "some_dict = {my_tuple: 3}"
   ]
  },
  {
   "cell_type": "markdown",
   "metadata": {},
   "source": [
    "Explain here by double-clicking ... "
   ]
  },
  {
   "cell_type": "markdown",
   "metadata": {},
   "source": [
    "**Exercise 5**.\n",
    "\n",
    "Check if the element \"inside\" is part of the tuple `my_tuple`. Afterwards, check if the element `1` is part of my_tuple."
   ]
  },
  {
   "cell_type": "code",
   "execution_count": null,
   "metadata": {},
   "outputs": [],
   "source": []
  },
  {
   "cell_type": "code",
   "execution_count": null,
   "metadata": {},
   "outputs": [],
   "source": []
  },
  {
   "cell_type": "markdown",
   "metadata": {},
   "source": [
    "**Exercise 6**.\n",
    "\n",
    "Check if the item (\"I am a key\", \"I am its value\") is part of the dictionary below. If you have no clue, go back to the session script, and if that doesn't help: google it! :) "
   ]
  },
  {
   "cell_type": "code",
   "execution_count": null,
   "metadata": {},
   "outputs": [],
   "source": [
    "my_dict = {\"blablabla\": \"I am a value\", \"I am a key\": \"blublublu\"}"
   ]
  },
  {
   "cell_type": "code",
   "execution_count": null,
   "metadata": {},
   "outputs": [],
   "source": []
  },
  {
   "cell_type": "code",
   "execution_count": null,
   "metadata": {},
   "outputs": [],
   "source": []
  },
  {
   "cell_type": "markdown",
   "metadata": {},
   "source": [
    "### Exercise 7: please read and try to cause each error at least once on purpose :) \n",
    "\n",
    "\n",
    "### Errors\n",
    "... are a good thing! (well, sometimes...) Usually, they tell you relatively precisely what is going wrong. Python is not a mean machinery that tries to annoy you by throwing errors at random, but it actually gives you a hint which part of your code needs some changes.\n",
    "\n",
    "Let's get to know some errors you might encounter:\n",
    "- **SyntaxError:** Also called \"parsing error\". This error occurs while Python is trying to decifer your code. Python, like any other language has a certain syntax, which we need to stick to in order for Python to understand your code. Whenever we violate this syntactic structure we get a SyntaxError.\n",
    "- **NameError:** NameErrors occur when we try to access the value of a variable/an object that we haven't even defined yet. It's like talking to your family about some fellow student of yours that they don't know. \"Yesterday, I went binge-drinking with Tonya.\" Of course, their response will be \"Who is Tonya?\". Well, Python will ask you the same question when referring to an object that you have never introduced.\n",
    "- **IndexError:** We can cause an IndexError when trying to access an element in an subscriptable object (basically objects that are containers which allow for indexing at all) that does not exist. For example, we would cause an IndexError by asking Python to return the value of the 6th element of a list that is only 3 elements long.\n",
    "- **TypeError:** TypeErrors occur whenever we try to do some operation with a data type that just doesn't fit the operation, like trying to do something with two strings that can only be done with two integers or floats. \n",
    "- **KeyError:** These errors usually occur, when we try to access the value of a key, although the key does not exist in the dictionary.\n",
    "- **ZeroDivisionError:** This kind of error is more than intuitive. It is raised simply when we try to divide a number by 0, which is mathematically not defined.\n",
    "\n",
    "Nothing is more fun than causing errors on purpose!"
   ]
  },
  {
   "cell_type": "code",
   "execution_count": null,
   "metadata": {},
   "outputs": [],
   "source": []
  }
 ],
 "metadata": {
  "kernelspec": {
   "display_name": "Python 3",
   "language": "python",
   "name": "python3"
  },
  "language_info": {
   "codemirror_mode": {
    "name": "ipython",
    "version": 3
   },
   "file_extension": ".py",
   "mimetype": "text/x-python",
   "name": "python",
   "nbconvert_exporter": "python",
   "pygments_lexer": "ipython3",
   "version": "3.7.6"
  }
 },
 "nbformat": 4,
 "nbformat_minor": 2
}
