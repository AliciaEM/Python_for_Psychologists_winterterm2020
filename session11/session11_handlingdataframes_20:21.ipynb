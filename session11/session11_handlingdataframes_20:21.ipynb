{
  "nbformat": 4,
  "nbformat_minor": 0,
  "metadata": {
    "kernelspec": {
      "display_name": "Python 3",
      "language": "python",
      "name": "python3"
    },
    "language_info": {
      "codemirror_mode": {
        "name": "ipython",
        "version": 3
      },
      "file_extension": ".py",
      "mimetype": "text/x-python",
      "name": "python",
      "nbconvert_exporter": "python",
      "pygments_lexer": "ipython3",
      "version": "3.6.9"
    },
    "colab": {
      "name": "session7_handlingdataframes_complete.ipynb",
      "provenance": []
    }
  },
  "cells": [
    {
      "cell_type": "markdown",
      "metadata": {
        "id": "lMR-7vIvS4LW"
      },
      "source": [
        "# Python for Psychologists - Session 11\n",
        "\n",
        "## handling dataframes"
      ]
    },
    {
      "cell_type": "markdown",
      "metadata": {
        "id": "dy0y-G2yS4Le"
      },
      "source": [
        "From earlier, we are already familiar with handling data in **pandas** and how to create dataframes from scratch. However, most of the time, we don´t create our dataframe on our own, but rather get a table (i.e. a .xls or .csv or .txt) with data. Today we want to cover some basic steps from reading, cleaning and processing data."
      ]
    },
    {
      "cell_type": "markdown",
      "metadata": {
        "id": "UodxcT3ITito"
      },
      "source": [
        "**However, since we are using Google Colab**, we need to upload our data here to make it accessible. This is not necessary when using juypter notebook launched from e.g. Anaconda on your machine.\n",
        "\n",
        "First of all, we need to use \n",
        "\n",
        "```\n",
        "files.upload()\n",
        "```\n",
        "to prompt the following:\n",
        "\n",
        "\n"
      ]
    },
    {
      "cell_type": "code",
      "metadata": {
        "colab": {
          "resources": {
            "http://localhost:8080/nbextensions/google.colab/files.js": {
              "data": "Ly8gQ29weXJpZ2h0IDIwMTcgR29vZ2xlIExMQwovLwovLyBMaWNlbnNlZCB1bmRlciB0aGUgQXBhY2hlIExpY2Vuc2UsIFZlcnNpb24gMi4wICh0aGUgIkxpY2Vuc2UiKTsKLy8geW91IG1heSBub3QgdXNlIHRoaXMgZmlsZSBleGNlcHQgaW4gY29tcGxpYW5jZSB3aXRoIHRoZSBMaWNlbnNlLgovLyBZb3UgbWF5IG9idGFpbiBhIGNvcHkgb2YgdGhlIExpY2Vuc2UgYXQKLy8KLy8gICAgICBodHRwOi8vd3d3LmFwYWNoZS5vcmcvbGljZW5zZXMvTElDRU5TRS0yLjAKLy8KLy8gVW5sZXNzIHJlcXVpcmVkIGJ5IGFwcGxpY2FibGUgbGF3IG9yIGFncmVlZCB0byBpbiB3cml0aW5nLCBzb2Z0d2FyZQovLyBkaXN0cmlidXRlZCB1bmRlciB0aGUgTGljZW5zZSBpcyBkaXN0cmlidXRlZCBvbiBhbiAiQVMgSVMiIEJBU0lTLAovLyBXSVRIT1VUIFdBUlJBTlRJRVMgT1IgQ09ORElUSU9OUyBPRiBBTlkgS0lORCwgZWl0aGVyIGV4cHJlc3Mgb3IgaW1wbGllZC4KLy8gU2VlIHRoZSBMaWNlbnNlIGZvciB0aGUgc3BlY2lmaWMgbGFuZ3VhZ2UgZ292ZXJuaW5nIHBlcm1pc3Npb25zIGFuZAovLyBsaW1pdGF0aW9ucyB1bmRlciB0aGUgTGljZW5zZS4KCi8qKgogKiBAZmlsZW92ZXJ2aWV3IEhlbHBlcnMgZm9yIGdvb2dsZS5jb2xhYiBQeXRob24gbW9kdWxlLgogKi8KKGZ1bmN0aW9uKHNjb3BlKSB7CmZ1bmN0aW9uIHNwYW4odGV4dCwgc3R5bGVBdHRyaWJ1dGVzID0ge30pIHsKICBjb25zdCBlbGVtZW50ID0gZG9jdW1lbnQuY3JlYXRlRWxlbWVudCgnc3BhbicpOwogIGVsZW1lbnQudGV4dENvbnRlbnQgPSB0ZXh0OwogIGZvciAoY29uc3Qga2V5IG9mIE9iamVjdC5rZXlzKHN0eWxlQXR0cmlidXRlcykpIHsKICAgIGVsZW1lbnQuc3R5bGVba2V5XSA9IHN0eWxlQXR0cmlidXRlc1trZXldOwogIH0KICByZXR1cm4gZWxlbWVudDsKfQoKLy8gTWF4IG51bWJlciBvZiBieXRlcyB3aGljaCB3aWxsIGJlIHVwbG9hZGVkIGF0IGEgdGltZS4KY29uc3QgTUFYX1BBWUxPQURfU0laRSA9IDEwMCAqIDEwMjQ7CgpmdW5jdGlvbiBfdXBsb2FkRmlsZXMoaW5wdXRJZCwgb3V0cHV0SWQpIHsKICBjb25zdCBzdGVwcyA9IHVwbG9hZEZpbGVzU3RlcChpbnB1dElkLCBvdXRwdXRJZCk7CiAgY29uc3Qgb3V0cHV0RWxlbWVudCA9IGRvY3VtZW50LmdldEVsZW1lbnRCeUlkKG91dHB1dElkKTsKICAvLyBDYWNoZSBzdGVwcyBvbiB0aGUgb3V0cHV0RWxlbWVudCB0byBtYWtlIGl0IGF2YWlsYWJsZSBmb3IgdGhlIG5leHQgY2FsbAogIC8vIHRvIHVwbG9hZEZpbGVzQ29udGludWUgZnJvbSBQeXRob24uCiAgb3V0cHV0RWxlbWVudC5zdGVwcyA9IHN0ZXBzOwoKICByZXR1cm4gX3VwbG9hZEZpbGVzQ29udGludWUob3V0cHV0SWQpOwp9CgovLyBUaGlzIGlzIHJvdWdobHkgYW4gYXN5bmMgZ2VuZXJhdG9yIChub3Qgc3VwcG9ydGVkIGluIHRoZSBicm93c2VyIHlldCksCi8vIHdoZXJlIHRoZXJlIGFyZSBtdWx0aXBsZSBhc3luY2hyb25vdXMgc3RlcHMgYW5kIHRoZSBQeXRob24gc2lkZSBpcyBnb2luZwovLyB0byBwb2xsIGZvciBjb21wbGV0aW9uIG9mIGVhY2ggc3RlcC4KLy8gVGhpcyB1c2VzIGEgUHJvbWlzZSB0byBibG9jayB0aGUgcHl0aG9uIHNpZGUgb24gY29tcGxldGlvbiBvZiBlYWNoIHN0ZXAsCi8vIHRoZW4gcGFzc2VzIHRoZSByZXN1bHQgb2YgdGhlIHByZXZpb3VzIHN0ZXAgYXMgdGhlIGlucHV0IHRvIHRoZSBuZXh0IHN0ZXAuCmZ1bmN0aW9uIF91cGxvYWRGaWxlc0NvbnRpbnVlKG91dHB1dElkKSB7CiAgY29uc3Qgb3V0cHV0RWxlbWVudCA9IGRvY3VtZW50LmdldEVsZW1lbnRCeUlkKG91dHB1dElkKTsKICBjb25zdCBzdGVwcyA9IG91dHB1dEVsZW1lbnQuc3RlcHM7CgogIGNvbnN0IG5leHQgPSBzdGVwcy5uZXh0KG91dHB1dEVsZW1lbnQubGFzdFByb21pc2VWYWx1ZSk7CiAgcmV0dXJuIFByb21pc2UucmVzb2x2ZShuZXh0LnZhbHVlLnByb21pc2UpLnRoZW4oKHZhbHVlKSA9PiB7CiAgICAvLyBDYWNoZSB0aGUgbGFzdCBwcm9taXNlIHZhbHVlIHRvIG1ha2UgaXQgYXZhaWxhYmxlIHRvIHRoZSBuZXh0CiAgICAvLyBzdGVwIG9mIHRoZSBnZW5lcmF0b3IuCiAgICBvdXRwdXRFbGVtZW50Lmxhc3RQcm9taXNlVmFsdWUgPSB2YWx1ZTsKICAgIHJldHVybiBuZXh0LnZhbHVlLnJlc3BvbnNlOwogIH0pOwp9CgovKioKICogR2VuZXJhdG9yIGZ1bmN0aW9uIHdoaWNoIGlzIGNhbGxlZCBiZXR3ZWVuIGVhY2ggYXN5bmMgc3RlcCBvZiB0aGUgdXBsb2FkCiAqIHByb2Nlc3MuCiAqIEBwYXJhbSB7c3RyaW5nfSBpbnB1dElkIEVsZW1lbnQgSUQgb2YgdGhlIGlucHV0IGZpbGUgcGlja2VyIGVsZW1lbnQuCiAqIEBwYXJhbSB7c3RyaW5nfSBvdXRwdXRJZCBFbGVtZW50IElEIG9mIHRoZSBvdXRwdXQgZGlzcGxheS4KICogQHJldHVybiB7IUl0ZXJhYmxlPCFPYmplY3Q+fSBJdGVyYWJsZSBvZiBuZXh0IHN0ZXBzLgogKi8KZnVuY3Rpb24qIHVwbG9hZEZpbGVzU3RlcChpbnB1dElkLCBvdXRwdXRJZCkgewogIGNvbnN0IGlucHV0RWxlbWVudCA9IGRvY3VtZW50LmdldEVsZW1lbnRCeUlkKGlucHV0SWQpOwogIGlucHV0RWxlbWVudC5kaXNhYmxlZCA9IGZhbHNlOwoKICBjb25zdCBvdXRwdXRFbGVtZW50ID0gZG9jdW1lbnQuZ2V0RWxlbWVudEJ5SWQob3V0cHV0SWQpOwogIG91dHB1dEVsZW1lbnQuaW5uZXJIVE1MID0gJyc7CgogIGNvbnN0IHBpY2tlZFByb21pc2UgPSBuZXcgUHJvbWlzZSgocmVzb2x2ZSkgPT4gewogICAgaW5wdXRFbGVtZW50LmFkZEV2ZW50TGlzdGVuZXIoJ2NoYW5nZScsIChlKSA9PiB7CiAgICAgIHJlc29sdmUoZS50YXJnZXQuZmlsZXMpOwogICAgfSk7CiAgfSk7CgogIGNvbnN0IGNhbmNlbCA9IGRvY3VtZW50LmNyZWF0ZUVsZW1lbnQoJ2J1dHRvbicpOwogIGlucHV0RWxlbWVudC5wYXJlbnRFbGVtZW50LmFwcGVuZENoaWxkKGNhbmNlbCk7CiAgY2FuY2VsLnRleHRDb250ZW50ID0gJ0NhbmNlbCB1cGxvYWQnOwogIGNvbnN0IGNhbmNlbFByb21pc2UgPSBuZXcgUHJvbWlzZSgocmVzb2x2ZSkgPT4gewogICAgY2FuY2VsLm9uY2xpY2sgPSAoKSA9PiB7CiAgICAgIHJlc29sdmUobnVsbCk7CiAgICB9OwogIH0pOwoKICAvLyBXYWl0IGZvciB0aGUgdXNlciB0byBwaWNrIHRoZSBmaWxlcy4KICBjb25zdCBmaWxlcyA9IHlpZWxkIHsKICAgIHByb21pc2U6IFByb21pc2UucmFjZShbcGlja2VkUHJvbWlzZSwgY2FuY2VsUHJvbWlzZV0pLAogICAgcmVzcG9uc2U6IHsKICAgICAgYWN0aW9uOiAnc3RhcnRpbmcnLAogICAgfQogIH07CgogIGNhbmNlbC5yZW1vdmUoKTsKCiAgLy8gRGlzYWJsZSB0aGUgaW5wdXQgZWxlbWVudCBzaW5jZSBmdXJ0aGVyIHBpY2tzIGFyZSBub3QgYWxsb3dlZC4KICBpbnB1dEVsZW1lbnQuZGlzYWJsZWQgPSB0cnVlOwoKICBpZiAoIWZpbGVzKSB7CiAgICByZXR1cm4gewogICAgICByZXNwb25zZTogewogICAgICAgIGFjdGlvbjogJ2NvbXBsZXRlJywKICAgICAgfQogICAgfTsKICB9CgogIGZvciAoY29uc3QgZmlsZSBvZiBmaWxlcykgewogICAgY29uc3QgbGkgPSBkb2N1bWVudC5jcmVhdGVFbGVtZW50KCdsaScpOwogICAgbGkuYXBwZW5kKHNwYW4oZmlsZS5uYW1lLCB7Zm9udFdlaWdodDogJ2JvbGQnfSkpOwogICAgbGkuYXBwZW5kKHNwYW4oCiAgICAgICAgYCgke2ZpbGUudHlwZSB8fCAnbi9hJ30pIC0gJHtmaWxlLnNpemV9IGJ5dGVzLCBgICsKICAgICAgICBgbGFzdCBtb2RpZmllZDogJHsKICAgICAgICAgICAgZmlsZS5sYXN0TW9kaWZpZWREYXRlID8gZmlsZS5sYXN0TW9kaWZpZWREYXRlLnRvTG9jYWxlRGF0ZVN0cmluZygpIDoKICAgICAgICAgICAgICAgICAgICAgICAgICAgICAgICAgICAgJ24vYSd9IC0gYCkpOwogICAgY29uc3QgcGVyY2VudCA9IHNwYW4oJzAlIGRvbmUnKTsKICAgIGxpLmFwcGVuZENoaWxkKHBlcmNlbnQpOwoKICAgIG91dHB1dEVsZW1lbnQuYXBwZW5kQ2hpbGQobGkpOwoKICAgIGNvbnN0IGZpbGVEYXRhUHJvbWlzZSA9IG5ldyBQcm9taXNlKChyZXNvbHZlKSA9PiB7CiAgICAgIGNvbnN0IHJlYWRlciA9IG5ldyBGaWxlUmVhZGVyKCk7CiAgICAgIHJlYWRlci5vbmxvYWQgPSAoZSkgPT4gewogICAgICAgIHJlc29sdmUoZS50YXJnZXQucmVzdWx0KTsKICAgICAgfTsKICAgICAgcmVhZGVyLnJlYWRBc0FycmF5QnVmZmVyKGZpbGUpOwogICAgfSk7CiAgICAvLyBXYWl0IGZvciB0aGUgZGF0YSB0byBiZSByZWFkeS4KICAgIGxldCBmaWxlRGF0YSA9IHlpZWxkIHsKICAgICAgcHJvbWlzZTogZmlsZURhdGFQcm9taXNlLAogICAgICByZXNwb25zZTogewogICAgICAgIGFjdGlvbjogJ2NvbnRpbnVlJywKICAgICAgfQogICAgfTsKCiAgICAvLyBVc2UgYSBjaHVua2VkIHNlbmRpbmcgdG8gYXZvaWQgbWVzc2FnZSBzaXplIGxpbWl0cy4gU2VlIGIvNjIxMTU2NjAuCiAgICBsZXQgcG9zaXRpb24gPSAwOwogICAgd2hpbGUgKHBvc2l0aW9uIDwgZmlsZURhdGEuYnl0ZUxlbmd0aCkgewogICAgICBjb25zdCBsZW5ndGggPSBNYXRoLm1pbihmaWxlRGF0YS5ieXRlTGVuZ3RoIC0gcG9zaXRpb24sIE1BWF9QQVlMT0FEX1NJWkUpOwogICAgICBjb25zdCBjaHVuayA9IG5ldyBVaW50OEFycmF5KGZpbGVEYXRhLCBwb3NpdGlvbiwgbGVuZ3RoKTsKICAgICAgcG9zaXRpb24gKz0gbGVuZ3RoOwoKICAgICAgY29uc3QgYmFzZTY0ID0gYnRvYShTdHJpbmcuZnJvbUNoYXJDb2RlLmFwcGx5KG51bGwsIGNodW5rKSk7CiAgICAgIHlpZWxkIHsKICAgICAgICByZXNwb25zZTogewogICAgICAgICAgYWN0aW9uOiAnYXBwZW5kJywKICAgICAgICAgIGZpbGU6IGZpbGUubmFtZSwKICAgICAgICAgIGRhdGE6IGJhc2U2NCwKICAgICAgICB9LAogICAgICB9OwogICAgICBwZXJjZW50LnRleHRDb250ZW50ID0KICAgICAgICAgIGAke01hdGgucm91bmQoKHBvc2l0aW9uIC8gZmlsZURhdGEuYnl0ZUxlbmd0aCkgKiAxMDApfSUgZG9uZWA7CiAgICB9CiAgfQoKICAvLyBBbGwgZG9uZS4KICB5aWVsZCB7CiAgICByZXNwb25zZTogewogICAgICBhY3Rpb246ICdjb21wbGV0ZScsCiAgICB9CiAgfTsKfQoKc2NvcGUuZ29vZ2xlID0gc2NvcGUuZ29vZ2xlIHx8IHt9OwpzY29wZS5nb29nbGUuY29sYWIgPSBzY29wZS5nb29nbGUuY29sYWIgfHwge307CnNjb3BlLmdvb2dsZS5jb2xhYi5fZmlsZXMgPSB7CiAgX3VwbG9hZEZpbGVzLAogIF91cGxvYWRGaWxlc0NvbnRpbnVlLAp9Owp9KShzZWxmKTsK",
              "ok": true,
              "headers": [
                [
                  "content-type",
                  "application/javascript"
                ]
              ],
              "status": 200,
              "status_text": "OK"
            }
          },
          "base_uri": "https://localhost:8080/",
          "height": 70
        },
        "id": "DS-PosTpT2Pa",
        "outputId": "ec7a235b-961a-4a87-a50b-029e6c1eb056"
      },
      "source": [
        "from google.colab import files\n",
        "import os \n",
        "uploaded = files.upload()"
      ],
      "execution_count": 1,
      "outputs": [
        {
          "output_type": "display_data",
          "data": {
            "text/html": [
              "\n",
              "     <input type=\"file\" id=\"files-5ba7b173-7834-478c-9c0a-f1adda5dd866\" name=\"files[]\" multiple disabled\n",
              "        style=\"border:none\" />\n",
              "     <output id=\"result-5ba7b173-7834-478c-9c0a-f1adda5dd866\">\n",
              "      Upload widget is only available when the cell has been executed in the\n",
              "      current browser session. Please rerun this cell to enable.\n",
              "      </output>\n",
              "      <script src=\"/nbextensions/google.colab/files.js\"></script> "
            ],
            "text/plain": [
              "<IPython.core.display.HTML object>"
            ]
          },
          "metadata": {
            "tags": []
          }
        },
        {
          "output_type": "stream",
          "text": [
            "Saving daten_python.zip to daten_python.zip\n"
          ],
          "name": "stdout"
        }
      ]
    },
    {
      "cell_type": "markdown",
      "metadata": {
        "id": "DYM99SUKXv8x"
      },
      "source": [
        "Now we will use a combination of ```os.``` and ```% and ! commands```(see: [here for more info on the latter](https://buomsoo-kim.github.io/colab/2020/05/21/Colab-terminal-commands.md/))\n",
        "\n"
      ]
    },
    {
      "cell_type": "code",
      "metadata": {
        "colab": {
          "base_uri": "https://localhost:8080/"
        },
        "id": "tVfkeLFdY6z5",
        "outputId": "de7ecea7-f021-48fa-c49b-216bd194afd8"
      },
      "source": [
        "!pwd #displays the current working directory"
      ],
      "execution_count": 2,
      "outputs": [
        {
          "output_type": "stream",
          "text": [
            "/content\n"
          ],
          "name": "stdout"
        }
      ]
    },
    {
      "cell_type": "code",
      "metadata": {
        "colab": {
          "base_uri": "https://localhost:8080/"
        },
        "id": "KQoryF6BY-md",
        "outputId": "d961f94e-a36e-48c3-ce44-a830d9f838ab"
      },
      "source": [
        "os.listdir() #displays all files in the current working directory"
      ],
      "execution_count": 3,
      "outputs": [
        {
          "output_type": "execute_result",
          "data": {
            "text/plain": [
              "['.config', 'daten_python.zip', 'sample_data']"
            ]
          },
          "metadata": {
            "tags": []
          },
          "execution_count": 3
        }
      ]
    },
    {
      "cell_type": "markdown",
      "metadata": {
        "id": "6zvmTdW0Xf6t"
      },
      "source": [
        "To unzip a folder, we can do the following. Without any further specification, a folder with the same name will be saved to the current working directory."
      ]
    },
    {
      "cell_type": "code",
      "metadata": {
        "colab": {
          "base_uri": "https://localhost:8080/"
        },
        "id": "chu1u4bzUOrH",
        "outputId": "3a4dcebc-af33-45c6-c86a-e69bb0dd0981"
      },
      "source": [
        "!unzip daten_python.zip "
      ],
      "execution_count": 4,
      "outputs": [
        {
          "output_type": "stream",
          "text": [
            "Archive:  daten_python.zip\n",
            "   creating: daten_python/\n",
            "  inflating: daten_python/.DS_Store  \n",
            "   creating: __MACOSX/\n",
            "   creating: __MACOSX/daten_python/\n",
            "  inflating: __MACOSX/daten_python/._.DS_Store  \n",
            "  inflating: daten_python/results8.csv  \n",
            "  inflating: __MACOSX/daten_python/._results8.csv  \n",
            "  inflating: daten_python/results1.csv  \n",
            "  inflating: __MACOSX/daten_python/._results1.csv  \n",
            "  inflating: daten_python/results2.csv  \n",
            "  inflating: __MACOSX/daten_python/._results2.csv  \n",
            "  inflating: daten_python/results3.csv  \n",
            "  inflating: __MACOSX/daten_python/._results3.csv  \n",
            "  inflating: daten_python/results7.csv  \n",
            "  inflating: __MACOSX/daten_python/._results7.csv  \n",
            "  inflating: daten_python/results6.csv  \n",
            "  inflating: __MACOSX/daten_python/._results6.csv  \n",
            "  inflating: daten_python/results4.csv  \n",
            "  inflating: __MACOSX/daten_python/._results4.csv  \n",
            "  inflating: daten_python/results5.csv  \n",
            "  inflating: __MACOSX/daten_python/._results5.csv  \n"
          ],
          "name": "stdout"
        }
      ]
    },
    {
      "cell_type": "code",
      "metadata": {
        "colab": {
          "base_uri": "https://localhost:8080/"
        },
        "id": "rP-L7nm2XNmW",
        "outputId": "2ff80fd5-53c6-4eb4-8b4e-8bee7f5d100c"
      },
      "source": [
        "os.listdir() # unzipped folder in the same directory"
      ],
      "execution_count": 5,
      "outputs": [
        {
          "output_type": "execute_result",
          "data": {
            "text/plain": [
              "['.config', 'daten_python.zip', 'daten_python', '__MACOSX', 'sample_data']"
            ]
          },
          "metadata": {
            "tags": []
          },
          "execution_count": 5
        }
      ]
    },
    {
      "cell_type": "markdown",
      "metadata": {
        "id": "as4aFWHgZ_cz"
      },
      "source": [
        "**Using relative paths:**"
      ]
    },
    {
      "cell_type": "code",
      "metadata": {
        "colab": {
          "base_uri": "https://localhost:8080/"
        },
        "id": "q_R22sBdUn_-",
        "outputId": "7f226c34-40c4-42f5-c169-f14f67b6475a"
      },
      "source": [
        "!pwd ## instead of using absolute paths (on your machine sth. like /user/download/python/session/7/file)\n",
        "os.listdir(\"daten_python/\") # we can use relative paths starting from our current working directory"
      ],
      "execution_count": 9,
      "outputs": [
        {
          "output_type": "stream",
          "text": [
            "/content\n"
          ],
          "name": "stdout"
        },
        {
          "output_type": "execute_result",
          "data": {
            "text/plain": [
              "['results7.csv',\n",
              " 'results3.csv',\n",
              " 'results2.csv',\n",
              " 'results4.csv',\n",
              " 'results5.csv',\n",
              " 'results6.csv',\n",
              " 'results1.csv',\n",
              " 'results8.csv',\n",
              " '.DS_Store']"
            ]
          },
          "metadata": {
            "tags": []
          },
          "execution_count": 9
        }
      ]
    },
    {
      "cell_type": "markdown",
      "metadata": {
        "id": "jBadsmBAS4Lh"
      },
      "source": [
        "To load and read an existing datasheet into a dataframe we can e.g. use ```pd.read_csv(\"file.csv\")``` . Keep in mind, that ```pd.read``` has more options to read in datafiles! Depending on your datafile, you also need to specify the *file seperator* that separates your values within your datasheet."
      ]
    },
    {
      "cell_type": "markdown",
      "metadata": {
        "id": "eaqhPiQ1S4Lh"
      },
      "source": [
        "Let´s load and read the **results1.csv** file from your data directory using\n",
        "- ```pd.read_csv(\"file\", sep= \"\\t\")```\n",
        "- ```pd.read_csv(\"file\", sep= \",\")```\n"
      ]
    },
    {
      "cell_type": "code",
      "metadata": {
        "id": "udecEL-LTKg1"
      },
      "source": [
        "import pandas as pd "
      ],
      "execution_count": 10,
      "outputs": []
    },
    {
      "cell_type": "code",
      "metadata": {
        "colab": {
          "base_uri": "https://localhost:8080/",
          "height": 206
        },
        "id": "dT6Klu3zS4Li",
        "outputId": "1519cf23-5a8a-4265-eda7-43a09c863b8a"
      },
      "source": [
        "df = pd.read_csv(\"daten_python/results1.csv\", sep=\"\\t\") #for now we will only load a single csv file (relative path!)\n",
        "df.head()"
      ],
      "execution_count": 11,
      "outputs": [
        {
          "output_type": "execute_result",
          "data": {
            "text/html": [
              "<div>\n",
              "<style scoped>\n",
              "    .dataframe tbody tr th:only-of-type {\n",
              "        vertical-align: middle;\n",
              "    }\n",
              "\n",
              "    .dataframe tbody tr th {\n",
              "        vertical-align: top;\n",
              "    }\n",
              "\n",
              "    .dataframe thead th {\n",
              "        text-align: right;\n",
              "    }\n",
              "</style>\n",
              "<table border=\"1\" class=\"dataframe\">\n",
              "  <thead>\n",
              "    <tr style=\"text-align: right;\">\n",
              "      <th></th>\n",
              "      <th>vpn_number,trial,condition,correct_key,key,rt</th>\n",
              "    </tr>\n",
              "  </thead>\n",
              "  <tbody>\n",
              "    <tr>\n",
              "      <th>0</th>\n",
              "      <td>1,0,pictures,l,s,1.60121011734</td>\n",
              "    </tr>\n",
              "    <tr>\n",
              "      <th>1</th>\n",
              "      <td>1,1,pictures,l,l,0.809813022614</td>\n",
              "    </tr>\n",
              "    <tr>\n",
              "      <th>2</th>\n",
              "      <td>1,2,pictures,l,l,0.624212026596</td>\n",
              "    </tr>\n",
              "    <tr>\n",
              "      <th>3</th>\n",
              "      <td>1,3,pictures,l,l,0.53791308403</td>\n",
              "    </tr>\n",
              "    <tr>\n",
              "      <th>4</th>\n",
              "      <td>1,4,words,s,s,0.536463975906</td>\n",
              "    </tr>\n",
              "  </tbody>\n",
              "</table>\n",
              "</div>"
            ],
            "text/plain": [
              "  vpn_number,trial,condition,correct_key,key,rt\n",
              "0                1,0,pictures,l,s,1.60121011734\n",
              "1               1,1,pictures,l,l,0.809813022614\n",
              "2               1,2,pictures,l,l,0.624212026596\n",
              "3                1,3,pictures,l,l,0.53791308403\n",
              "4                  1,4,words,s,s,0.536463975906"
            ]
          },
          "metadata": {
            "tags": []
          },
          "execution_count": 11
        }
      ]
    },
    {
      "cell_type": "code",
      "metadata": {
        "scrolled": true,
        "colab": {
          "base_uri": "https://localhost:8080/",
          "height": 206
        },
        "id": "h4VQcxkkS4Ll",
        "outputId": "3a1fbe03-9093-4a02-aa89-c47240fdbbae"
      },
      "source": [
        "df = pd.read_csv(\"daten_python/results1.csv\", sep=\",\") # load dataframe, try diff sep.\n",
        "df.head()"
      ],
      "execution_count": 12,
      "outputs": [
        {
          "output_type": "execute_result",
          "data": {
            "text/html": [
              "<div>\n",
              "<style scoped>\n",
              "    .dataframe tbody tr th:only-of-type {\n",
              "        vertical-align: middle;\n",
              "    }\n",
              "\n",
              "    .dataframe tbody tr th {\n",
              "        vertical-align: top;\n",
              "    }\n",
              "\n",
              "    .dataframe thead th {\n",
              "        text-align: right;\n",
              "    }\n",
              "</style>\n",
              "<table border=\"1\" class=\"dataframe\">\n",
              "  <thead>\n",
              "    <tr style=\"text-align: right;\">\n",
              "      <th></th>\n",
              "      <th>vpn_number</th>\n",
              "      <th>trial</th>\n",
              "      <th>condition</th>\n",
              "      <th>correct_key</th>\n",
              "      <th>key</th>\n",
              "      <th>rt</th>\n",
              "    </tr>\n",
              "  </thead>\n",
              "  <tbody>\n",
              "    <tr>\n",
              "      <th>0</th>\n",
              "      <td>1</td>\n",
              "      <td>0</td>\n",
              "      <td>pictures</td>\n",
              "      <td>l</td>\n",
              "      <td>s</td>\n",
              "      <td>1.601210</td>\n",
              "    </tr>\n",
              "    <tr>\n",
              "      <th>1</th>\n",
              "      <td>1</td>\n",
              "      <td>1</td>\n",
              "      <td>pictures</td>\n",
              "      <td>l</td>\n",
              "      <td>l</td>\n",
              "      <td>0.809813</td>\n",
              "    </tr>\n",
              "    <tr>\n",
              "      <th>2</th>\n",
              "      <td>1</td>\n",
              "      <td>2</td>\n",
              "      <td>pictures</td>\n",
              "      <td>l</td>\n",
              "      <td>l</td>\n",
              "      <td>0.624212</td>\n",
              "    </tr>\n",
              "    <tr>\n",
              "      <th>3</th>\n",
              "      <td>1</td>\n",
              "      <td>3</td>\n",
              "      <td>pictures</td>\n",
              "      <td>l</td>\n",
              "      <td>l</td>\n",
              "      <td>0.537913</td>\n",
              "    </tr>\n",
              "    <tr>\n",
              "      <th>4</th>\n",
              "      <td>1</td>\n",
              "      <td>4</td>\n",
              "      <td>words</td>\n",
              "      <td>s</td>\n",
              "      <td>s</td>\n",
              "      <td>0.536464</td>\n",
              "    </tr>\n",
              "  </tbody>\n",
              "</table>\n",
              "</div>"
            ],
            "text/plain": [
              "   vpn_number  trial condition correct_key key        rt\n",
              "0           1      0  pictures           l   s  1.601210\n",
              "1           1      1  pictures           l   l  0.809813\n",
              "2           1      2  pictures           l   l  0.624212\n",
              "3           1      3  pictures           l   l  0.537913\n",
              "4           1      4     words           s   s  0.536464"
            ]
          },
          "metadata": {
            "tags": []
          },
          "execution_count": 12
        }
      ]
    },
    {
      "cell_type": "markdown",
      "metadata": {
        "id": "XGKTjU2yS4Ll"
      },
      "source": [
        "With ```dataframe.head() ``` we can easily get a quick first glance of the first five rows of our dataframe, however, we can adjust this value by simply indicating another number in the parentheses."
      ]
    },
    {
      "cell_type": "code",
      "metadata": {
        "colab": {
          "base_uri": "https://localhost:8080/",
          "height": 238
        },
        "id": "DxULdIV9S4Lm",
        "outputId": "e90d6372-f0a8-4214-c2ca-c97ae0dd2630"
      },
      "source": [
        "df.head(6)"
      ],
      "execution_count": 13,
      "outputs": [
        {
          "output_type": "execute_result",
          "data": {
            "text/html": [
              "<div>\n",
              "<style scoped>\n",
              "    .dataframe tbody tr th:only-of-type {\n",
              "        vertical-align: middle;\n",
              "    }\n",
              "\n",
              "    .dataframe tbody tr th {\n",
              "        vertical-align: top;\n",
              "    }\n",
              "\n",
              "    .dataframe thead th {\n",
              "        text-align: right;\n",
              "    }\n",
              "</style>\n",
              "<table border=\"1\" class=\"dataframe\">\n",
              "  <thead>\n",
              "    <tr style=\"text-align: right;\">\n",
              "      <th></th>\n",
              "      <th>vpn_number</th>\n",
              "      <th>trial</th>\n",
              "      <th>condition</th>\n",
              "      <th>correct_key</th>\n",
              "      <th>key</th>\n",
              "      <th>rt</th>\n",
              "    </tr>\n",
              "  </thead>\n",
              "  <tbody>\n",
              "    <tr>\n",
              "      <th>0</th>\n",
              "      <td>1</td>\n",
              "      <td>0</td>\n",
              "      <td>pictures</td>\n",
              "      <td>l</td>\n",
              "      <td>s</td>\n",
              "      <td>1.601210</td>\n",
              "    </tr>\n",
              "    <tr>\n",
              "      <th>1</th>\n",
              "      <td>1</td>\n",
              "      <td>1</td>\n",
              "      <td>pictures</td>\n",
              "      <td>l</td>\n",
              "      <td>l</td>\n",
              "      <td>0.809813</td>\n",
              "    </tr>\n",
              "    <tr>\n",
              "      <th>2</th>\n",
              "      <td>1</td>\n",
              "      <td>2</td>\n",
              "      <td>pictures</td>\n",
              "      <td>l</td>\n",
              "      <td>l</td>\n",
              "      <td>0.624212</td>\n",
              "    </tr>\n",
              "    <tr>\n",
              "      <th>3</th>\n",
              "      <td>1</td>\n",
              "      <td>3</td>\n",
              "      <td>pictures</td>\n",
              "      <td>l</td>\n",
              "      <td>l</td>\n",
              "      <td>0.537913</td>\n",
              "    </tr>\n",
              "    <tr>\n",
              "      <th>4</th>\n",
              "      <td>1</td>\n",
              "      <td>4</td>\n",
              "      <td>words</td>\n",
              "      <td>s</td>\n",
              "      <td>s</td>\n",
              "      <td>0.536464</td>\n",
              "    </tr>\n",
              "    <tr>\n",
              "      <th>5</th>\n",
              "      <td>1</td>\n",
              "      <td>5</td>\n",
              "      <td>words</td>\n",
              "      <td>s</td>\n",
              "      <td>l</td>\n",
              "      <td>0.468966</td>\n",
              "    </tr>\n",
              "  </tbody>\n",
              "</table>\n",
              "</div>"
            ],
            "text/plain": [
              "   vpn_number  trial condition correct_key key        rt\n",
              "0           1      0  pictures           l   s  1.601210\n",
              "1           1      1  pictures           l   l  0.809813\n",
              "2           1      2  pictures           l   l  0.624212\n",
              "3           1      3  pictures           l   l  0.537913\n",
              "4           1      4     words           s   s  0.536464\n",
              "5           1      5     words           s   l  0.468966"
            ]
          },
          "metadata": {
            "tags": []
          },
          "execution_count": 13
        }
      ]
    },
    {
      "cell_type": "markdown",
      "metadata": {
        "id": "rnB90yOoS4Lm"
      },
      "source": [
        "If you want to display the whole dataframe, you usually end up with a section of your rows or columns, as pandas masks some of them by default. By using ```pd.options.display.max_rows/columns``` we can check the default value and, if needed adjust it with ```pd.options.set.max_rows/columns=int```"
      ]
    },
    {
      "cell_type": "code",
      "metadata": {
        "colab": {
          "base_uri": "https://localhost:8080/"
        },
        "id": "2yaSixdgS4Ln",
        "outputId": "ea6f0905-899a-4e36-e760-9788df88b423"
      },
      "source": [
        "pd.options.display.max_rows"
      ],
      "execution_count": 14,
      "outputs": [
        {
          "output_type": "execute_result",
          "data": {
            "text/plain": [
              "60"
            ]
          },
          "metadata": {
            "tags": []
          },
          "execution_count": 14
        }
      ]
    },
    {
      "cell_type": "code",
      "metadata": {
        "id": "wN8E0d7vS4Lo"
      },
      "source": [
        "pd.set_option('display.max_rows', 150)\n"
      ],
      "execution_count": 15,
      "outputs": []
    },
    {
      "cell_type": "code",
      "metadata": {
        "scrolled": true,
        "colab": {
          "base_uri": "https://localhost:8080/",
          "height": 1000
        },
        "id": "VeOaVUFUS4Lp",
        "outputId": "442be44d-fe93-4c3e-fcde-087224c5793d"
      },
      "source": [
        "df"
      ],
      "execution_count": 16,
      "outputs": [
        {
          "output_type": "execute_result",
          "data": {
            "text/html": [
              "<div>\n",
              "<style scoped>\n",
              "    .dataframe tbody tr th:only-of-type {\n",
              "        vertical-align: middle;\n",
              "    }\n",
              "\n",
              "    .dataframe tbody tr th {\n",
              "        vertical-align: top;\n",
              "    }\n",
              "\n",
              "    .dataframe thead th {\n",
              "        text-align: right;\n",
              "    }\n",
              "</style>\n",
              "<table border=\"1\" class=\"dataframe\">\n",
              "  <thead>\n",
              "    <tr style=\"text-align: right;\">\n",
              "      <th></th>\n",
              "      <th>vpn_number</th>\n",
              "      <th>trial</th>\n",
              "      <th>condition</th>\n",
              "      <th>correct_key</th>\n",
              "      <th>key</th>\n",
              "      <th>rt</th>\n",
              "    </tr>\n",
              "  </thead>\n",
              "  <tbody>\n",
              "    <tr>\n",
              "      <th>0</th>\n",
              "      <td>1</td>\n",
              "      <td>0</td>\n",
              "      <td>pictures</td>\n",
              "      <td>l</td>\n",
              "      <td>s</td>\n",
              "      <td>1.601210</td>\n",
              "    </tr>\n",
              "    <tr>\n",
              "      <th>1</th>\n",
              "      <td>1</td>\n",
              "      <td>1</td>\n",
              "      <td>pictures</td>\n",
              "      <td>l</td>\n",
              "      <td>l</td>\n",
              "      <td>0.809813</td>\n",
              "    </tr>\n",
              "    <tr>\n",
              "      <th>2</th>\n",
              "      <td>1</td>\n",
              "      <td>2</td>\n",
              "      <td>pictures</td>\n",
              "      <td>l</td>\n",
              "      <td>l</td>\n",
              "      <td>0.624212</td>\n",
              "    </tr>\n",
              "    <tr>\n",
              "      <th>3</th>\n",
              "      <td>1</td>\n",
              "      <td>3</td>\n",
              "      <td>pictures</td>\n",
              "      <td>l</td>\n",
              "      <td>l</td>\n",
              "      <td>0.537913</td>\n",
              "    </tr>\n",
              "    <tr>\n",
              "      <th>4</th>\n",
              "      <td>1</td>\n",
              "      <td>4</td>\n",
              "      <td>words</td>\n",
              "      <td>s</td>\n",
              "      <td>s</td>\n",
              "      <td>0.536464</td>\n",
              "    </tr>\n",
              "    <tr>\n",
              "      <th>5</th>\n",
              "      <td>1</td>\n",
              "      <td>5</td>\n",
              "      <td>words</td>\n",
              "      <td>s</td>\n",
              "      <td>l</td>\n",
              "      <td>0.468966</td>\n",
              "    </tr>\n",
              "    <tr>\n",
              "      <th>6</th>\n",
              "      <td>1</td>\n",
              "      <td>6</td>\n",
              "      <td>words</td>\n",
              "      <td>s</td>\n",
              "      <td>s</td>\n",
              "      <td>1.797997</td>\n",
              "    </tr>\n",
              "    <tr>\n",
              "      <th>7</th>\n",
              "      <td>1</td>\n",
              "      <td>7</td>\n",
              "      <td>words</td>\n",
              "      <td>s</td>\n",
              "      <td>s</td>\n",
              "      <td>0.455532</td>\n",
              "    </tr>\n",
              "    <tr>\n",
              "      <th>8</th>\n",
              "      <td>1</td>\n",
              "      <td>8</td>\n",
              "      <td>pictures</td>\n",
              "      <td>l</td>\n",
              "      <td>l</td>\n",
              "      <td>0.630597</td>\n",
              "    </tr>\n",
              "    <tr>\n",
              "      <th>9</th>\n",
              "      <td>1</td>\n",
              "      <td>9</td>\n",
              "      <td>words</td>\n",
              "      <td>s</td>\n",
              "      <td>s</td>\n",
              "      <td>0.635549</td>\n",
              "    </tr>\n",
              "    <tr>\n",
              "      <th>10</th>\n",
              "      <td>1</td>\n",
              "      <td>10</td>\n",
              "      <td>words</td>\n",
              "      <td>s</td>\n",
              "      <td>s</td>\n",
              "      <td>0.436713</td>\n",
              "    </tr>\n",
              "    <tr>\n",
              "      <th>11</th>\n",
              "      <td>1</td>\n",
              "      <td>11</td>\n",
              "      <td>words</td>\n",
              "      <td>s</td>\n",
              "      <td>s</td>\n",
              "      <td>0.580195</td>\n",
              "    </tr>\n",
              "    <tr>\n",
              "      <th>12</th>\n",
              "      <td>1</td>\n",
              "      <td>12</td>\n",
              "      <td>words</td>\n",
              "      <td>s</td>\n",
              "      <td>s</td>\n",
              "      <td>0.379475</td>\n",
              "    </tr>\n",
              "    <tr>\n",
              "      <th>13</th>\n",
              "      <td>1</td>\n",
              "      <td>13</td>\n",
              "      <td>pictures</td>\n",
              "      <td>l</td>\n",
              "      <td>l</td>\n",
              "      <td>0.452704</td>\n",
              "    </tr>\n",
              "    <tr>\n",
              "      <th>14</th>\n",
              "      <td>1</td>\n",
              "      <td>14</td>\n",
              "      <td>words</td>\n",
              "      <td>s</td>\n",
              "      <td>s</td>\n",
              "      <td>0.600725</td>\n",
              "    </tr>\n",
              "    <tr>\n",
              "      <th>15</th>\n",
              "      <td>1</td>\n",
              "      <td>15</td>\n",
              "      <td>words</td>\n",
              "      <td>s</td>\n",
              "      <td>s</td>\n",
              "      <td>0.385452</td>\n",
              "    </tr>\n",
              "    <tr>\n",
              "      <th>16</th>\n",
              "      <td>1</td>\n",
              "      <td>16</td>\n",
              "      <td>pictures</td>\n",
              "      <td>l</td>\n",
              "      <td>l</td>\n",
              "      <td>0.424816</td>\n",
              "    </tr>\n",
              "    <tr>\n",
              "      <th>17</th>\n",
              "      <td>1</td>\n",
              "      <td>17</td>\n",
              "      <td>pictures</td>\n",
              "      <td>l</td>\n",
              "      <td>l</td>\n",
              "      <td>0.529316</td>\n",
              "    </tr>\n",
              "    <tr>\n",
              "      <th>18</th>\n",
              "      <td>1</td>\n",
              "      <td>18</td>\n",
              "      <td>pictures</td>\n",
              "      <td>l</td>\n",
              "      <td>l</td>\n",
              "      <td>0.435671</td>\n",
              "    </tr>\n",
              "    <tr>\n",
              "      <th>19</th>\n",
              "      <td>1</td>\n",
              "      <td>19</td>\n",
              "      <td>pictures</td>\n",
              "      <td>l</td>\n",
              "      <td>l</td>\n",
              "      <td>0.764928</td>\n",
              "    </tr>\n",
              "    <tr>\n",
              "      <th>20</th>\n",
              "      <td>1</td>\n",
              "      <td>20</td>\n",
              "      <td>words</td>\n",
              "      <td>s</td>\n",
              "      <td>s</td>\n",
              "      <td>0.403602</td>\n",
              "    </tr>\n",
              "    <tr>\n",
              "      <th>21</th>\n",
              "      <td>1</td>\n",
              "      <td>21</td>\n",
              "      <td>pictures</td>\n",
              "      <td>l</td>\n",
              "      <td>l</td>\n",
              "      <td>0.513917</td>\n",
              "    </tr>\n",
              "    <tr>\n",
              "      <th>22</th>\n",
              "      <td>1</td>\n",
              "      <td>22</td>\n",
              "      <td>pictures</td>\n",
              "      <td>l</td>\n",
              "      <td>l</td>\n",
              "      <td>0.642765</td>\n",
              "    </tr>\n",
              "    <tr>\n",
              "      <th>23</th>\n",
              "      <td>1</td>\n",
              "      <td>23</td>\n",
              "      <td>words</td>\n",
              "      <td>s</td>\n",
              "      <td>s</td>\n",
              "      <td>0.535162</td>\n",
              "    </tr>\n",
              "    <tr>\n",
              "      <th>24</th>\n",
              "      <td>1</td>\n",
              "      <td>24</td>\n",
              "      <td>words</td>\n",
              "      <td>s</td>\n",
              "      <td>s</td>\n",
              "      <td>0.323107</td>\n",
              "    </tr>\n",
              "    <tr>\n",
              "      <th>25</th>\n",
              "      <td>1</td>\n",
              "      <td>25</td>\n",
              "      <td>words</td>\n",
              "      <td>s</td>\n",
              "      <td>s</td>\n",
              "      <td>0.384130</td>\n",
              "    </tr>\n",
              "    <tr>\n",
              "      <th>26</th>\n",
              "      <td>1</td>\n",
              "      <td>26</td>\n",
              "      <td>words</td>\n",
              "      <td>s</td>\n",
              "      <td>s</td>\n",
              "      <td>0.386746</td>\n",
              "    </tr>\n",
              "    <tr>\n",
              "      <th>27</th>\n",
              "      <td>1</td>\n",
              "      <td>27</td>\n",
              "      <td>pictures</td>\n",
              "      <td>l</td>\n",
              "      <td>l</td>\n",
              "      <td>0.431236</td>\n",
              "    </tr>\n",
              "    <tr>\n",
              "      <th>28</th>\n",
              "      <td>1</td>\n",
              "      <td>28</td>\n",
              "      <td>pictures</td>\n",
              "      <td>l</td>\n",
              "      <td>l</td>\n",
              "      <td>0.576281</td>\n",
              "    </tr>\n",
              "    <tr>\n",
              "      <th>29</th>\n",
              "      <td>1</td>\n",
              "      <td>29</td>\n",
              "      <td>words</td>\n",
              "      <td>s</td>\n",
              "      <td>s</td>\n",
              "      <td>0.575101</td>\n",
              "    </tr>\n",
              "    <tr>\n",
              "      <th>30</th>\n",
              "      <td>1</td>\n",
              "      <td>30</td>\n",
              "      <td>words</td>\n",
              "      <td>s</td>\n",
              "      <td>s</td>\n",
              "      <td>0.352320</td>\n",
              "    </tr>\n",
              "    <tr>\n",
              "      <th>31</th>\n",
              "      <td>1</td>\n",
              "      <td>31</td>\n",
              "      <td>words</td>\n",
              "      <td>s</td>\n",
              "      <td>s</td>\n",
              "      <td>0.434046</td>\n",
              "    </tr>\n",
              "    <tr>\n",
              "      <th>32</th>\n",
              "      <td>1</td>\n",
              "      <td>32</td>\n",
              "      <td>words</td>\n",
              "      <td>s</td>\n",
              "      <td>s</td>\n",
              "      <td>0.572553</td>\n",
              "    </tr>\n",
              "    <tr>\n",
              "      <th>33</th>\n",
              "      <td>1</td>\n",
              "      <td>33</td>\n",
              "      <td>words</td>\n",
              "      <td>s</td>\n",
              "      <td>s</td>\n",
              "      <td>0.424695</td>\n",
              "    </tr>\n",
              "    <tr>\n",
              "      <th>34</th>\n",
              "      <td>1</td>\n",
              "      <td>34</td>\n",
              "      <td>words</td>\n",
              "      <td>s</td>\n",
              "      <td>s</td>\n",
              "      <td>0.358113</td>\n",
              "    </tr>\n",
              "    <tr>\n",
              "      <th>35</th>\n",
              "      <td>1</td>\n",
              "      <td>35</td>\n",
              "      <td>pictures</td>\n",
              "      <td>l</td>\n",
              "      <td>l</td>\n",
              "      <td>0.366468</td>\n",
              "    </tr>\n",
              "    <tr>\n",
              "      <th>36</th>\n",
              "      <td>1</td>\n",
              "      <td>36</td>\n",
              "      <td>pictures</td>\n",
              "      <td>l</td>\n",
              "      <td>l</td>\n",
              "      <td>0.408530</td>\n",
              "    </tr>\n",
              "    <tr>\n",
              "      <th>37</th>\n",
              "      <td>1</td>\n",
              "      <td>37</td>\n",
              "      <td>words</td>\n",
              "      <td>s</td>\n",
              "      <td>s</td>\n",
              "      <td>0.443337</td>\n",
              "    </tr>\n",
              "    <tr>\n",
              "      <th>38</th>\n",
              "      <td>1</td>\n",
              "      <td>38</td>\n",
              "      <td>words</td>\n",
              "      <td>s</td>\n",
              "      <td>s</td>\n",
              "      <td>0.376508</td>\n",
              "    </tr>\n",
              "    <tr>\n",
              "      <th>39</th>\n",
              "      <td>1</td>\n",
              "      <td>39</td>\n",
              "      <td>words</td>\n",
              "      <td>s</td>\n",
              "      <td>s</td>\n",
              "      <td>0.370955</td>\n",
              "    </tr>\n",
              "    <tr>\n",
              "      <th>40</th>\n",
              "      <td>1</td>\n",
              "      <td>40</td>\n",
              "      <td>pictures</td>\n",
              "      <td>l</td>\n",
              "      <td>l</td>\n",
              "      <td>0.356326</td>\n",
              "    </tr>\n",
              "    <tr>\n",
              "      <th>41</th>\n",
              "      <td>1</td>\n",
              "      <td>41</td>\n",
              "      <td>words</td>\n",
              "      <td>s</td>\n",
              "      <td>s</td>\n",
              "      <td>0.617431</td>\n",
              "    </tr>\n",
              "    <tr>\n",
              "      <th>42</th>\n",
              "      <td>1</td>\n",
              "      <td>42</td>\n",
              "      <td>pictures</td>\n",
              "      <td>l</td>\n",
              "      <td>l</td>\n",
              "      <td>0.462605</td>\n",
              "    </tr>\n",
              "    <tr>\n",
              "      <th>43</th>\n",
              "      <td>1</td>\n",
              "      <td>43</td>\n",
              "      <td>words</td>\n",
              "      <td>s</td>\n",
              "      <td>s</td>\n",
              "      <td>0.575835</td>\n",
              "    </tr>\n",
              "    <tr>\n",
              "      <th>44</th>\n",
              "      <td>1</td>\n",
              "      <td>44</td>\n",
              "      <td>pictures</td>\n",
              "      <td>l</td>\n",
              "      <td>l</td>\n",
              "      <td>0.538974</td>\n",
              "    </tr>\n",
              "    <tr>\n",
              "      <th>45</th>\n",
              "      <td>1</td>\n",
              "      <td>45</td>\n",
              "      <td>pictures</td>\n",
              "      <td>l</td>\n",
              "      <td>l</td>\n",
              "      <td>0.490793</td>\n",
              "    </tr>\n",
              "    <tr>\n",
              "      <th>46</th>\n",
              "      <td>1</td>\n",
              "      <td>46</td>\n",
              "      <td>words</td>\n",
              "      <td>s</td>\n",
              "      <td>s</td>\n",
              "      <td>0.439512</td>\n",
              "    </tr>\n",
              "    <tr>\n",
              "      <th>47</th>\n",
              "      <td>1</td>\n",
              "      <td>47</td>\n",
              "      <td>pictures</td>\n",
              "      <td>l</td>\n",
              "      <td>l</td>\n",
              "      <td>0.626768</td>\n",
              "    </tr>\n",
              "    <tr>\n",
              "      <th>48</th>\n",
              "      <td>1</td>\n",
              "      <td>48</td>\n",
              "      <td>pictures</td>\n",
              "      <td>l</td>\n",
              "      <td>l</td>\n",
              "      <td>0.820308</td>\n",
              "    </tr>\n",
              "    <tr>\n",
              "      <th>49</th>\n",
              "      <td>1</td>\n",
              "      <td>49</td>\n",
              "      <td>pictures</td>\n",
              "      <td>l</td>\n",
              "      <td>l</td>\n",
              "      <td>0.383684</td>\n",
              "    </tr>\n",
              "    <tr>\n",
              "      <th>50</th>\n",
              "      <td>1</td>\n",
              "      <td>50</td>\n",
              "      <td>pictures</td>\n",
              "      <td>l</td>\n",
              "      <td>l</td>\n",
              "      <td>0.449498</td>\n",
              "    </tr>\n",
              "    <tr>\n",
              "      <th>51</th>\n",
              "      <td>1</td>\n",
              "      <td>51</td>\n",
              "      <td>pictures</td>\n",
              "      <td>l</td>\n",
              "      <td>l</td>\n",
              "      <td>0.447663</td>\n",
              "    </tr>\n",
              "    <tr>\n",
              "      <th>52</th>\n",
              "      <td>1</td>\n",
              "      <td>52</td>\n",
              "      <td>words</td>\n",
              "      <td>s</td>\n",
              "      <td>s</td>\n",
              "      <td>0.404423</td>\n",
              "    </tr>\n",
              "    <tr>\n",
              "      <th>53</th>\n",
              "      <td>1</td>\n",
              "      <td>53</td>\n",
              "      <td>words</td>\n",
              "      <td>s</td>\n",
              "      <td>s</td>\n",
              "      <td>0.445655</td>\n",
              "    </tr>\n",
              "    <tr>\n",
              "      <th>54</th>\n",
              "      <td>1</td>\n",
              "      <td>54</td>\n",
              "      <td>words</td>\n",
              "      <td>s</td>\n",
              "      <td>s</td>\n",
              "      <td>0.519427</td>\n",
              "    </tr>\n",
              "    <tr>\n",
              "      <th>55</th>\n",
              "      <td>1</td>\n",
              "      <td>55</td>\n",
              "      <td>words</td>\n",
              "      <td>s</td>\n",
              "      <td>s</td>\n",
              "      <td>0.447828</td>\n",
              "    </tr>\n",
              "    <tr>\n",
              "      <th>56</th>\n",
              "      <td>1</td>\n",
              "      <td>56</td>\n",
              "      <td>pictures</td>\n",
              "      <td>l</td>\n",
              "      <td>l</td>\n",
              "      <td>0.411585</td>\n",
              "    </tr>\n",
              "    <tr>\n",
              "      <th>57</th>\n",
              "      <td>1</td>\n",
              "      <td>57</td>\n",
              "      <td>pictures</td>\n",
              "      <td>l</td>\n",
              "      <td>l</td>\n",
              "      <td>0.520795</td>\n",
              "    </tr>\n",
              "    <tr>\n",
              "      <th>58</th>\n",
              "      <td>1</td>\n",
              "      <td>58</td>\n",
              "      <td>words</td>\n",
              "      <td>s</td>\n",
              "      <td>s</td>\n",
              "      <td>0.453077</td>\n",
              "    </tr>\n",
              "    <tr>\n",
              "      <th>59</th>\n",
              "      <td>1</td>\n",
              "      <td>59</td>\n",
              "      <td>words</td>\n",
              "      <td>s</td>\n",
              "      <td>s</td>\n",
              "      <td>0.312911</td>\n",
              "    </tr>\n",
              "    <tr>\n",
              "      <th>60</th>\n",
              "      <td>1</td>\n",
              "      <td>60</td>\n",
              "      <td>words</td>\n",
              "      <td>s</td>\n",
              "      <td>s</td>\n",
              "      <td>0.317503</td>\n",
              "    </tr>\n",
              "    <tr>\n",
              "      <th>61</th>\n",
              "      <td>1</td>\n",
              "      <td>61</td>\n",
              "      <td>words</td>\n",
              "      <td>s</td>\n",
              "      <td>s</td>\n",
              "      <td>0.362426</td>\n",
              "    </tr>\n",
              "    <tr>\n",
              "      <th>62</th>\n",
              "      <td>1</td>\n",
              "      <td>62</td>\n",
              "      <td>words</td>\n",
              "      <td>s</td>\n",
              "      <td>s</td>\n",
              "      <td>0.334412</td>\n",
              "    </tr>\n",
              "    <tr>\n",
              "      <th>63</th>\n",
              "      <td>1</td>\n",
              "      <td>63</td>\n",
              "      <td>words</td>\n",
              "      <td>s</td>\n",
              "      <td>s</td>\n",
              "      <td>0.375415</td>\n",
              "    </tr>\n",
              "    <tr>\n",
              "      <th>64</th>\n",
              "      <td>1</td>\n",
              "      <td>64</td>\n",
              "      <td>words</td>\n",
              "      <td>s</td>\n",
              "      <td>s</td>\n",
              "      <td>0.295237</td>\n",
              "    </tr>\n",
              "    <tr>\n",
              "      <th>65</th>\n",
              "      <td>1</td>\n",
              "      <td>65</td>\n",
              "      <td>words</td>\n",
              "      <td>s</td>\n",
              "      <td>s</td>\n",
              "      <td>0.349308</td>\n",
              "    </tr>\n",
              "    <tr>\n",
              "      <th>66</th>\n",
              "      <td>1</td>\n",
              "      <td>66</td>\n",
              "      <td>words</td>\n",
              "      <td>s</td>\n",
              "      <td>s</td>\n",
              "      <td>0.458553</td>\n",
              "    </tr>\n",
              "    <tr>\n",
              "      <th>67</th>\n",
              "      <td>1</td>\n",
              "      <td>67</td>\n",
              "      <td>pictures</td>\n",
              "      <td>l</td>\n",
              "      <td>l</td>\n",
              "      <td>0.402066</td>\n",
              "    </tr>\n",
              "    <tr>\n",
              "      <th>68</th>\n",
              "      <td>1</td>\n",
              "      <td>68</td>\n",
              "      <td>words</td>\n",
              "      <td>s</td>\n",
              "      <td>s</td>\n",
              "      <td>0.512205</td>\n",
              "    </tr>\n",
              "    <tr>\n",
              "      <th>69</th>\n",
              "      <td>1</td>\n",
              "      <td>69</td>\n",
              "      <td>pictures</td>\n",
              "      <td>l</td>\n",
              "      <td>l</td>\n",
              "      <td>0.398822</td>\n",
              "    </tr>\n",
              "    <tr>\n",
              "      <th>70</th>\n",
              "      <td>1</td>\n",
              "      <td>70</td>\n",
              "      <td>pictures</td>\n",
              "      <td>l</td>\n",
              "      <td>l</td>\n",
              "      <td>0.664253</td>\n",
              "    </tr>\n",
              "    <tr>\n",
              "      <th>71</th>\n",
              "      <td>1</td>\n",
              "      <td>71</td>\n",
              "      <td>pictures</td>\n",
              "      <td>l</td>\n",
              "      <td>l</td>\n",
              "      <td>0.542978</td>\n",
              "    </tr>\n",
              "    <tr>\n",
              "      <th>72</th>\n",
              "      <td>1</td>\n",
              "      <td>72</td>\n",
              "      <td>words</td>\n",
              "      <td>s</td>\n",
              "      <td>s</td>\n",
              "      <td>0.467101</td>\n",
              "    </tr>\n",
              "    <tr>\n",
              "      <th>73</th>\n",
              "      <td>1</td>\n",
              "      <td>73</td>\n",
              "      <td>words</td>\n",
              "      <td>s</td>\n",
              "      <td>s</td>\n",
              "      <td>0.351225</td>\n",
              "    </tr>\n",
              "    <tr>\n",
              "      <th>74</th>\n",
              "      <td>1</td>\n",
              "      <td>74</td>\n",
              "      <td>pictures</td>\n",
              "      <td>l</td>\n",
              "      <td>l</td>\n",
              "      <td>0.400925</td>\n",
              "    </tr>\n",
              "    <tr>\n",
              "      <th>75</th>\n",
              "      <td>1</td>\n",
              "      <td>75</td>\n",
              "      <td>words</td>\n",
              "      <td>s</td>\n",
              "      <td>s</td>\n",
              "      <td>0.634471</td>\n",
              "    </tr>\n",
              "    <tr>\n",
              "      <th>76</th>\n",
              "      <td>1</td>\n",
              "      <td>76</td>\n",
              "      <td>pictures</td>\n",
              "      <td>l</td>\n",
              "      <td>l</td>\n",
              "      <td>0.406851</td>\n",
              "    </tr>\n",
              "    <tr>\n",
              "      <th>77</th>\n",
              "      <td>1</td>\n",
              "      <td>77</td>\n",
              "      <td>words</td>\n",
              "      <td>s</td>\n",
              "      <td>s</td>\n",
              "      <td>0.720879</td>\n",
              "    </tr>\n",
              "    <tr>\n",
              "      <th>78</th>\n",
              "      <td>1</td>\n",
              "      <td>78</td>\n",
              "      <td>words</td>\n",
              "      <td>s</td>\n",
              "      <td>s</td>\n",
              "      <td>0.301562</td>\n",
              "    </tr>\n",
              "    <tr>\n",
              "      <th>79</th>\n",
              "      <td>1</td>\n",
              "      <td>79</td>\n",
              "      <td>words</td>\n",
              "      <td>s</td>\n",
              "      <td>s</td>\n",
              "      <td>0.366838</td>\n",
              "    </tr>\n",
              "    <tr>\n",
              "      <th>80</th>\n",
              "      <td>1</td>\n",
              "      <td>80</td>\n",
              "      <td>words</td>\n",
              "      <td>s</td>\n",
              "      <td>s</td>\n",
              "      <td>0.320346</td>\n",
              "    </tr>\n",
              "    <tr>\n",
              "      <th>81</th>\n",
              "      <td>1</td>\n",
              "      <td>81</td>\n",
              "      <td>pictures</td>\n",
              "      <td>l</td>\n",
              "      <td>l</td>\n",
              "      <td>0.427605</td>\n",
              "    </tr>\n",
              "    <tr>\n",
              "      <th>82</th>\n",
              "      <td>1</td>\n",
              "      <td>82</td>\n",
              "      <td>words</td>\n",
              "      <td>s</td>\n",
              "      <td>s</td>\n",
              "      <td>0.605440</td>\n",
              "    </tr>\n",
              "    <tr>\n",
              "      <th>83</th>\n",
              "      <td>1</td>\n",
              "      <td>83</td>\n",
              "      <td>words</td>\n",
              "      <td>s</td>\n",
              "      <td>s</td>\n",
              "      <td>0.459118</td>\n",
              "    </tr>\n",
              "    <tr>\n",
              "      <th>84</th>\n",
              "      <td>1</td>\n",
              "      <td>84</td>\n",
              "      <td>words</td>\n",
              "      <td>s</td>\n",
              "      <td>s</td>\n",
              "      <td>0.370073</td>\n",
              "    </tr>\n",
              "    <tr>\n",
              "      <th>85</th>\n",
              "      <td>1</td>\n",
              "      <td>85</td>\n",
              "      <td>pictures</td>\n",
              "      <td>l</td>\n",
              "      <td>l</td>\n",
              "      <td>0.383719</td>\n",
              "    </tr>\n",
              "    <tr>\n",
              "      <th>86</th>\n",
              "      <td>1</td>\n",
              "      <td>86</td>\n",
              "      <td>pictures</td>\n",
              "      <td>l</td>\n",
              "      <td>s</td>\n",
              "      <td>0.561896</td>\n",
              "    </tr>\n",
              "    <tr>\n",
              "      <th>87</th>\n",
              "      <td>1</td>\n",
              "      <td>87</td>\n",
              "      <td>words</td>\n",
              "      <td>s</td>\n",
              "      <td>s</td>\n",
              "      <td>0.848549</td>\n",
              "    </tr>\n",
              "    <tr>\n",
              "      <th>88</th>\n",
              "      <td>1</td>\n",
              "      <td>88</td>\n",
              "      <td>pictures</td>\n",
              "      <td>l</td>\n",
              "      <td>l</td>\n",
              "      <td>0.447695</td>\n",
              "    </tr>\n",
              "    <tr>\n",
              "      <th>89</th>\n",
              "      <td>1</td>\n",
              "      <td>89</td>\n",
              "      <td>words</td>\n",
              "      <td>s</td>\n",
              "      <td>s</td>\n",
              "      <td>0.619724</td>\n",
              "    </tr>\n",
              "    <tr>\n",
              "      <th>90</th>\n",
              "      <td>1</td>\n",
              "      <td>90</td>\n",
              "      <td>pictures</td>\n",
              "      <td>l</td>\n",
              "      <td>l</td>\n",
              "      <td>0.470713</td>\n",
              "    </tr>\n",
              "    <tr>\n",
              "      <th>91</th>\n",
              "      <td>1</td>\n",
              "      <td>91</td>\n",
              "      <td>words</td>\n",
              "      <td>s</td>\n",
              "      <td>s</td>\n",
              "      <td>0.609412</td>\n",
              "    </tr>\n",
              "    <tr>\n",
              "      <th>92</th>\n",
              "      <td>1</td>\n",
              "      <td>92</td>\n",
              "      <td>pictures</td>\n",
              "      <td>l</td>\n",
              "      <td>l</td>\n",
              "      <td>0.480579</td>\n",
              "    </tr>\n",
              "    <tr>\n",
              "      <th>93</th>\n",
              "      <td>1</td>\n",
              "      <td>93</td>\n",
              "      <td>pictures</td>\n",
              "      <td>l</td>\n",
              "      <td>l</td>\n",
              "      <td>0.598143</td>\n",
              "    </tr>\n",
              "    <tr>\n",
              "      <th>94</th>\n",
              "      <td>1</td>\n",
              "      <td>94</td>\n",
              "      <td>words</td>\n",
              "      <td>s</td>\n",
              "      <td>s</td>\n",
              "      <td>0.454466</td>\n",
              "    </tr>\n",
              "    <tr>\n",
              "      <th>95</th>\n",
              "      <td>1</td>\n",
              "      <td>95</td>\n",
              "      <td>words</td>\n",
              "      <td>s</td>\n",
              "      <td>s</td>\n",
              "      <td>0.292772</td>\n",
              "    </tr>\n",
              "    <tr>\n",
              "      <th>96</th>\n",
              "      <td>1</td>\n",
              "      <td>96</td>\n",
              "      <td>words</td>\n",
              "      <td>s</td>\n",
              "      <td>s</td>\n",
              "      <td>0.295043</td>\n",
              "    </tr>\n",
              "    <tr>\n",
              "      <th>97</th>\n",
              "      <td>1</td>\n",
              "      <td>97</td>\n",
              "      <td>pictures</td>\n",
              "      <td>l</td>\n",
              "      <td>l</td>\n",
              "      <td>0.406788</td>\n",
              "    </tr>\n",
              "    <tr>\n",
              "      <th>98</th>\n",
              "      <td>1</td>\n",
              "      <td>98</td>\n",
              "      <td>words</td>\n",
              "      <td>s</td>\n",
              "      <td>s</td>\n",
              "      <td>0.418519</td>\n",
              "    </tr>\n",
              "    <tr>\n",
              "      <th>99</th>\n",
              "      <td>1</td>\n",
              "      <td>99</td>\n",
              "      <td>words</td>\n",
              "      <td>s</td>\n",
              "      <td>s</td>\n",
              "      <td>0.376949</td>\n",
              "    </tr>\n",
              "    <tr>\n",
              "      <th>100</th>\n",
              "      <td>1</td>\n",
              "      <td>100</td>\n",
              "      <td>pictures</td>\n",
              "      <td>l</td>\n",
              "      <td>l</td>\n",
              "      <td>0.379658</td>\n",
              "    </tr>\n",
              "    <tr>\n",
              "      <th>101</th>\n",
              "      <td>1</td>\n",
              "      <td>101</td>\n",
              "      <td>pictures</td>\n",
              "      <td>l</td>\n",
              "      <td>l</td>\n",
              "      <td>0.688975</td>\n",
              "    </tr>\n",
              "    <tr>\n",
              "      <th>102</th>\n",
              "      <td>1</td>\n",
              "      <td>102</td>\n",
              "      <td>pictures</td>\n",
              "      <td>l</td>\n",
              "      <td>l</td>\n",
              "      <td>0.416130</td>\n",
              "    </tr>\n",
              "    <tr>\n",
              "      <th>103</th>\n",
              "      <td>1</td>\n",
              "      <td>103</td>\n",
              "      <td>pictures</td>\n",
              "      <td>l</td>\n",
              "      <td>l</td>\n",
              "      <td>0.460362</td>\n",
              "    </tr>\n",
              "    <tr>\n",
              "      <th>104</th>\n",
              "      <td>1</td>\n",
              "      <td>104</td>\n",
              "      <td>pictures</td>\n",
              "      <td>l</td>\n",
              "      <td>l</td>\n",
              "      <td>0.405471</td>\n",
              "    </tr>\n",
              "    <tr>\n",
              "      <th>105</th>\n",
              "      <td>1</td>\n",
              "      <td>105</td>\n",
              "      <td>pictures</td>\n",
              "      <td>l</td>\n",
              "      <td>l</td>\n",
              "      <td>0.446932</td>\n",
              "    </tr>\n",
              "    <tr>\n",
              "      <th>106</th>\n",
              "      <td>1</td>\n",
              "      <td>106</td>\n",
              "      <td>words</td>\n",
              "      <td>s</td>\n",
              "      <td>s</td>\n",
              "      <td>0.539512</td>\n",
              "    </tr>\n",
              "    <tr>\n",
              "      <th>107</th>\n",
              "      <td>1</td>\n",
              "      <td>107</td>\n",
              "      <td>pictures</td>\n",
              "      <td>l</td>\n",
              "      <td>l</td>\n",
              "      <td>0.593201</td>\n",
              "    </tr>\n",
              "    <tr>\n",
              "      <th>108</th>\n",
              "      <td>1</td>\n",
              "      <td>108</td>\n",
              "      <td>pictures</td>\n",
              "      <td>l</td>\n",
              "      <td>l</td>\n",
              "      <td>0.478574</td>\n",
              "    </tr>\n",
              "    <tr>\n",
              "      <th>109</th>\n",
              "      <td>1</td>\n",
              "      <td>109</td>\n",
              "      <td>words</td>\n",
              "      <td>s</td>\n",
              "      <td>s</td>\n",
              "      <td>0.527492</td>\n",
              "    </tr>\n",
              "    <tr>\n",
              "      <th>110</th>\n",
              "      <td>1</td>\n",
              "      <td>110</td>\n",
              "      <td>words</td>\n",
              "      <td>s</td>\n",
              "      <td>s</td>\n",
              "      <td>0.343810</td>\n",
              "    </tr>\n",
              "    <tr>\n",
              "      <th>111</th>\n",
              "      <td>1</td>\n",
              "      <td>111</td>\n",
              "      <td>words</td>\n",
              "      <td>s</td>\n",
              "      <td>s</td>\n",
              "      <td>0.310293</td>\n",
              "    </tr>\n",
              "    <tr>\n",
              "      <th>112</th>\n",
              "      <td>1</td>\n",
              "      <td>112</td>\n",
              "      <td>pictures</td>\n",
              "      <td>l</td>\n",
              "      <td>l</td>\n",
              "      <td>0.394577</td>\n",
              "    </tr>\n",
              "    <tr>\n",
              "      <th>113</th>\n",
              "      <td>1</td>\n",
              "      <td>113</td>\n",
              "      <td>pictures</td>\n",
              "      <td>l</td>\n",
              "      <td>l</td>\n",
              "      <td>0.450618</td>\n",
              "    </tr>\n",
              "    <tr>\n",
              "      <th>114</th>\n",
              "      <td>1</td>\n",
              "      <td>114</td>\n",
              "      <td>pictures</td>\n",
              "      <td>l</td>\n",
              "      <td>l</td>\n",
              "      <td>0.374415</td>\n",
              "    </tr>\n",
              "    <tr>\n",
              "      <th>115</th>\n",
              "      <td>1</td>\n",
              "      <td>115</td>\n",
              "      <td>pictures</td>\n",
              "      <td>l</td>\n",
              "      <td>l</td>\n",
              "      <td>0.374656</td>\n",
              "    </tr>\n",
              "    <tr>\n",
              "      <th>116</th>\n",
              "      <td>1</td>\n",
              "      <td>116</td>\n",
              "      <td>pictures</td>\n",
              "      <td>l</td>\n",
              "      <td>l</td>\n",
              "      <td>0.413087</td>\n",
              "    </tr>\n",
              "    <tr>\n",
              "      <th>117</th>\n",
              "      <td>1</td>\n",
              "      <td>117</td>\n",
              "      <td>words</td>\n",
              "      <td>s</td>\n",
              "      <td>s</td>\n",
              "      <td>0.477569</td>\n",
              "    </tr>\n",
              "    <tr>\n",
              "      <th>118</th>\n",
              "      <td>1</td>\n",
              "      <td>118</td>\n",
              "      <td>pictures</td>\n",
              "      <td>l</td>\n",
              "      <td>l</td>\n",
              "      <td>0.562511</td>\n",
              "    </tr>\n",
              "    <tr>\n",
              "      <th>119</th>\n",
              "      <td>1</td>\n",
              "      <td>119</td>\n",
              "      <td>words</td>\n",
              "      <td>s</td>\n",
              "      <td>s</td>\n",
              "      <td>0.523609</td>\n",
              "    </tr>\n",
              "    <tr>\n",
              "      <th>120</th>\n",
              "      <td>1</td>\n",
              "      <td>120</td>\n",
              "      <td>words</td>\n",
              "      <td>s</td>\n",
              "      <td>s</td>\n",
              "      <td>0.344369</td>\n",
              "    </tr>\n",
              "    <tr>\n",
              "      <th>121</th>\n",
              "      <td>1</td>\n",
              "      <td>121</td>\n",
              "      <td>pictures</td>\n",
              "      <td>l</td>\n",
              "      <td>l</td>\n",
              "      <td>0.450564</td>\n",
              "    </tr>\n",
              "    <tr>\n",
              "      <th>122</th>\n",
              "      <td>1</td>\n",
              "      <td>122</td>\n",
              "      <td>pictures</td>\n",
              "      <td>l</td>\n",
              "      <td>l</td>\n",
              "      <td>0.402649</td>\n",
              "    </tr>\n",
              "    <tr>\n",
              "      <th>123</th>\n",
              "      <td>1</td>\n",
              "      <td>123</td>\n",
              "      <td>pictures</td>\n",
              "      <td>l</td>\n",
              "      <td>l</td>\n",
              "      <td>0.565747</td>\n",
              "    </tr>\n",
              "    <tr>\n",
              "      <th>124</th>\n",
              "      <td>1</td>\n",
              "      <td>124</td>\n",
              "      <td>words</td>\n",
              "      <td>s</td>\n",
              "      <td>s</td>\n",
              "      <td>0.423749</td>\n",
              "    </tr>\n",
              "    <tr>\n",
              "      <th>125</th>\n",
              "      <td>1</td>\n",
              "      <td>125</td>\n",
              "      <td>words</td>\n",
              "      <td>s</td>\n",
              "      <td>s</td>\n",
              "      <td>0.297603</td>\n",
              "    </tr>\n",
              "    <tr>\n",
              "      <th>126</th>\n",
              "      <td>1</td>\n",
              "      <td>126</td>\n",
              "      <td>words</td>\n",
              "      <td>s</td>\n",
              "      <td>s</td>\n",
              "      <td>0.310171</td>\n",
              "    </tr>\n",
              "    <tr>\n",
              "      <th>127</th>\n",
              "      <td>1</td>\n",
              "      <td>127</td>\n",
              "      <td>pictures</td>\n",
              "      <td>l</td>\n",
              "      <td>l</td>\n",
              "      <td>0.364932</td>\n",
              "    </tr>\n",
              "    <tr>\n",
              "      <th>128</th>\n",
              "      <td>1</td>\n",
              "      <td>128</td>\n",
              "      <td>words</td>\n",
              "      <td>s</td>\n",
              "      <td>s</td>\n",
              "      <td>0.675802</td>\n",
              "    </tr>\n",
              "    <tr>\n",
              "      <th>129</th>\n",
              "      <td>1</td>\n",
              "      <td>129</td>\n",
              "      <td>words</td>\n",
              "      <td>s</td>\n",
              "      <td>s</td>\n",
              "      <td>0.486345</td>\n",
              "    </tr>\n",
              "    <tr>\n",
              "      <th>130</th>\n",
              "      <td>1</td>\n",
              "      <td>130</td>\n",
              "      <td>pictures</td>\n",
              "      <td>l</td>\n",
              "      <td>l</td>\n",
              "      <td>0.343644</td>\n",
              "    </tr>\n",
              "    <tr>\n",
              "      <th>131</th>\n",
              "      <td>1</td>\n",
              "      <td>131</td>\n",
              "      <td>words</td>\n",
              "      <td>s</td>\n",
              "      <td>s</td>\n",
              "      <td>0.527694</td>\n",
              "    </tr>\n",
              "    <tr>\n",
              "      <th>132</th>\n",
              "      <td>1</td>\n",
              "      <td>132</td>\n",
              "      <td>words</td>\n",
              "      <td>s</td>\n",
              "      <td>s</td>\n",
              "      <td>0.588451</td>\n",
              "    </tr>\n",
              "    <tr>\n",
              "      <th>133</th>\n",
              "      <td>1</td>\n",
              "      <td>133</td>\n",
              "      <td>pictures</td>\n",
              "      <td>l</td>\n",
              "      <td>l</td>\n",
              "      <td>0.417795</td>\n",
              "    </tr>\n",
              "    <tr>\n",
              "      <th>134</th>\n",
              "      <td>1</td>\n",
              "      <td>134</td>\n",
              "      <td>words</td>\n",
              "      <td>s</td>\n",
              "      <td>s</td>\n",
              "      <td>0.591258</td>\n",
              "    </tr>\n",
              "    <tr>\n",
              "      <th>135</th>\n",
              "      <td>1</td>\n",
              "      <td>135</td>\n",
              "      <td>words</td>\n",
              "      <td>s</td>\n",
              "      <td>s</td>\n",
              "      <td>0.573721</td>\n",
              "    </tr>\n",
              "    <tr>\n",
              "      <th>136</th>\n",
              "      <td>1</td>\n",
              "      <td>136</td>\n",
              "      <td>pictures</td>\n",
              "      <td>l</td>\n",
              "      <td>l</td>\n",
              "      <td>0.405035</td>\n",
              "    </tr>\n",
              "    <tr>\n",
              "      <th>137</th>\n",
              "      <td>1</td>\n",
              "      <td>137</td>\n",
              "      <td>words</td>\n",
              "      <td>s</td>\n",
              "      <td>s</td>\n",
              "      <td>0.571368</td>\n",
              "    </tr>\n",
              "    <tr>\n",
              "      <th>138</th>\n",
              "      <td>1</td>\n",
              "      <td>138</td>\n",
              "      <td>pictures</td>\n",
              "      <td>l</td>\n",
              "      <td>l</td>\n",
              "      <td>0.441825</td>\n",
              "    </tr>\n",
              "    <tr>\n",
              "      <th>139</th>\n",
              "      <td>1</td>\n",
              "      <td>139</td>\n",
              "      <td>words</td>\n",
              "      <td>s</td>\n",
              "      <td>s</td>\n",
              "      <td>0.653849</td>\n",
              "    </tr>\n",
              "    <tr>\n",
              "      <th>140</th>\n",
              "      <td>1</td>\n",
              "      <td>140</td>\n",
              "      <td>words</td>\n",
              "      <td>s</td>\n",
              "      <td>s</td>\n",
              "      <td>0.294243</td>\n",
              "    </tr>\n",
              "    <tr>\n",
              "      <th>141</th>\n",
              "      <td>1</td>\n",
              "      <td>141</td>\n",
              "      <td>pictures</td>\n",
              "      <td>l</td>\n",
              "      <td>l</td>\n",
              "      <td>0.460938</td>\n",
              "    </tr>\n",
              "    <tr>\n",
              "      <th>142</th>\n",
              "      <td>1</td>\n",
              "      <td>142</td>\n",
              "      <td>pictures</td>\n",
              "      <td>l</td>\n",
              "      <td>l</td>\n",
              "      <td>0.469180</td>\n",
              "    </tr>\n",
              "    <tr>\n",
              "      <th>143</th>\n",
              "      <td>1</td>\n",
              "      <td>143</td>\n",
              "      <td>pictures</td>\n",
              "      <td>l</td>\n",
              "      <td>l</td>\n",
              "      <td>0.455937</td>\n",
              "    </tr>\n",
              "    <tr>\n",
              "      <th>144</th>\n",
              "      <td>1</td>\n",
              "      <td>144</td>\n",
              "      <td>words</td>\n",
              "      <td>s</td>\n",
              "      <td>s</td>\n",
              "      <td>0.453783</td>\n",
              "    </tr>\n",
              "    <tr>\n",
              "      <th>145</th>\n",
              "      <td>1</td>\n",
              "      <td>145</td>\n",
              "      <td>pictures</td>\n",
              "      <td>l</td>\n",
              "      <td>l</td>\n",
              "      <td>0.976724</td>\n",
              "    </tr>\n",
              "    <tr>\n",
              "      <th>146</th>\n",
              "      <td>1</td>\n",
              "      <td>146</td>\n",
              "      <td>words</td>\n",
              "      <td>s</td>\n",
              "      <td>s</td>\n",
              "      <td>0.706404</td>\n",
              "    </tr>\n",
              "    <tr>\n",
              "      <th>147</th>\n",
              "      <td>1</td>\n",
              "      <td>147</td>\n",
              "      <td>pictures</td>\n",
              "      <td>l</td>\n",
              "      <td>l</td>\n",
              "      <td>0.517502</td>\n",
              "    </tr>\n",
              "    <tr>\n",
              "      <th>148</th>\n",
              "      <td>1</td>\n",
              "      <td>148</td>\n",
              "      <td>words</td>\n",
              "      <td>s</td>\n",
              "      <td>s</td>\n",
              "      <td>0.570587</td>\n",
              "    </tr>\n",
              "    <tr>\n",
              "      <th>149</th>\n",
              "      <td>1</td>\n",
              "      <td>149</td>\n",
              "      <td>words</td>\n",
              "      <td>s</td>\n",
              "      <td>s</td>\n",
              "      <td>0.775157</td>\n",
              "    </tr>\n",
              "  </tbody>\n",
              "</table>\n",
              "</div>"
            ],
            "text/plain": [
              "     vpn_number  trial condition correct_key key        rt\n",
              "0             1      0  pictures           l   s  1.601210\n",
              "1             1      1  pictures           l   l  0.809813\n",
              "2             1      2  pictures           l   l  0.624212\n",
              "3             1      3  pictures           l   l  0.537913\n",
              "4             1      4     words           s   s  0.536464\n",
              "5             1      5     words           s   l  0.468966\n",
              "6             1      6     words           s   s  1.797997\n",
              "7             1      7     words           s   s  0.455532\n",
              "8             1      8  pictures           l   l  0.630597\n",
              "9             1      9     words           s   s  0.635549\n",
              "10            1     10     words           s   s  0.436713\n",
              "11            1     11     words           s   s  0.580195\n",
              "12            1     12     words           s   s  0.379475\n",
              "13            1     13  pictures           l   l  0.452704\n",
              "14            1     14     words           s   s  0.600725\n",
              "15            1     15     words           s   s  0.385452\n",
              "16            1     16  pictures           l   l  0.424816\n",
              "17            1     17  pictures           l   l  0.529316\n",
              "18            1     18  pictures           l   l  0.435671\n",
              "19            1     19  pictures           l   l  0.764928\n",
              "20            1     20     words           s   s  0.403602\n",
              "21            1     21  pictures           l   l  0.513917\n",
              "22            1     22  pictures           l   l  0.642765\n",
              "23            1     23     words           s   s  0.535162\n",
              "24            1     24     words           s   s  0.323107\n",
              "25            1     25     words           s   s  0.384130\n",
              "26            1     26     words           s   s  0.386746\n",
              "27            1     27  pictures           l   l  0.431236\n",
              "28            1     28  pictures           l   l  0.576281\n",
              "29            1     29     words           s   s  0.575101\n",
              "30            1     30     words           s   s  0.352320\n",
              "31            1     31     words           s   s  0.434046\n",
              "32            1     32     words           s   s  0.572553\n",
              "33            1     33     words           s   s  0.424695\n",
              "34            1     34     words           s   s  0.358113\n",
              "35            1     35  pictures           l   l  0.366468\n",
              "36            1     36  pictures           l   l  0.408530\n",
              "37            1     37     words           s   s  0.443337\n",
              "38            1     38     words           s   s  0.376508\n",
              "39            1     39     words           s   s  0.370955\n",
              "40            1     40  pictures           l   l  0.356326\n",
              "41            1     41     words           s   s  0.617431\n",
              "42            1     42  pictures           l   l  0.462605\n",
              "43            1     43     words           s   s  0.575835\n",
              "44            1     44  pictures           l   l  0.538974\n",
              "45            1     45  pictures           l   l  0.490793\n",
              "46            1     46     words           s   s  0.439512\n",
              "47            1     47  pictures           l   l  0.626768\n",
              "48            1     48  pictures           l   l  0.820308\n",
              "49            1     49  pictures           l   l  0.383684\n",
              "50            1     50  pictures           l   l  0.449498\n",
              "51            1     51  pictures           l   l  0.447663\n",
              "52            1     52     words           s   s  0.404423\n",
              "53            1     53     words           s   s  0.445655\n",
              "54            1     54     words           s   s  0.519427\n",
              "55            1     55     words           s   s  0.447828\n",
              "56            1     56  pictures           l   l  0.411585\n",
              "57            1     57  pictures           l   l  0.520795\n",
              "58            1     58     words           s   s  0.453077\n",
              "59            1     59     words           s   s  0.312911\n",
              "60            1     60     words           s   s  0.317503\n",
              "61            1     61     words           s   s  0.362426\n",
              "62            1     62     words           s   s  0.334412\n",
              "63            1     63     words           s   s  0.375415\n",
              "64            1     64     words           s   s  0.295237\n",
              "65            1     65     words           s   s  0.349308\n",
              "66            1     66     words           s   s  0.458553\n",
              "67            1     67  pictures           l   l  0.402066\n",
              "68            1     68     words           s   s  0.512205\n",
              "69            1     69  pictures           l   l  0.398822\n",
              "70            1     70  pictures           l   l  0.664253\n",
              "71            1     71  pictures           l   l  0.542978\n",
              "72            1     72     words           s   s  0.467101\n",
              "73            1     73     words           s   s  0.351225\n",
              "74            1     74  pictures           l   l  0.400925\n",
              "75            1     75     words           s   s  0.634471\n",
              "76            1     76  pictures           l   l  0.406851\n",
              "77            1     77     words           s   s  0.720879\n",
              "78            1     78     words           s   s  0.301562\n",
              "79            1     79     words           s   s  0.366838\n",
              "80            1     80     words           s   s  0.320346\n",
              "81            1     81  pictures           l   l  0.427605\n",
              "82            1     82     words           s   s  0.605440\n",
              "83            1     83     words           s   s  0.459118\n",
              "84            1     84     words           s   s  0.370073\n",
              "85            1     85  pictures           l   l  0.383719\n",
              "86            1     86  pictures           l   s  0.561896\n",
              "87            1     87     words           s   s  0.848549\n",
              "88            1     88  pictures           l   l  0.447695\n",
              "89            1     89     words           s   s  0.619724\n",
              "90            1     90  pictures           l   l  0.470713\n",
              "91            1     91     words           s   s  0.609412\n",
              "92            1     92  pictures           l   l  0.480579\n",
              "93            1     93  pictures           l   l  0.598143\n",
              "94            1     94     words           s   s  0.454466\n",
              "95            1     95     words           s   s  0.292772\n",
              "96            1     96     words           s   s  0.295043\n",
              "97            1     97  pictures           l   l  0.406788\n",
              "98            1     98     words           s   s  0.418519\n",
              "99            1     99     words           s   s  0.376949\n",
              "100           1    100  pictures           l   l  0.379658\n",
              "101           1    101  pictures           l   l  0.688975\n",
              "102           1    102  pictures           l   l  0.416130\n",
              "103           1    103  pictures           l   l  0.460362\n",
              "104           1    104  pictures           l   l  0.405471\n",
              "105           1    105  pictures           l   l  0.446932\n",
              "106           1    106     words           s   s  0.539512\n",
              "107           1    107  pictures           l   l  0.593201\n",
              "108           1    108  pictures           l   l  0.478574\n",
              "109           1    109     words           s   s  0.527492\n",
              "110           1    110     words           s   s  0.343810\n",
              "111           1    111     words           s   s  0.310293\n",
              "112           1    112  pictures           l   l  0.394577\n",
              "113           1    113  pictures           l   l  0.450618\n",
              "114           1    114  pictures           l   l  0.374415\n",
              "115           1    115  pictures           l   l  0.374656\n",
              "116           1    116  pictures           l   l  0.413087\n",
              "117           1    117     words           s   s  0.477569\n",
              "118           1    118  pictures           l   l  0.562511\n",
              "119           1    119     words           s   s  0.523609\n",
              "120           1    120     words           s   s  0.344369\n",
              "121           1    121  pictures           l   l  0.450564\n",
              "122           1    122  pictures           l   l  0.402649\n",
              "123           1    123  pictures           l   l  0.565747\n",
              "124           1    124     words           s   s  0.423749\n",
              "125           1    125     words           s   s  0.297603\n",
              "126           1    126     words           s   s  0.310171\n",
              "127           1    127  pictures           l   l  0.364932\n",
              "128           1    128     words           s   s  0.675802\n",
              "129           1    129     words           s   s  0.486345\n",
              "130           1    130  pictures           l   l  0.343644\n",
              "131           1    131     words           s   s  0.527694\n",
              "132           1    132     words           s   s  0.588451\n",
              "133           1    133  pictures           l   l  0.417795\n",
              "134           1    134     words           s   s  0.591258\n",
              "135           1    135     words           s   s  0.573721\n",
              "136           1    136  pictures           l   l  0.405035\n",
              "137           1    137     words           s   s  0.571368\n",
              "138           1    138  pictures           l   l  0.441825\n",
              "139           1    139     words           s   s  0.653849\n",
              "140           1    140     words           s   s  0.294243\n",
              "141           1    141  pictures           l   l  0.460938\n",
              "142           1    142  pictures           l   l  0.469180\n",
              "143           1    143  pictures           l   l  0.455937\n",
              "144           1    144     words           s   s  0.453783\n",
              "145           1    145  pictures           l   l  0.976724\n",
              "146           1    146     words           s   s  0.706404\n",
              "147           1    147  pictures           l   l  0.517502\n",
              "148           1    148     words           s   s  0.570587\n",
              "149           1    149     words           s   s  0.775157"
            ]
          },
          "metadata": {
            "tags": []
          },
          "execution_count": 16
        }
      ]
    },
    {
      "cell_type": "markdown",
      "metadata": {
        "id": "6CLmJdX5S4Lp"
      },
      "source": [
        "As you can see, our dataframe only contains reaction times from a single participant. If we are not super duber interested in single-case studies, this is usually not the type of data we are handling. Most often, especially after conducting an experiment we usually (&hopefully) got data from more than 1 subject stored on our disk.\n",
        "\n"
      ]
    },
    {
      "cell_type": "markdown",
      "metadata": {
        "id": "sEFcwvF4S4Lq"
      },
      "source": [
        "As already mentioned above, we usually end up with more than one datafile from different subjects. \n",
        "\n",
        "To check e.g. for files in a given directory, we can use ```os.listdir(\"directory\")```"
      ]
    },
    {
      "cell_type": "code",
      "metadata": {
        "colab": {
          "base_uri": "https://localhost:8080/"
        },
        "id": "7OPSJkRmb4MJ",
        "outputId": "623db1dc-2ab1-40c4-bd10-30c2f5775bd7"
      },
      "source": [
        "os.listdir(\"daten_python/\")"
      ],
      "execution_count": 17,
      "outputs": [
        {
          "output_type": "execute_result",
          "data": {
            "text/plain": [
              "['results7.csv',\n",
              " 'results3.csv',\n",
              " 'results2.csv',\n",
              " 'results4.csv',\n",
              " 'results5.csv',\n",
              " 'results6.csv',\n",
              " 'results1.csv',\n",
              " 'results8.csv',\n",
              " '.DS_Store']"
            ]
          },
          "metadata": {
            "tags": []
          },
          "execution_count": 17
        }
      ]
    },
    {
      "cell_type": "markdown",
      "metadata": {
        "id": "FZ-guc_rcAVT"
      },
      "source": [
        "It is usually better to specify which files one wants to load, e.g., only .csv files. Here, my iOS created the .DS_Store file which could eventually crash the code at some point. "
      ]
    },
    {
      "cell_type": "code",
      "metadata": {
        "colab": {
          "base_uri": "https://localhost:8080/"
        },
        "id": "O9R3xdL_dgiX",
        "outputId": "b12a907e-0e33-4077-fcdb-1ef46aeab603"
      },
      "source": [
        "source = [file for file in os.listdir(\"daten_python/\") if file.endswith(\".csv\")]\n",
        "source"
      ],
      "execution_count": 20,
      "outputs": [
        {
          "output_type": "execute_result",
          "data": {
            "text/plain": [
              "['results7.csv',\n",
              " 'results3.csv',\n",
              " 'results2.csv',\n",
              " 'results4.csv',\n",
              " 'results5.csv',\n",
              " 'results6.csv',\n",
              " 'results1.csv',\n",
              " 'results8.csv']"
            ]
          },
          "metadata": {
            "tags": []
          },
          "execution_count": 20
        }
      ]
    },
    {
      "cell_type": "markdown",
      "metadata": {
        "id": "YBtErbRvS4Ls"
      },
      "source": [
        "In our easy example, we got data from 8 different participants. Conveniently, all our files are named in the same way, i.e. result**number**.csv \n",
        "\n",
        "To load the datafile from each subject iteratevily, we could do something like this:"
      ]
    },
    {
      "cell_type": "code",
      "metadata": {
        "colab": {
          "base_uri": "https://localhost:8080/",
          "height": 36
        },
        "id": "F9x_1AAOS4Ls",
        "outputId": "3e03b1ad-bf8a-4658-effc-efce88770080"
      },
      "source": [
        "logfile = \"daten_python/results{}.csv\" #create a blank file directory with {} \n",
        "logfile"
      ],
      "execution_count": 21,
      "outputs": [
        {
          "output_type": "execute_result",
          "data": {
            "application/vnd.google.colaboratory.intrinsic+json": {
              "type": "string"
            },
            "text/plain": [
              "'daten_python/results{}.csv'"
            ]
          },
          "metadata": {
            "tags": []
          },
          "execution_count": 21
        }
      ]
    },
    {
      "cell_type": "markdown",
      "metadata": {
        "id": "BDWzgUi8S4Ls"
      },
      "source": [
        "We can use ```some_string{}.format``` to format our string by filling in the placeholder {} with a value, either fixed or in an iteratevily manner.\n",
        "\n",
        "Lets see with a single string how it works:"
      ]
    },
    {
      "cell_type": "code",
      "metadata": {
        "id": "_0lr7QIFS4Ls",
        "outputId": "fd82a67e-ab86-4695-9343-3e2252e35fec"
      },
      "source": [
        "\"hall{}\".format(\"o\")"
      ],
      "execution_count": null,
      "outputs": [
        {
          "output_type": "execute_result",
          "data": {
            "text/plain": [
              "'hallo'"
            ]
          },
          "metadata": {
            "tags": []
          },
          "execution_count": 14
        }
      ]
    },
    {
      "cell_type": "markdown",
      "metadata": {
        "id": "6aFS7G1LS4Lu"
      },
      "source": [
        "Let´s load the datasheet of each subject and combine it to one single dataframe:"
      ]
    },
    {
      "cell_type": "code",
      "metadata": {
        "colab": {
          "base_uri": "https://localhost:8080/"
        },
        "id": "8mQCMvt1S4Lw",
        "outputId": "9611223e-c3a2-44e6-dcdf-a93686e8ed2b"
      },
      "source": [
        "path = \"daten_python/\" \n",
        "\n",
        "all_dfs = [] ### create empty list\n",
        "for i in source: #iterate over all files in source (i.e., a list)\n",
        "    print(i) \n",
        "    df = pd.read_csv(path+i) # add current file (i) to path and read .csv\n",
        "    all_dfs.append(df) # append dataframe to empty list\n",
        "df = pd.concat(all_dfs) # concatenate all dataframes in list to one single dataframe"
      ],
      "execution_count": 23,
      "outputs": [
        {
          "output_type": "stream",
          "text": [
            "results7.csv\n",
            "results3.csv\n",
            "results2.csv\n",
            "results4.csv\n",
            "results5.csv\n",
            "results6.csv\n",
            "results1.csv\n",
            "results8.csv\n"
          ],
          "name": "stdout"
        }
      ]
    },
    {
      "cell_type": "markdown",
      "metadata": {
        "id": "urhJfqCSS4Lx"
      },
      "source": [
        "To get a first idea about your dataframe, its shape, its column names and some first descriptive values, we can use:\n",
        "\n",
        "- ```dataframe.shape```: contains your rows x columns\n",
        "- ```dataframe.columns```: contains your column names\n",
        "- ```dataframe.describe```: contains some basic, descriptive values (e.g. min, max) for numeric values; output depends on your column\n",
        "\n",
        "Especially ```dataframe.describe()``` gives you a first idea whether there are missing values in your data. However it only works for columns with numeric values.\n"
      ]
    },
    {
      "cell_type": "code",
      "metadata": {
        "colab": {
          "base_uri": "https://localhost:8080/"
        },
        "id": "6KdLkIRYS4Ly",
        "outputId": "677ddbe0-5cbc-4c90-e1ad-e3401beef1c2"
      },
      "source": [
        "df.shape"
      ],
      "execution_count": 24,
      "outputs": [
        {
          "output_type": "execute_result",
          "data": {
            "text/plain": [
              "(1200, 6)"
            ]
          },
          "metadata": {
            "tags": []
          },
          "execution_count": 24
        }
      ]
    },
    {
      "cell_type": "code",
      "metadata": {
        "colab": {
          "base_uri": "https://localhost:8080/"
        },
        "id": "YmqjHvMQS4Ly",
        "outputId": "c485c37c-789b-48e5-8277-620bfafa92c9"
      },
      "source": [
        "df.columns"
      ],
      "execution_count": 25,
      "outputs": [
        {
          "output_type": "execute_result",
          "data": {
            "text/plain": [
              "Index(['vpn_number', 'trial', 'condition', 'correct_key', 'key', 'rt'], dtype='object')"
            ]
          },
          "metadata": {
            "tags": []
          },
          "execution_count": 25
        }
      ]
    },
    {
      "cell_type": "code",
      "metadata": {
        "colab": {
          "base_uri": "https://localhost:8080/",
          "height": 300
        },
        "id": "12eW7SMBS4Lz",
        "outputId": "a3ad743b-5f89-4c63-df09-833abb4f1f6f"
      },
      "source": [
        "df.describe()"
      ],
      "execution_count": 26,
      "outputs": [
        {
          "output_type": "execute_result",
          "data": {
            "text/html": [
              "<div>\n",
              "<style scoped>\n",
              "    .dataframe tbody tr th:only-of-type {\n",
              "        vertical-align: middle;\n",
              "    }\n",
              "\n",
              "    .dataframe tbody tr th {\n",
              "        vertical-align: top;\n",
              "    }\n",
              "\n",
              "    .dataframe thead th {\n",
              "        text-align: right;\n",
              "    }\n",
              "</style>\n",
              "<table border=\"1\" class=\"dataframe\">\n",
              "  <thead>\n",
              "    <tr style=\"text-align: right;\">\n",
              "      <th></th>\n",
              "      <th>vpn_number</th>\n",
              "      <th>trial</th>\n",
              "      <th>rt</th>\n",
              "    </tr>\n",
              "  </thead>\n",
              "  <tbody>\n",
              "    <tr>\n",
              "      <th>count</th>\n",
              "      <td>1200.000000</td>\n",
              "      <td>1200.000000</td>\n",
              "      <td>1200.000000</td>\n",
              "    </tr>\n",
              "    <tr>\n",
              "      <th>mean</th>\n",
              "      <td>4.500000</td>\n",
              "      <td>74.500000</td>\n",
              "      <td>0.462975</td>\n",
              "    </tr>\n",
              "    <tr>\n",
              "      <th>std</th>\n",
              "      <td>2.292243</td>\n",
              "      <td>43.318361</td>\n",
              "      <td>0.142556</td>\n",
              "    </tr>\n",
              "    <tr>\n",
              "      <th>min</th>\n",
              "      <td>1.000000</td>\n",
              "      <td>0.000000</td>\n",
              "      <td>0.190987</td>\n",
              "    </tr>\n",
              "    <tr>\n",
              "      <th>25%</th>\n",
              "      <td>2.750000</td>\n",
              "      <td>37.000000</td>\n",
              "      <td>0.387352</td>\n",
              "    </tr>\n",
              "    <tr>\n",
              "      <th>50%</th>\n",
              "      <td>4.500000</td>\n",
              "      <td>74.500000</td>\n",
              "      <td>0.445858</td>\n",
              "    </tr>\n",
              "    <tr>\n",
              "      <th>75%</th>\n",
              "      <td>6.250000</td>\n",
              "      <td>112.000000</td>\n",
              "      <td>0.510286</td>\n",
              "    </tr>\n",
              "    <tr>\n",
              "      <th>max</th>\n",
              "      <td>8.000000</td>\n",
              "      <td>149.000000</td>\n",
              "      <td>3.205947</td>\n",
              "    </tr>\n",
              "  </tbody>\n",
              "</table>\n",
              "</div>"
            ],
            "text/plain": [
              "        vpn_number        trial           rt\n",
              "count  1200.000000  1200.000000  1200.000000\n",
              "mean      4.500000    74.500000     0.462975\n",
              "std       2.292243    43.318361     0.142556\n",
              "min       1.000000     0.000000     0.190987\n",
              "25%       2.750000    37.000000     0.387352\n",
              "50%       4.500000    74.500000     0.445858\n",
              "75%       6.250000   112.000000     0.510286\n",
              "max       8.000000   149.000000     3.205947"
            ]
          },
          "metadata": {
            "tags": []
          },
          "execution_count": 26
        }
      ]
    },
    {
      "cell_type": "markdown",
      "metadata": {
        "id": "UpP_gMiuS4Lz"
      },
      "source": [
        "As we can see, the ```dataframe.describe()```function here only resolves columns with numeric values. To get a better idea what other columns contain, we could look for unique values by simply using ```dataframe[\"some_column\"].unique()```"
      ]
    },
    {
      "cell_type": "code",
      "metadata": {
        "colab": {
          "base_uri": "https://localhost:8080/"
        },
        "id": "l3lS8NQ6S4L0",
        "outputId": "2b955fce-d613-4e24-94a7-3e64ac13bbba"
      },
      "source": [
        "df[\"condition\"].unique()"
      ],
      "execution_count": 27,
      "outputs": [
        {
          "output_type": "execute_result",
          "data": {
            "text/plain": [
              "array(['words', 'pictures'], dtype=object)"
            ]
          },
          "metadata": {
            "tags": []
          },
          "execution_count": 27
        }
      ]
    },
    {
      "cell_type": "markdown",
      "metadata": {
        "id": "G4zcKfKDS4L0"
      },
      "source": [
        "To further check for missing values we can use ```dataframe.isnull()``` which returns a dataframe with a boolean statement (i.e. TRUE or FALSE) for each cell. To get a better and comprehensive overview, we just can add ```.sum()``` to see the added missing values per column "
      ]
    },
    {
      "cell_type": "code",
      "metadata": {
        "colab": {
          "base_uri": "https://localhost:8080/"
        },
        "id": "aLrb1yBMS4L0",
        "outputId": "53f6cbba-218d-440c-d2f5-33dcaff60adc"
      },
      "source": [
        "df.isnull().sum()"
      ],
      "execution_count": 28,
      "outputs": [
        {
          "output_type": "execute_result",
          "data": {
            "text/plain": [
              "vpn_number     0\n",
              "trial          0\n",
              "condition      0\n",
              "correct_key    0\n",
              "key            0\n",
              "rt             0\n",
              "dtype: int64"
            ]
          },
          "metadata": {
            "tags": []
          },
          "execution_count": 28
        }
      ]
    },
    {
      "cell_type": "markdown",
      "metadata": {
        "id": "e1K7fbNFS4L1"
      },
      "source": [
        "Luckily we don´t have any missing values in our dataframe. However, if you have any in yours, don´t worry, there are ways to either fill or drop missing values \n",
        "\n",
        "- ```dataframe.fillna(some value, inplace=True)``` fills missing values with \"some value\"\n",
        "- ```dataframe.dropna(axis=0 , how=\"any\")``` drops rows with at least one missing value"
      ]
    },
    {
      "cell_type": "markdown",
      "metadata": {
        "id": "PiYGTNiiS4L1"
      },
      "source": [
        "Let´s again have a look at our todays example. We have information about the stimulus material, the correct *answer*, the actual button press and the response/reaction time"
      ]
    },
    {
      "cell_type": "code",
      "metadata": {
        "colab": {
          "base_uri": "https://localhost:8080/",
          "height": 206
        },
        "id": "mNdu-h1xS4L1",
        "outputId": "24576fc3-340b-4fb3-dc5f-39de255dacc6"
      },
      "source": [
        "df.head()"
      ],
      "execution_count": 29,
      "outputs": [
        {
          "output_type": "execute_result",
          "data": {
            "text/html": [
              "<div>\n",
              "<style scoped>\n",
              "    .dataframe tbody tr th:only-of-type {\n",
              "        vertical-align: middle;\n",
              "    }\n",
              "\n",
              "    .dataframe tbody tr th {\n",
              "        vertical-align: top;\n",
              "    }\n",
              "\n",
              "    .dataframe thead th {\n",
              "        text-align: right;\n",
              "    }\n",
              "</style>\n",
              "<table border=\"1\" class=\"dataframe\">\n",
              "  <thead>\n",
              "    <tr style=\"text-align: right;\">\n",
              "      <th></th>\n",
              "      <th>vpn_number</th>\n",
              "      <th>trial</th>\n",
              "      <th>condition</th>\n",
              "      <th>correct_key</th>\n",
              "      <th>key</th>\n",
              "      <th>rt</th>\n",
              "    </tr>\n",
              "  </thead>\n",
              "  <tbody>\n",
              "    <tr>\n",
              "      <th>0</th>\n",
              "      <td>7</td>\n",
              "      <td>0</td>\n",
              "      <td>words</td>\n",
              "      <td>s</td>\n",
              "      <td>s</td>\n",
              "      <td>0.951164</td>\n",
              "    </tr>\n",
              "    <tr>\n",
              "      <th>1</th>\n",
              "      <td>7</td>\n",
              "      <td>1</td>\n",
              "      <td>pictures</td>\n",
              "      <td>l</td>\n",
              "      <td>l</td>\n",
              "      <td>0.764862</td>\n",
              "    </tr>\n",
              "    <tr>\n",
              "      <th>2</th>\n",
              "      <td>7</td>\n",
              "      <td>2</td>\n",
              "      <td>pictures</td>\n",
              "      <td>l</td>\n",
              "      <td>s</td>\n",
              "      <td>0.647508</td>\n",
              "    </tr>\n",
              "    <tr>\n",
              "      <th>3</th>\n",
              "      <td>7</td>\n",
              "      <td>3</td>\n",
              "      <td>words</td>\n",
              "      <td>s</td>\n",
              "      <td>s</td>\n",
              "      <td>0.789708</td>\n",
              "    </tr>\n",
              "    <tr>\n",
              "      <th>4</th>\n",
              "      <td>7</td>\n",
              "      <td>4</td>\n",
              "      <td>words</td>\n",
              "      <td>s</td>\n",
              "      <td>s</td>\n",
              "      <td>0.658317</td>\n",
              "    </tr>\n",
              "  </tbody>\n",
              "</table>\n",
              "</div>"
            ],
            "text/plain": [
              "   vpn_number  trial condition correct_key key        rt\n",
              "0           7      0     words           s   s  0.951164\n",
              "1           7      1  pictures           l   l  0.764862\n",
              "2           7      2  pictures           l   s  0.647508\n",
              "3           7      3     words           s   s  0.789708\n",
              "4           7      4     words           s   s  0.658317"
            ]
          },
          "metadata": {
            "tags": []
          },
          "execution_count": 29
        }
      ]
    },
    {
      "cell_type": "markdown",
      "metadata": {
        "id": "tvuvk5PNS4L2"
      },
      "source": [
        "From the ```dataframe.describe()```above, we already know, that the mean RT was about 0.46 s - let´s recreate the result using the ```.mean()```function and round it two decimals using ```round(some_number, number_of_decimals)```"
      ]
    },
    {
      "cell_type": "code",
      "metadata": {
        "colab": {
          "base_uri": "https://localhost:8080/"
        },
        "id": "xb_dEDXqS4L2",
        "outputId": "5ee94a63-8bfd-49a5-a778-63466602b213"
      },
      "source": [
        "round(df[\"rt\"].mean(),2)"
      ],
      "execution_count": 30,
      "outputs": [
        {
          "output_type": "execute_result",
          "data": {
            "text/plain": [
              "0.46"
            ]
          },
          "metadata": {
            "tags": []
          },
          "execution_count": 30
        }
      ]
    },
    {
      "cell_type": "markdown",
      "metadata": {
        "id": "D6EHpsLFS4L2"
      },
      "source": [
        "This works in a similar way for *min* / *max* / *standard deviation* "
      ]
    },
    {
      "cell_type": "code",
      "metadata": {
        "colab": {
          "base_uri": "https://localhost:8080/"
        },
        "id": "thWcWft5S4L2",
        "outputId": "ad390643-6cf6-4fa3-ab54-08365154e751"
      },
      "source": [
        "round(df[\"rt\"].min(),2)"
      ],
      "execution_count": 31,
      "outputs": [
        {
          "output_type": "execute_result",
          "data": {
            "text/plain": [
              "0.19"
            ]
          },
          "metadata": {
            "tags": []
          },
          "execution_count": 31
        }
      ]
    },
    {
      "cell_type": "code",
      "metadata": {
        "colab": {
          "base_uri": "https://localhost:8080/"
        },
        "id": "yfXv7KyhS4L2",
        "outputId": "a07ce825-0a78-426c-a62a-3b43259bb09d"
      },
      "source": [
        "round(df[\"rt\"].max(),2)"
      ],
      "execution_count": 32,
      "outputs": [
        {
          "output_type": "execute_result",
          "data": {
            "text/plain": [
              "3.21"
            ]
          },
          "metadata": {
            "tags": []
          },
          "execution_count": 32
        }
      ]
    },
    {
      "cell_type": "code",
      "metadata": {
        "colab": {
          "base_uri": "https://localhost:8080/"
        },
        "id": "tWgJ1kcCS4L3",
        "outputId": "d5a56147-0f3b-41da-ef32-e25a1f3d871b"
      },
      "source": [
        "round(df[\"rt\"].std(),2)"
      ],
      "execution_count": 33,
      "outputs": [
        {
          "output_type": "execute_result",
          "data": {
            "text/plain": [
              "0.14"
            ]
          },
          "metadata": {
            "tags": []
          },
          "execution_count": 33
        }
      ]
    },
    {
      "cell_type": "markdown",
      "metadata": {
        "id": "vo8x1sg3S4L4"
      },
      "source": [
        "We can see, that mean RT of the experiment and the SD is quite small (under 1s) - let´s try to display any RT above 1 s using ```dataframe.loc``` and a conditional (i.e. boolean) statement as a *potential* outlier"
      ]
    },
    {
      "cell_type": "code",
      "metadata": {
        "colab": {
          "base_uri": "https://localhost:8080/",
          "height": 206
        },
        "id": "uLwT8UNIS4L4",
        "outputId": "f8ff72b7-2e65-4df7-b45a-fcc273eb1abc"
      },
      "source": [
        "df.loc[df[\"rt\"] > 1.0]"
      ],
      "execution_count": 34,
      "outputs": [
        {
          "output_type": "execute_result",
          "data": {
            "text/html": [
              "<div>\n",
              "<style scoped>\n",
              "    .dataframe tbody tr th:only-of-type {\n",
              "        vertical-align: middle;\n",
              "    }\n",
              "\n",
              "    .dataframe tbody tr th {\n",
              "        vertical-align: top;\n",
              "    }\n",
              "\n",
              "    .dataframe thead th {\n",
              "        text-align: right;\n",
              "    }\n",
              "</style>\n",
              "<table border=\"1\" class=\"dataframe\">\n",
              "  <thead>\n",
              "    <tr style=\"text-align: right;\">\n",
              "      <th></th>\n",
              "      <th>vpn_number</th>\n",
              "      <th>trial</th>\n",
              "      <th>condition</th>\n",
              "      <th>correct_key</th>\n",
              "      <th>key</th>\n",
              "      <th>rt</th>\n",
              "    </tr>\n",
              "  </thead>\n",
              "  <tbody>\n",
              "    <tr>\n",
              "      <th>7</th>\n",
              "      <td>7</td>\n",
              "      <td>7</td>\n",
              "      <td>pictures</td>\n",
              "      <td>l</td>\n",
              "      <td>l</td>\n",
              "      <td>1.029200</td>\n",
              "    </tr>\n",
              "    <tr>\n",
              "      <th>0</th>\n",
              "      <td>1</td>\n",
              "      <td>0</td>\n",
              "      <td>pictures</td>\n",
              "      <td>l</td>\n",
              "      <td>s</td>\n",
              "      <td>1.601210</td>\n",
              "    </tr>\n",
              "    <tr>\n",
              "      <th>6</th>\n",
              "      <td>1</td>\n",
              "      <td>6</td>\n",
              "      <td>words</td>\n",
              "      <td>s</td>\n",
              "      <td>s</td>\n",
              "      <td>1.797997</td>\n",
              "    </tr>\n",
              "    <tr>\n",
              "      <th>0</th>\n",
              "      <td>8</td>\n",
              "      <td>0</td>\n",
              "      <td>words</td>\n",
              "      <td>s</td>\n",
              "      <td>s</td>\n",
              "      <td>3.205947</td>\n",
              "    </tr>\n",
              "    <tr>\n",
              "      <th>1</th>\n",
              "      <td>8</td>\n",
              "      <td>1</td>\n",
              "      <td>words</td>\n",
              "      <td>s</td>\n",
              "      <td>s</td>\n",
              "      <td>1.551911</td>\n",
              "    </tr>\n",
              "  </tbody>\n",
              "</table>\n",
              "</div>"
            ],
            "text/plain": [
              "   vpn_number  trial condition correct_key key        rt\n",
              "7           7      7  pictures           l   l  1.029200\n",
              "0           1      0  pictures           l   s  1.601210\n",
              "6           1      6     words           s   s  1.797997\n",
              "0           8      0     words           s   s  3.205947\n",
              "1           8      1     words           s   s  1.551911"
            ]
          },
          "metadata": {
            "tags": []
          },
          "execution_count": 34
        }
      ]
    },
    {
      "cell_type": "markdown",
      "metadata": {
        "id": "R62o08K5S4L5"
      },
      "source": [
        "To visually check if certain values might be an outlier or not, we can use a quick and tbh not very aesthetic vizualisation by using ```dataframe[some_colum].plot(kind=\"box\" or \"hist\" or \"bar\" or or or ...)```"
      ]
    },
    {
      "cell_type": "code",
      "metadata": {
        "colab": {
          "base_uri": "https://localhost:8080/",
          "height": 282
        },
        "id": "AC3axaP4S4L5",
        "outputId": "cec7c850-74e6-4161-ef14-19157bc7b2a2"
      },
      "source": [
        "df[\"rt\"].plot(kind=\"box\")"
      ],
      "execution_count": 35,
      "outputs": [
        {
          "output_type": "execute_result",
          "data": {
            "text/plain": [
              "<matplotlib.axes._subplots.AxesSubplot at 0x7f61dee743c8>"
            ]
          },
          "metadata": {
            "tags": []
          },
          "execution_count": 35
        },
        {
          "output_type": "display_data",
          "data": {
            "image/png": "[encoded data removed]",
            "text/plain": [
              "<Figure size 432x288 with 1 Axes>"
            ]
          },
          "metadata": {
            "tags": [],
            "needs_background": "light"
          }
        }
      ]
    },
    {
      "cell_type": "markdown",
      "metadata": {
        "id": "qqnyVqXvS4L5"
      },
      "source": [
        "After the RT, let´s investigate the accuracy of our participants. To do so, we need to use the given information in our dataframe.\n",
        "\n",
        "\n",
        "Let´s create a new column *iscorrect* :"
      ]
    },
    {
      "cell_type": "code",
      "metadata": {
        "colab": {
          "base_uri": "https://localhost:8080/",
          "height": 206
        },
        "id": "-0-TkWyzS4L6",
        "outputId": "4d72c086-7a36-4a77-c2b6-67756f88085f"
      },
      "source": [
        "df[\"iscorrect\"] = df[\"correct_key\"] == df[\"key\"] \n",
        "df.head()"
      ],
      "execution_count": 36,
      "outputs": [
        {
          "output_type": "execute_result",
          "data": {
            "text/html": [
              "<div>\n",
              "<style scoped>\n",
              "    .dataframe tbody tr th:only-of-type {\n",
              "        vertical-align: middle;\n",
              "    }\n",
              "\n",
              "    .dataframe tbody tr th {\n",
              "        vertical-align: top;\n",
              "    }\n",
              "\n",
              "    .dataframe thead th {\n",
              "        text-align: right;\n",
              "    }\n",
              "</style>\n",
              "<table border=\"1\" class=\"dataframe\">\n",
              "  <thead>\n",
              "    <tr style=\"text-align: right;\">\n",
              "      <th></th>\n",
              "      <th>vpn_number</th>\n",
              "      <th>trial</th>\n",
              "      <th>condition</th>\n",
              "      <th>correct_key</th>\n",
              "      <th>key</th>\n",
              "      <th>rt</th>\n",
              "      <th>iscorrect</th>\n",
              "    </tr>\n",
              "  </thead>\n",
              "  <tbody>\n",
              "    <tr>\n",
              "      <th>0</th>\n",
              "      <td>7</td>\n",
              "      <td>0</td>\n",
              "      <td>words</td>\n",
              "      <td>s</td>\n",
              "      <td>s</td>\n",
              "      <td>0.951164</td>\n",
              "      <td>True</td>\n",
              "    </tr>\n",
              "    <tr>\n",
              "      <th>1</th>\n",
              "      <td>7</td>\n",
              "      <td>1</td>\n",
              "      <td>pictures</td>\n",
              "      <td>l</td>\n",
              "      <td>l</td>\n",
              "      <td>0.764862</td>\n",
              "      <td>True</td>\n",
              "    </tr>\n",
              "    <tr>\n",
              "      <th>2</th>\n",
              "      <td>7</td>\n",
              "      <td>2</td>\n",
              "      <td>pictures</td>\n",
              "      <td>l</td>\n",
              "      <td>s</td>\n",
              "      <td>0.647508</td>\n",
              "      <td>False</td>\n",
              "    </tr>\n",
              "    <tr>\n",
              "      <th>3</th>\n",
              "      <td>7</td>\n",
              "      <td>3</td>\n",
              "      <td>words</td>\n",
              "      <td>s</td>\n",
              "      <td>s</td>\n",
              "      <td>0.789708</td>\n",
              "      <td>True</td>\n",
              "    </tr>\n",
              "    <tr>\n",
              "      <th>4</th>\n",
              "      <td>7</td>\n",
              "      <td>4</td>\n",
              "      <td>words</td>\n",
              "      <td>s</td>\n",
              "      <td>s</td>\n",
              "      <td>0.658317</td>\n",
              "      <td>True</td>\n",
              "    </tr>\n",
              "  </tbody>\n",
              "</table>\n",
              "</div>"
            ],
            "text/plain": [
              "   vpn_number  trial condition correct_key key        rt  iscorrect\n",
              "0           7      0     words           s   s  0.951164       True\n",
              "1           7      1  pictures           l   l  0.764862       True\n",
              "2           7      2  pictures           l   s  0.647508      False\n",
              "3           7      3     words           s   s  0.789708       True\n",
              "4           7      4     words           s   s  0.658317       True"
            ]
          },
          "metadata": {
            "tags": []
          },
          "execution_count": 36
        }
      ]
    },
    {
      "cell_type": "markdown",
      "metadata": {
        "id": "MhiWL3h8S4L6"
      },
      "source": [
        "How can we assess the overall mean accuracy in our experiment? \n",
        "\n",
        "Why can we assess it in this way?"
      ]
    },
    {
      "cell_type": "code",
      "metadata": {
        "colab": {
          "base_uri": "https://localhost:8080/"
        },
        "id": "dk3OtVU5S4L6",
        "outputId": "579c22a4-2f9d-4828-ec18-51ed6de5d7d7"
      },
      "source": [
        "df[\"iscorrect\"].mean()"
      ],
      "execution_count": 37,
      "outputs": [
        {
          "output_type": "execute_result",
          "data": {
            "text/plain": [
              "0.985"
            ]
          },
          "metadata": {
            "tags": []
          },
          "execution_count": 37
        }
      ]
    },
    {
      "cell_type": "markdown",
      "metadata": {
        "id": "q-CjjT9QS4L7"
      },
      "source": [
        "The overall accuracy is quite high, let´s see how each individual participant has performed. For this we can use ```dataframe.groupby([\"some_column\"]).method()```to split our dataframe, apply a function and combine the results"
      ]
    },
    {
      "cell_type": "code",
      "metadata": {
        "colab": {
          "base_uri": "https://localhost:8080/"
        },
        "id": "Ww9mvBghS4L8",
        "outputId": "02032128-85dc-4e55-8bd5-6e4e2afac1ea"
      },
      "source": [
        "accuracy = df.groupby(\"vpn_number\")[\"iscorrect\"].mean()\n",
        "accuracy"
      ],
      "execution_count": 39,
      "outputs": [
        {
          "output_type": "execute_result",
          "data": {
            "text/plain": [
              "vpn_number\n",
              "1    0.980000\n",
              "2    0.980000\n",
              "3    0.993333\n",
              "4    0.973333\n",
              "5    0.993333\n",
              "6    0.973333\n",
              "7    0.993333\n",
              "8    0.993333\n",
              "Name: iscorrect, dtype: float64"
            ]
          },
          "metadata": {
            "tags": []
          },
          "execution_count": 39
        }
      ]
    },
    {
      "cell_type": "markdown",
      "metadata": {
        "id": "AuPnDcM6S4L8"
      },
      "source": [
        "Now we would like to add the accuracy from our aggregated dataframe back to our \"non-aggregated\" dataframe. For this purpose we need a list that matches the length of our original dataframe"
      ]
    },
    {
      "cell_type": "markdown",
      "metadata": {
        "id": "mYremq6oS4L8"
      },
      "source": [
        "For this purpose we can use a list comprehension:"
      ]
    },
    {
      "cell_type": "code",
      "metadata": {
        "colab": {
          "base_uri": "https://localhost:8080/",
          "height": 206
        },
        "id": "MbESFtRdS4L8",
        "outputId": "61bcd748-3f35-4025-c1b8-12b58e4bbdce"
      },
      "source": [
        "acc_list=[]\n",
        "\n",
        "acc_list = [accuracy[vpn] for vpn in df[\"vpn_number\"]]\n",
        "\n",
        "df[\"accuracy\"] = acc_list    \n",
        "\n",
        "df.head() "
      ],
      "execution_count": 40,
      "outputs": [
        {
          "output_type": "execute_result",
          "data": {
            "text/html": [
              "<div>\n",
              "<style scoped>\n",
              "    .dataframe tbody tr th:only-of-type {\n",
              "        vertical-align: middle;\n",
              "    }\n",
              "\n",
              "    .dataframe tbody tr th {\n",
              "        vertical-align: top;\n",
              "    }\n",
              "\n",
              "    .dataframe thead th {\n",
              "        text-align: right;\n",
              "    }\n",
              "</style>\n",
              "<table border=\"1\" class=\"dataframe\">\n",
              "  <thead>\n",
              "    <tr style=\"text-align: right;\">\n",
              "      <th></th>\n",
              "      <th>vpn_number</th>\n",
              "      <th>trial</th>\n",
              "      <th>condition</th>\n",
              "      <th>correct_key</th>\n",
              "      <th>key</th>\n",
              "      <th>rt</th>\n",
              "      <th>iscorrect</th>\n",
              "      <th>accuracy</th>\n",
              "    </tr>\n",
              "  </thead>\n",
              "  <tbody>\n",
              "    <tr>\n",
              "      <th>0</th>\n",
              "      <td>7</td>\n",
              "      <td>0</td>\n",
              "      <td>words</td>\n",
              "      <td>s</td>\n",
              "      <td>s</td>\n",
              "      <td>0.951164</td>\n",
              "      <td>True</td>\n",
              "      <td>0.993333</td>\n",
              "    </tr>\n",
              "    <tr>\n",
              "      <th>1</th>\n",
              "      <td>7</td>\n",
              "      <td>1</td>\n",
              "      <td>pictures</td>\n",
              "      <td>l</td>\n",
              "      <td>l</td>\n",
              "      <td>0.764862</td>\n",
              "      <td>True</td>\n",
              "      <td>0.993333</td>\n",
              "    </tr>\n",
              "    <tr>\n",
              "      <th>2</th>\n",
              "      <td>7</td>\n",
              "      <td>2</td>\n",
              "      <td>pictures</td>\n",
              "      <td>l</td>\n",
              "      <td>s</td>\n",
              "      <td>0.647508</td>\n",
              "      <td>False</td>\n",
              "      <td>0.993333</td>\n",
              "    </tr>\n",
              "    <tr>\n",
              "      <th>3</th>\n",
              "      <td>7</td>\n",
              "      <td>3</td>\n",
              "      <td>words</td>\n",
              "      <td>s</td>\n",
              "      <td>s</td>\n",
              "      <td>0.789708</td>\n",
              "      <td>True</td>\n",
              "      <td>0.993333</td>\n",
              "    </tr>\n",
              "    <tr>\n",
              "      <th>4</th>\n",
              "      <td>7</td>\n",
              "      <td>4</td>\n",
              "      <td>words</td>\n",
              "      <td>s</td>\n",
              "      <td>s</td>\n",
              "      <td>0.658317</td>\n",
              "      <td>True</td>\n",
              "      <td>0.993333</td>\n",
              "    </tr>\n",
              "  </tbody>\n",
              "</table>\n",
              "</div>"
            ],
            "text/plain": [
              "   vpn_number  trial condition correct_key key        rt  iscorrect  accuracy\n",
              "0           7      0     words           s   s  0.951164       True  0.993333\n",
              "1           7      1  pictures           l   l  0.764862       True  0.993333\n",
              "2           7      2  pictures           l   s  0.647508      False  0.993333\n",
              "3           7      3     words           s   s  0.789708       True  0.993333\n",
              "4           7      4     words           s   s  0.658317       True  0.993333"
            ]
          },
          "metadata": {
            "tags": []
          },
          "execution_count": 40
        }
      ]
    },
    {
      "cell_type": "markdown",
      "metadata": {
        "id": "RPXrF5iPS4L8"
      },
      "source": [
        "But also a for loop:"
      ]
    },
    {
      "cell_type": "code",
      "metadata": {
        "id": "nMK4AWPeS4L8",
        "outputId": "c2dfa43a-daca-4f7c-c2b1-8469a0571b95"
      },
      "source": [
        "acc_list=[]\n",
        "\n",
        "for vpn in df[\"vpn_number\"]:\n",
        "    acc_list.append(accuracy[vpn])\n",
        "    \n",
        "df[\"accuracy\"] = acc_list    \n",
        "    \n",
        "df.head()    "
      ],
      "execution_count": null,
      "outputs": [
        {
          "output_type": "execute_result",
          "data": {
            "text/html": [
              "<div>\n",
              "<style scoped>\n",
              "    .dataframe tbody tr th:only-of-type {\n",
              "        vertical-align: middle;\n",
              "    }\n",
              "\n",
              "    .dataframe tbody tr th {\n",
              "        vertical-align: top;\n",
              "    }\n",
              "\n",
              "    .dataframe thead th {\n",
              "        text-align: right;\n",
              "    }\n",
              "</style>\n",
              "<table border=\"1\" class=\"dataframe\">\n",
              "  <thead>\n",
              "    <tr style=\"text-align: right;\">\n",
              "      <th></th>\n",
              "      <th>vpn_number</th>\n",
              "      <th>trial</th>\n",
              "      <th>condition</th>\n",
              "      <th>correct_key</th>\n",
              "      <th>key</th>\n",
              "      <th>rt</th>\n",
              "      <th>iscorrect</th>\n",
              "      <th>accuracy</th>\n",
              "    </tr>\n",
              "  </thead>\n",
              "  <tbody>\n",
              "    <tr>\n",
              "      <td>0</td>\n",
              "      <td>1</td>\n",
              "      <td>0</td>\n",
              "      <td>pictures</td>\n",
              "      <td>l</td>\n",
              "      <td>s</td>\n",
              "      <td>1.601210</td>\n",
              "      <td>False</td>\n",
              "      <td>0.98</td>\n",
              "    </tr>\n",
              "    <tr>\n",
              "      <td>1</td>\n",
              "      <td>1</td>\n",
              "      <td>1</td>\n",
              "      <td>pictures</td>\n",
              "      <td>l</td>\n",
              "      <td>l</td>\n",
              "      <td>0.809813</td>\n",
              "      <td>True</td>\n",
              "      <td>0.98</td>\n",
              "    </tr>\n",
              "    <tr>\n",
              "      <td>2</td>\n",
              "      <td>1</td>\n",
              "      <td>2</td>\n",
              "      <td>pictures</td>\n",
              "      <td>l</td>\n",
              "      <td>l</td>\n",
              "      <td>0.624212</td>\n",
              "      <td>True</td>\n",
              "      <td>0.98</td>\n",
              "    </tr>\n",
              "    <tr>\n",
              "      <td>3</td>\n",
              "      <td>1</td>\n",
              "      <td>3</td>\n",
              "      <td>pictures</td>\n",
              "      <td>l</td>\n",
              "      <td>l</td>\n",
              "      <td>0.537913</td>\n",
              "      <td>True</td>\n",
              "      <td>0.98</td>\n",
              "    </tr>\n",
              "    <tr>\n",
              "      <td>4</td>\n",
              "      <td>1</td>\n",
              "      <td>4</td>\n",
              "      <td>words</td>\n",
              "      <td>s</td>\n",
              "      <td>s</td>\n",
              "      <td>0.536464</td>\n",
              "      <td>True</td>\n",
              "      <td>0.98</td>\n",
              "    </tr>\n",
              "  </tbody>\n",
              "</table>\n",
              "</div>"
            ],
            "text/plain": [
              "   vpn_number  trial condition correct_key key        rt  iscorrect  accuracy\n",
              "0           1      0  pictures           l   s  1.601210      False      0.98\n",
              "1           1      1  pictures           l   l  0.809813       True      0.98\n",
              "2           1      2  pictures           l   l  0.624212       True      0.98\n",
              "3           1      3  pictures           l   l  0.537913       True      0.98\n",
              "4           1      4     words           s   s  0.536464       True      0.98"
            ]
          },
          "metadata": {
            "tags": []
          },
          "execution_count": 23
        }
      ]
    },
    {
      "cell_type": "markdown",
      "metadata": {
        "id": "2Lt-cjQxS4L9"
      },
      "source": [
        "We can add the error rate like this:"
      ]
    },
    {
      "cell_type": "code",
      "metadata": {
        "colab": {
          "base_uri": "https://localhost:8080/",
          "height": 206
        },
        "id": "tlfNPKcaS4L9",
        "outputId": "a8814858-01d4-48f6-b5c2-52f8ed42df2e"
      },
      "source": [
        "df[\"error_rate\"] = 1 - df[\"accuracy\"]\n",
        "df.head()"
      ],
      "execution_count": 41,
      "outputs": [
        {
          "output_type": "execute_result",
          "data": {
            "text/html": [
              "<div>\n",
              "<style scoped>\n",
              "    .dataframe tbody tr th:only-of-type {\n",
              "        vertical-align: middle;\n",
              "    }\n",
              "\n",
              "    .dataframe tbody tr th {\n",
              "        vertical-align: top;\n",
              "    }\n",
              "\n",
              "    .dataframe thead th {\n",
              "        text-align: right;\n",
              "    }\n",
              "</style>\n",
              "<table border=\"1\" class=\"dataframe\">\n",
              "  <thead>\n",
              "    <tr style=\"text-align: right;\">\n",
              "      <th></th>\n",
              "      <th>vpn_number</th>\n",
              "      <th>trial</th>\n",
              "      <th>condition</th>\n",
              "      <th>correct_key</th>\n",
              "      <th>key</th>\n",
              "      <th>rt</th>\n",
              "      <th>iscorrect</th>\n",
              "      <th>accuracy</th>\n",
              "      <th>error_rate</th>\n",
              "    </tr>\n",
              "  </thead>\n",
              "  <tbody>\n",
              "    <tr>\n",
              "      <th>0</th>\n",
              "      <td>7</td>\n",
              "      <td>0</td>\n",
              "      <td>words</td>\n",
              "      <td>s</td>\n",
              "      <td>s</td>\n",
              "      <td>0.951164</td>\n",
              "      <td>True</td>\n",
              "      <td>0.993333</td>\n",
              "      <td>0.006667</td>\n",
              "    </tr>\n",
              "    <tr>\n",
              "      <th>1</th>\n",
              "      <td>7</td>\n",
              "      <td>1</td>\n",
              "      <td>pictures</td>\n",
              "      <td>l</td>\n",
              "      <td>l</td>\n",
              "      <td>0.764862</td>\n",
              "      <td>True</td>\n",
              "      <td>0.993333</td>\n",
              "      <td>0.006667</td>\n",
              "    </tr>\n",
              "    <tr>\n",
              "      <th>2</th>\n",
              "      <td>7</td>\n",
              "      <td>2</td>\n",
              "      <td>pictures</td>\n",
              "      <td>l</td>\n",
              "      <td>s</td>\n",
              "      <td>0.647508</td>\n",
              "      <td>False</td>\n",
              "      <td>0.993333</td>\n",
              "      <td>0.006667</td>\n",
              "    </tr>\n",
              "    <tr>\n",
              "      <th>3</th>\n",
              "      <td>7</td>\n",
              "      <td>3</td>\n",
              "      <td>words</td>\n",
              "      <td>s</td>\n",
              "      <td>s</td>\n",
              "      <td>0.789708</td>\n",
              "      <td>True</td>\n",
              "      <td>0.993333</td>\n",
              "      <td>0.006667</td>\n",
              "    </tr>\n",
              "    <tr>\n",
              "      <th>4</th>\n",
              "      <td>7</td>\n",
              "      <td>4</td>\n",
              "      <td>words</td>\n",
              "      <td>s</td>\n",
              "      <td>s</td>\n",
              "      <td>0.658317</td>\n",
              "      <td>True</td>\n",
              "      <td>0.993333</td>\n",
              "      <td>0.006667</td>\n",
              "    </tr>\n",
              "  </tbody>\n",
              "</table>\n",
              "</div>"
            ],
            "text/plain": [
              "   vpn_number  trial condition  ... iscorrect  accuracy  error_rate\n",
              "0           7      0     words  ...      True  0.993333    0.006667\n",
              "1           7      1  pictures  ...      True  0.993333    0.006667\n",
              "2           7      2  pictures  ...     False  0.993333    0.006667\n",
              "3           7      3     words  ...      True  0.993333    0.006667\n",
              "4           7      4     words  ...      True  0.993333    0.006667\n",
              "\n",
              "[5 rows x 9 columns]"
            ]
          },
          "metadata": {
            "tags": []
          },
          "execution_count": 41
        }
      ]
    },
    {
      "cell_type": "markdown",
      "metadata": {
        "id": "WsL-XH-kS4L9"
      },
      "source": [
        "Let´s see whether the RT differs between correct and false responses:"
      ]
    },
    {
      "cell_type": "code",
      "metadata": {
        "colab": {
          "base_uri": "https://localhost:8080/"
        },
        "id": "4mm4A0wdS4L9",
        "outputId": "6c5be8eb-7fe2-4ae4-fc20-8404bff9ebe4"
      },
      "source": [
        "df.groupby(\"iscorrect\")[\"rt\"].mean()"
      ],
      "execution_count": 44,
      "outputs": [
        {
          "output_type": "execute_result",
          "data": {
            "text/plain": [
              "iscorrect\n",
              "False    0.518537\n",
              "True     0.462129\n",
              "Name: rt, dtype: float64"
            ]
          },
          "metadata": {
            "tags": []
          },
          "execution_count": 44
        }
      ]
    },
    {
      "cell_type": "markdown",
      "metadata": {
        "id": "d9ns4URqS4L-"
      },
      "source": [
        "Since we already know that there is more than one correct way, let´s try to investigate the RT differences between correct and false responses by creating two new dataframes (i.e. df_corr and df_incorr) using ```dataframe.loc```"
      ]
    },
    {
      "cell_type": "code",
      "metadata": {
        "id": "5YJJyiVjS4L_"
      },
      "source": [
        "df_corr = df.loc[df[\"iscorrect\"]==True]\n",
        "df_incorr = df.loc[df[\"iscorrect\"]==False]"
      ],
      "execution_count": 45,
      "outputs": []
    },
    {
      "cell_type": "code",
      "metadata": {
        "colab": {
          "base_uri": "https://localhost:8080/"
        },
        "id": "yhcwLgU9S4L_",
        "outputId": "daba9e57-e8c8-4605-85b5-046d1b17d2c1"
      },
      "source": [
        "print(df_corr[\"rt\"].mean())\n",
        "print(round(df_incorr[\"rt\"].mean(),2))"
      ],
      "execution_count": 46,
      "outputs": [
        {
          "output_type": "stream",
          "text": [
            "0.46212875036218054\n",
            "0.52\n"
          ],
          "name": "stdout"
        }
      ]
    },
    {
      "cell_type": "markdown",
      "metadata": {
        "id": "T37fbuAiS4MA"
      },
      "source": [
        "We could also combine different statemens and e.g. group our dataframe by subjects and evaluate only the mean RT for correct trials. We can do this by using ```df.loc```+ ```df.groupby```"
      ]
    },
    {
      "cell_type": "code",
      "metadata": {
        "colab": {
          "base_uri": "https://localhost:8080/"
        },
        "id": "eAFcAHCJS4MA",
        "outputId": "e24877d5-472c-486d-cd57-520a2f98a0ec"
      },
      "source": [
        "mean_rt_corr_trials= df.loc[df[\"iscorrect\"] == True].groupby(\"vpn_number\")[\"rt\"].mean()\n",
        "mean_rt_corr_trials"
      ],
      "execution_count": 47,
      "outputs": [
        {
          "output_type": "execute_result",
          "data": {
            "text/plain": [
              "vpn_number\n",
              "1    0.486054\n",
              "2    0.442389\n",
              "3    0.432657\n",
              "4    0.431253\n",
              "5    0.435789\n",
              "6    0.465716\n",
              "7    0.430042\n",
              "8    0.572637\n",
              "Name: rt, dtype: float64"
            ]
          },
          "metadata": {
            "tags": []
          },
          "execution_count": 47
        }
      ]
    },
    {
      "cell_type": "code",
      "metadata": {
        "colab": {
          "base_uri": "https://localhost:8080/"
        },
        "id": "b82-vR2lS4MA",
        "outputId": "1ca19fc0-bfdd-463f-b784-6edf1991b08e"
      },
      "source": [
        "mean_rt_incorr_trials=df.loc[df[\"iscorrect\"] == False].groupby(\"vpn_number\")[\"rt\"].mean()\n",
        "mean_rt_incorr_trials"
      ],
      "execution_count": 49,
      "outputs": [
        {
          "output_type": "execute_result",
          "data": {
            "text/plain": [
              "vpn_number\n",
              "1    0.877357\n",
              "2    0.340185\n",
              "3    0.461866\n",
              "4    0.438650\n",
              "5    0.540642\n",
              "6    0.428457\n",
              "7    0.647508\n",
              "8    0.562604\n",
              "Name: rt, dtype: float64"
            ]
          },
          "metadata": {
            "tags": []
          },
          "execution_count": 49
        }
      ]
    },
    {
      "cell_type": "markdown",
      "metadata": {
        "id": "o_aIZrkCS4MB"
      },
      "source": [
        "Let´s visualize the our RT, but only for correct trials:"
      ]
    },
    {
      "cell_type": "code",
      "metadata": {
        "id": "HhCNvFM1S4MB"
      },
      "source": [
        "import seaborn as sns "
      ],
      "execution_count": 50,
      "outputs": []
    },
    {
      "cell_type": "code",
      "metadata": {
        "colab": {
          "base_uri": "https://localhost:8080/",
          "height": 300
        },
        "id": "Y5wDvn8KS4MB",
        "outputId": "469e7c68-8d33-4391-ecf8-6be3577b058c"
      },
      "source": [
        "sns.barplot(x=\"iscorrect\", y=\"rt\", data=df)"
      ],
      "execution_count": 51,
      "outputs": [
        {
          "output_type": "execute_result",
          "data": {
            "text/plain": [
              "<matplotlib.axes._subplots.AxesSubplot at 0x7f61d00a0048>"
            ]
          },
          "metadata": {
            "tags": []
          },
          "execution_count": 51
        },
        {
          "output_type": "display_data",
          "data": {
            "image/png": "[encoded data removed]",
            "text/plain": [
              "<Figure size 432x288 with 1 Axes>"
            ]
          },
          "metadata": {
            "tags": [],
            "needs_background": "light"
          }
        }
      ]
    },
    {
      "cell_type": "markdown",
      "metadata": {
        "id": "YMnia2wZS4MB"
      },
      "source": [
        "To further specify our plot, we can use set the hue (i.e. color coding in seaborn) to *condition*"
      ]
    },
    {
      "cell_type": "code",
      "metadata": {
        "colab": {
          "base_uri": "https://localhost:8080/",
          "height": 296
        },
        "id": "bTv5kSWTS4MB",
        "outputId": "09414725-6768-4f11-d9eb-eabcd9c1545a"
      },
      "source": [
        "sns.barplot(x=\"iscorrect\", y=\"rt\", hue=\"condition\", data=df)"
      ],
      "execution_count": 52,
      "outputs": [
        {
          "output_type": "execute_result",
          "data": {
            "text/plain": [
              "<matplotlib.axes._subplots.AxesSubplot at 0x7f61d001ceb8>"
            ]
          },
          "metadata": {
            "tags": []
          },
          "execution_count": 52
        },
        {
          "output_type": "display_data",
          "data": {
            "image/png": "[encoded data removed]",
            "text/plain": [
              "<Figure size 432x288 with 1 Axes>"
            ]
          },
          "metadata": {
            "tags": [],
            "needs_background": "light"
          }
        }
      ]
    },
    {
      "cell_type": "markdown",
      "metadata": {
        "id": "Y3we62qSS4MC"
      },
      "source": [
        "The visualization suggests that there is no difference between RT_correct and RT_incorrect. However, for educational purposes only, let´s calculate a paired t-test.\n",
        "\n",
        "Most statistics are covered in **stats** from the **scipy** module"
      ]
    },
    {
      "cell_type": "code",
      "metadata": {
        "id": "vYALZhY4S4MC"
      },
      "source": [
        "from scipy import stats"
      ],
      "execution_count": 53,
      "outputs": []
    },
    {
      "cell_type": "markdown",
      "metadata": {
        "id": "zB8z4AaOrKaK"
      },
      "source": [
        "T-Test:"
      ]
    },
    {
      "cell_type": "code",
      "metadata": {
        "colab": {
          "base_uri": "https://localhost:8080/"
        },
        "id": "AKsNHlcAS4MC",
        "outputId": "aa7a8988-0dcf-4e9d-f31a-f0e88c498026"
      },
      "source": [
        "stats.ttest_rel(mean_rt_incorr_trials, mean_rt_corr_trials)"
      ],
      "execution_count": 54,
      "outputs": [
        {
          "output_type": "execute_result",
          "data": {
            "text/plain": [
              "Ttest_relResult(statistic=1.327678033605088, pvalue=0.22594261344288613)"
            ]
          },
          "metadata": {
            "tags": []
          },
          "execution_count": 54
        }
      ]
    },
    {
      "cell_type": "markdown",
      "metadata": {
        "id": "UT46YNy1q2e2"
      },
      "source": [
        "Correlation:"
      ]
    },
    {
      "cell_type": "code",
      "metadata": {
        "id": "UKkQeMn-S4ME",
        "outputId": "6e455387-d634-42f3-82dd-1e1733d59868"
      },
      "source": [
        "stats.pearsonr(mean_rt_incorr_trials, mean_rt_corr_trials)"
      ],
      "execution_count": null,
      "outputs": [
        {
          "output_type": "execute_result",
          "data": {
            "text/plain": [
              "(0.2817824476045179, 0.4989590990286351)"
            ]
          },
          "metadata": {
            "tags": []
          },
          "execution_count": 44
        }
      ]
    },
    {
      "cell_type": "markdown",
      "metadata": {
        "id": "Fm6GI4bhS4ME"
      },
      "source": [
        "To save your new dataframe, you can use\n",
        "\n",
        "```pd.save(\"location_on_disk\", potential settings, such as, sep=) ```"
      ]
    },
    {
      "cell_type": "code",
      "metadata": {
        "id": "5gkc9fUxS4ME"
      },
      "source": [
        "df.to_csv(\"daten_python/final.csv\", sep=\",\")"
      ],
      "execution_count": 56,
      "outputs": []
    },
    {
      "cell_type": "code",
      "metadata": {
        "colab": {
          "base_uri": "https://localhost:8080/"
        },
        "id": "Nw7FPJRAS4ME",
        "outputId": "08d81339-73e7-4579-c7a3-cd8175b12e2b"
      },
      "source": [
        "os.listdir(\"daten_python\")"
      ],
      "execution_count": 58,
      "outputs": [
        {
          "output_type": "execute_result",
          "data": {
            "text/plain": [
              "['results7.csv',\n",
              " 'results3.csv',\n",
              " 'final.csv',\n",
              " 'results2.csv',\n",
              " 'results4.csv',\n",
              " 'results5.csv',\n",
              " 'results6.csv',\n",
              " 'results1.csv',\n",
              " 'results8.csv',\n",
              " '.DS_Store']"
            ]
          },
          "metadata": {
            "tags": []
          },
          "execution_count": 58
        }
      ]
    },
    {
      "cell_type": "code",
      "metadata": {
        "colab": {
          "base_uri": "https://localhost:8080/",
          "height": 17
        },
        "id": "NpysQrLLrlbz",
        "outputId": "88bff959-6b50-401d-ae59-e66b277f5ddc"
      },
      "source": [
        "files.download('daten_python/final.csv')  ### download to your machine! "
      ],
      "execution_count": 59,
      "outputs": [
        {
          "output_type": "display_data",
          "data": {
            "application/javascript": [
              "\n",
              "    async function download(id, filename, size) {\n",
              "      if (!google.colab.kernel.accessAllowed) {\n",
              "        return;\n",
              "      }\n",
              "      const div = document.createElement('div');\n",
              "      const label = document.createElement('label');\n",
              "      label.textContent = `Downloading \"${filename}\": `;\n",
              "      div.appendChild(label);\n",
              "      const progress = document.createElement('progress');\n",
              "      progress.max = size;\n",
              "      div.appendChild(progress);\n",
              "      document.body.appendChild(div);\n",
              "\n",
              "      const buffers = [];\n",
              "      let downloaded = 0;\n",
              "\n",
              "      const channel = await google.colab.kernel.comms.open(id);\n",
              "      // Send a message to notify the kernel that we're ready.\n",
              "      channel.send({})\n",
              "\n",
              "      for await (const message of channel.messages) {\n",
              "        // Send a message to notify the kernel that we're ready.\n",
              "        channel.send({})\n",
              "        if (message.buffers) {\n",
              "          for (const buffer of message.buffers) {\n",
              "            buffers.push(buffer);\n",
              "            downloaded += buffer.byteLength;\n",
              "            progress.value = downloaded;\n",
              "          }\n",
              "        }\n",
              "      }\n",
              "      const blob = new Blob(buffers, {type: 'application/binary'});\n",
              "      const a = document.createElement('a');\n",
              "      a.href = window.URL.createObjectURL(blob);\n",
              "      a.download = filename;\n",
              "      div.appendChild(a);\n",
              "      a.click();\n",
              "      div.remove();\n",
              "    }\n",
              "  "
            ],
            "text/plain": [
              "<IPython.core.display.Javascript object>"
            ]
          },
          "metadata": {
            "tags": []
          }
        },
        {
          "output_type": "display_data",
          "data": {
            "application/javascript": [
              "download(\"download_713b9f04-c206-44ef-b98d-d8fc21a7aa1b\", \"final.csv\", 92899)"
            ],
            "text/plain": [
              "<IPython.core.display.Javascript object>"
            ]
          },
          "metadata": {
            "tags": []
          }
        }
      ]
    },
    {
      "cell_type": "code",
      "metadata": {
        "id": "oEi4U66ErzMn"
      },
      "source": [
        ""
      ],
      "execution_count": null,
      "outputs": []
    }
  ]
}